{
 "cells": [
  {
   "cell_type": "markdown",
   "metadata": {
    "colab_type": "text",
    "id": "eUwjdXl3DExV"
   },
   "source": [
    "# Machine Learning Test\n",
    "\n",
    "You have 3 days to solve the test from the moment you receive it. \n",
    "\n",
    "Show us your skills !"
   ]
  },
  {
   "cell_type": "markdown",
   "metadata": {
    "colab_type": "text",
    "heading_collapsed": true,
    "id": "AxW2z7MlnR8k"
   },
   "source": [
    "## Problem description\n",
    "\n",
    "You are hired as a Data Scientist at a top real state company in California, and you first job is to develop an ML model to predict house prices. This model will then be used as an investment tool in your company, to buy houses when their price is lower than their real value or negotiating overprices."
   ]
  },
  {
   "cell_type": "markdown",
   "metadata": {
    "colab_type": "text",
    "id": "_-M6MImiDGr0"
   },
   "source": [
    "## Get the data\n",
    "\n",
    "Over the years, your company has been gathering some data that you can start using. It is available in the following link: https://mymldatasets.s3.eu-de.cloud-object-storage.appdomain.cloud/housing.tgz"
   ]
  },
  {
   "cell_type": "markdown",
   "metadata": {
    "ExecuteTime": {
     "end_time": "2020-09-18T18:27:36.347220Z",
     "start_time": "2020-09-18T18:27:36.333147Z"
    }
   },
   "source": [
    "## Imports"
   ]
  },
  {
   "cell_type": "code",
   "execution_count": 1,
   "metadata": {
    "ExecuteTime": {
     "end_time": "2020-09-19T07:36:59.087389Z",
     "start_time": "2020-09-19T07:36:57.322088Z"
    }
   },
   "outputs": [],
   "source": [
    "# Data Analysis\n",
    "import pandas as pd\n",
    "import numpy as np\n",
    "import math\n",
    "\n",
    "# Data Visualization\n",
    "import seaborn as sns\n",
    "import matplotlib.pyplot as plt\n",
    "\n",
    "# Preprocessing\n",
    "from sklearn.compose import ColumnTransformer\n",
    "from sklearn.datasets import fetch_openml\n",
    "from sklearn.pipeline import Pipeline\n",
    "from sklearn.impute import SimpleImputer\n",
    "from sklearn.preprocessing import StandardScaler, OneHotEncoder\n",
    "\n",
    "# Model training and evaluation\n",
    "from sklearn.model_selection import train_test_split, GridSearchCV, StratifiedKFold, cross_val_score\n",
    "from sklearn.metrics import r2_score, mean_squared_error, mean_absolute_error, explained_variance_score\n",
    "\n",
    "#Models\n",
    "from sklearn.linear_model import LinearRegression, Ridge, Lasso, ElasticNet, SGDRegressor ,RANSACRegressor\n",
    "from sklearn.svm import SVR, LinearSVR\n",
    "from sklearn.neighbors import KNeighborsRegressor\n",
    "from sklearn.gaussian_process import GaussianProcessRegressor\n",
    "from sklearn.tree import DecisionTreeRegressor\n",
    "from sklearn.ensemble import AdaBoostRegressor, BaggingRegressor, RandomForestRegressor, GradientBoostingRegressor\n",
    "from sklearn.neural_network import MLPRegressor\n",
    "\n",
    "# Ignore noise warning\n",
    "import warnings\n",
    "warnings.filterwarnings('ignore')\n",
    "\n",
    "# Work with pickles\n",
    "import pickle as pkl\n",
    "\n",
    "pd.set_option('display.max_column', None)"
   ]
  },
  {
   "cell_type": "markdown",
   "metadata": {
    "colab_type": "text",
    "id": "iYYYp-aLGXjz"
   },
   "source": [
    "## Explore the data\n",
    "\n",
    "Load the data to explore it. Try to answer the following questions:\n",
    "\n",
    "- How many features has the dataset ? What type are they ?\n",
    "- How many samples are in the dataset ? \n",
    "- Are there missing values ? \n",
    "- Is there any correlation between features ?"
   ]
  },
  {
   "cell_type": "code",
   "execution_count": 2,
   "metadata": {
    "ExecuteTime": {
     "end_time": "2020-09-19T07:36:59.193106Z",
     "start_time": "2020-09-19T07:36:59.109331Z"
    },
    "colab": {},
    "colab_type": "code",
    "id": "mlkllVbIpEjc"
   },
   "outputs": [
    {
     "data": {
      "text/html": [
       "<div>\n",
       "<style scoped>\n",
       "    .dataframe tbody tr th:only-of-type {\n",
       "        vertical-align: middle;\n",
       "    }\n",
       "\n",
       "    .dataframe tbody tr th {\n",
       "        vertical-align: top;\n",
       "    }\n",
       "\n",
       "    .dataframe thead th {\n",
       "        text-align: right;\n",
       "    }\n",
       "</style>\n",
       "<table border=\"1\" class=\"dataframe\">\n",
       "  <thead>\n",
       "    <tr style=\"text-align: right;\">\n",
       "      <th></th>\n",
       "      <th>longitude</th>\n",
       "      <th>latitude</th>\n",
       "      <th>housing_median_age</th>\n",
       "      <th>total_rooms</th>\n",
       "      <th>total_bedrooms</th>\n",
       "      <th>population</th>\n",
       "      <th>households</th>\n",
       "      <th>median_income</th>\n",
       "      <th>median_house_value</th>\n",
       "      <th>ocean_proximity</th>\n",
       "    </tr>\n",
       "  </thead>\n",
       "  <tbody>\n",
       "    <tr>\n",
       "      <th>0</th>\n",
       "      <td>-122.23</td>\n",
       "      <td>37.88</td>\n",
       "      <td>41.0</td>\n",
       "      <td>880.0</td>\n",
       "      <td>129.0</td>\n",
       "      <td>322.0</td>\n",
       "      <td>126.0</td>\n",
       "      <td>8.3252</td>\n",
       "      <td>452600.0</td>\n",
       "      <td>NEAR BAY</td>\n",
       "    </tr>\n",
       "    <tr>\n",
       "      <th>1</th>\n",
       "      <td>-122.22</td>\n",
       "      <td>37.86</td>\n",
       "      <td>21.0</td>\n",
       "      <td>7099.0</td>\n",
       "      <td>1106.0</td>\n",
       "      <td>2401.0</td>\n",
       "      <td>1138.0</td>\n",
       "      <td>8.3014</td>\n",
       "      <td>358500.0</td>\n",
       "      <td>NEAR BAY</td>\n",
       "    </tr>\n",
       "    <tr>\n",
       "      <th>2</th>\n",
       "      <td>-122.24</td>\n",
       "      <td>37.85</td>\n",
       "      <td>52.0</td>\n",
       "      <td>1467.0</td>\n",
       "      <td>190.0</td>\n",
       "      <td>496.0</td>\n",
       "      <td>177.0</td>\n",
       "      <td>7.2574</td>\n",
       "      <td>352100.0</td>\n",
       "      <td>NEAR BAY</td>\n",
       "    </tr>\n",
       "    <tr>\n",
       "      <th>3</th>\n",
       "      <td>-122.25</td>\n",
       "      <td>37.85</td>\n",
       "      <td>52.0</td>\n",
       "      <td>1274.0</td>\n",
       "      <td>235.0</td>\n",
       "      <td>558.0</td>\n",
       "      <td>219.0</td>\n",
       "      <td>5.6431</td>\n",
       "      <td>341300.0</td>\n",
       "      <td>NEAR BAY</td>\n",
       "    </tr>\n",
       "    <tr>\n",
       "      <th>4</th>\n",
       "      <td>-122.25</td>\n",
       "      <td>37.85</td>\n",
       "      <td>52.0</td>\n",
       "      <td>1627.0</td>\n",
       "      <td>280.0</td>\n",
       "      <td>565.0</td>\n",
       "      <td>259.0</td>\n",
       "      <td>3.8462</td>\n",
       "      <td>342200.0</td>\n",
       "      <td>NEAR BAY</td>\n",
       "    </tr>\n",
       "  </tbody>\n",
       "</table>\n",
       "</div>"
      ],
      "text/plain": [
       "   longitude  latitude  housing_median_age  total_rooms  total_bedrooms  \\\n",
       "0    -122.23     37.88                41.0        880.0           129.0   \n",
       "1    -122.22     37.86                21.0       7099.0          1106.0   \n",
       "2    -122.24     37.85                52.0       1467.0           190.0   \n",
       "3    -122.25     37.85                52.0       1274.0           235.0   \n",
       "4    -122.25     37.85                52.0       1627.0           280.0   \n",
       "\n",
       "   population  households  median_income  median_house_value ocean_proximity  \n",
       "0       322.0       126.0         8.3252            452600.0        NEAR BAY  \n",
       "1      2401.0      1138.0         8.3014            358500.0        NEAR BAY  \n",
       "2       496.0       177.0         7.2574            352100.0        NEAR BAY  \n",
       "3       558.0       219.0         5.6431            341300.0        NEAR BAY  \n",
       "4       565.0       259.0         3.8462            342200.0        NEAR BAY  "
      ]
     },
     "execution_count": 2,
     "metadata": {},
     "output_type": "execute_result"
    }
   ],
   "source": [
    "housing_df = pd.read_csv('data/housing.csv')\n",
    "housing_df.head()"
   ]
  },
  {
   "cell_type": "markdown",
   "metadata": {},
   "source": [
    "### How many features has the dataset? What type are they?"
   ]
  },
  {
   "cell_type": "code",
   "execution_count": 3,
   "metadata": {
    "ExecuteTime": {
     "end_time": "2020-09-19T07:37:01.425177Z",
     "start_time": "2020-09-19T07:37:01.319405Z"
    }
   },
   "outputs": [
    {
     "name": "stdout",
     "output_type": "stream",
     "text": [
      "<class 'pandas.core.frame.DataFrame'>\n",
      "RangeIndex: 20640 entries, 0 to 20639\n",
      "Data columns (total 10 columns):\n",
      " #   Column              Non-Null Count  Dtype  \n",
      "---  ------              --------------  -----  \n",
      " 0   longitude           20640 non-null  float64\n",
      " 1   latitude            20640 non-null  float64\n",
      " 2   housing_median_age  20640 non-null  float64\n",
      " 3   total_rooms         20640 non-null  float64\n",
      " 4   total_bedrooms      20433 non-null  float64\n",
      " 5   population          20640 non-null  float64\n",
      " 6   households          20640 non-null  float64\n",
      " 7   median_income       20640 non-null  float64\n",
      " 8   median_house_value  20640 non-null  float64\n",
      " 9   ocean_proximity     20640 non-null  object \n",
      "dtypes: float64(9), object(1)\n",
      "memory usage: 1.6+ MB\n"
     ]
    }
   ],
   "source": [
    "housing_df.info()"
   ]
  },
  {
   "cell_type": "markdown",
   "metadata": {},
   "source": [
    "### How many samples are in the dataset? "
   ]
  },
  {
   "cell_type": "code",
   "execution_count": 4,
   "metadata": {
    "ExecuteTime": {
     "end_time": "2020-09-19T07:37:03.126852Z",
     "start_time": "2020-09-19T07:37:03.121892Z"
    }
   },
   "outputs": [
    {
     "data": {
      "text/plain": [
       "(20640, 10)"
      ]
     },
     "execution_count": 4,
     "metadata": {},
     "output_type": "execute_result"
    }
   ],
   "source": [
    "housing_df.shape"
   ]
  },
  {
   "cell_type": "markdown",
   "metadata": {},
   "source": [
    "### Are there missing values?"
   ]
  },
  {
   "cell_type": "code",
   "execution_count": 5,
   "metadata": {
    "ExecuteTime": {
     "end_time": "2020-09-19T07:37:04.367088Z",
     "start_time": "2020-09-19T07:37:04.359082Z"
    }
   },
   "outputs": [
    {
     "data": {
      "text/plain": [
       "longitude               0\n",
       "latitude                0\n",
       "housing_median_age      0\n",
       "total_rooms             0\n",
       "total_bedrooms        207\n",
       "population              0\n",
       "households              0\n",
       "median_income           0\n",
       "median_house_value      0\n",
       "ocean_proximity         0\n",
       "dtype: int64"
      ]
     },
     "execution_count": 5,
     "metadata": {},
     "output_type": "execute_result"
    }
   ],
   "source": [
    "housing_df.isna().sum()"
   ]
  },
  {
   "cell_type": "markdown",
   "metadata": {},
   "source": [
    "### Let's check if there are duplicated values and outliers"
   ]
  },
  {
   "cell_type": "code",
   "execution_count": 6,
   "metadata": {
    "ExecuteTime": {
     "end_time": "2020-09-19T07:37:06.004146Z",
     "start_time": "2020-09-19T07:37:05.985199Z"
    }
   },
   "outputs": [
    {
     "data": {
      "text/plain": [
       "0"
      ]
     },
     "execution_count": 6,
     "metadata": {},
     "output_type": "execute_result"
    }
   ],
   "source": [
    "housing_df.duplicated().sum()"
   ]
  },
  {
   "cell_type": "code",
   "execution_count": 7,
   "metadata": {
    "ExecuteTime": {
     "end_time": "2020-09-19T07:37:07.037069Z",
     "start_time": "2020-09-19T07:37:06.426154Z"
    }
   },
   "outputs": [
    {
     "name": "stdout",
     "output_type": "stream",
     "text": [
      "(20640, 10)\n",
      "(6726, 11)\n"
     ]
    }
   ],
   "source": [
    "stats = housing_df.describe().transpose()\n",
    "stats[\"IQR\"] = stats[\"75%\"] - stats[\"25%\"]\n",
    "outliers = pd.DataFrame(columns=housing_df.columns)\n",
    "for col in stats.index:\n",
    "    iqr = stats.at[col, 'IQR']\n",
    "    cutoff = iqr * 1.5\n",
    "    lower = stats.at[col, '25%'] - cutoff\n",
    "    upper = stats.at[col, '75%'] + cutoff\n",
    "    results = housing_df[(housing_df[col] < lower) | (housing_df[col] > upper)].copy()\n",
    "    results['Outlier'] = col\n",
    "    outliers = outliers.append(results)\n",
    "print(housing_df.shape)\n",
    "print(outliers.shape)"
   ]
  },
  {
   "cell_type": "code",
   "execution_count": 11,
   "metadata": {
    "ExecuteTime": {
     "end_time": "2020-09-19T07:38:52.868668Z",
     "start_time": "2020-09-19T07:38:52.864651Z"
    }
   },
   "outputs": [
    {
     "name": "stdout",
     "output_type": "stream",
     "text": [
      "El 32.58720930232558 % de valores son outliers\n"
     ]
    }
   ],
   "source": [
    "print ('El', 6726/20640*100,'% de valores son outliers')"
   ]
  },
  {
   "cell_type": "markdown",
   "metadata": {},
   "source": [
    "### How much variablility this dataset's features have?"
   ]
  },
  {
   "cell_type": "code",
   "execution_count": 12,
   "metadata": {
    "ExecuteTime": {
     "end_time": "2020-09-19T07:38:56.046016Z",
     "start_time": "2020-09-19T07:38:55.923269Z"
    }
   },
   "outputs": [
    {
     "data": {
      "text/plain": [
       "longitude               844\n",
       "latitude                862\n",
       "housing_median_age       52\n",
       "total_rooms            5926\n",
       "total_bedrooms         1923\n",
       "population             3888\n",
       "households             1815\n",
       "median_income         12928\n",
       "median_house_value     3842\n",
       "ocean_proximity           5\n",
       "dtype: int64"
      ]
     },
     "execution_count": 12,
     "metadata": {},
     "output_type": "execute_result"
    }
   ],
   "source": [
    "housing_df.nunique()"
   ]
  },
  {
   "cell_type": "markdown",
   "metadata": {},
   "source": [
    "### Let's see some metrics statistics"
   ]
  },
  {
   "cell_type": "code",
   "execution_count": 13,
   "metadata": {
    "ExecuteTime": {
     "end_time": "2020-09-19T07:38:59.552246Z",
     "start_time": "2020-09-19T07:38:59.225640Z"
    }
   },
   "outputs": [],
   "source": [
    "housing_df.describe().to_csv('data/output_csv/descriptive_stats.csv')"
   ]
  },
  {
   "cell_type": "code",
   "execution_count": 14,
   "metadata": {
    "ExecuteTime": {
     "end_time": "2020-09-19T07:39:01.460176Z",
     "start_time": "2020-09-19T07:39:01.418314Z"
    }
   },
   "outputs": [
    {
     "data": {
      "text/html": [
       "<div>\n",
       "<style scoped>\n",
       "    .dataframe tbody tr th:only-of-type {\n",
       "        vertical-align: middle;\n",
       "    }\n",
       "\n",
       "    .dataframe tbody tr th {\n",
       "        vertical-align: top;\n",
       "    }\n",
       "\n",
       "    .dataframe thead th {\n",
       "        text-align: right;\n",
       "    }\n",
       "</style>\n",
       "<table border=\"1\" class=\"dataframe\">\n",
       "  <thead>\n",
       "    <tr style=\"text-align: right;\">\n",
       "      <th></th>\n",
       "      <th>longitude</th>\n",
       "      <th>latitude</th>\n",
       "      <th>housing_median_age</th>\n",
       "      <th>total_rooms</th>\n",
       "      <th>total_bedrooms</th>\n",
       "      <th>population</th>\n",
       "      <th>households</th>\n",
       "      <th>median_income</th>\n",
       "      <th>median_house_value</th>\n",
       "    </tr>\n",
       "  </thead>\n",
       "  <tbody>\n",
       "    <tr>\n",
       "      <th>count</th>\n",
       "      <td>20640.000000</td>\n",
       "      <td>20640.000000</td>\n",
       "      <td>20640.000000</td>\n",
       "      <td>20640.000000</td>\n",
       "      <td>20433.000000</td>\n",
       "      <td>20640.000000</td>\n",
       "      <td>20640.000000</td>\n",
       "      <td>20640.000000</td>\n",
       "      <td>20640.000000</td>\n",
       "    </tr>\n",
       "    <tr>\n",
       "      <th>mean</th>\n",
       "      <td>-119.569704</td>\n",
       "      <td>35.631861</td>\n",
       "      <td>28.639486</td>\n",
       "      <td>2635.763081</td>\n",
       "      <td>537.870553</td>\n",
       "      <td>1425.476744</td>\n",
       "      <td>499.539680</td>\n",
       "      <td>3.870671</td>\n",
       "      <td>206855.816909</td>\n",
       "    </tr>\n",
       "    <tr>\n",
       "      <th>std</th>\n",
       "      <td>2.003532</td>\n",
       "      <td>2.135952</td>\n",
       "      <td>12.585558</td>\n",
       "      <td>2181.615252</td>\n",
       "      <td>421.385070</td>\n",
       "      <td>1132.462122</td>\n",
       "      <td>382.329753</td>\n",
       "      <td>1.899822</td>\n",
       "      <td>115395.615874</td>\n",
       "    </tr>\n",
       "    <tr>\n",
       "      <th>min</th>\n",
       "      <td>-124.350000</td>\n",
       "      <td>32.540000</td>\n",
       "      <td>1.000000</td>\n",
       "      <td>2.000000</td>\n",
       "      <td>1.000000</td>\n",
       "      <td>3.000000</td>\n",
       "      <td>1.000000</td>\n",
       "      <td>0.499900</td>\n",
       "      <td>14999.000000</td>\n",
       "    </tr>\n",
       "    <tr>\n",
       "      <th>25%</th>\n",
       "      <td>-121.800000</td>\n",
       "      <td>33.930000</td>\n",
       "      <td>18.000000</td>\n",
       "      <td>1447.750000</td>\n",
       "      <td>296.000000</td>\n",
       "      <td>787.000000</td>\n",
       "      <td>280.000000</td>\n",
       "      <td>2.563400</td>\n",
       "      <td>119600.000000</td>\n",
       "    </tr>\n",
       "    <tr>\n",
       "      <th>50%</th>\n",
       "      <td>-118.490000</td>\n",
       "      <td>34.260000</td>\n",
       "      <td>29.000000</td>\n",
       "      <td>2127.000000</td>\n",
       "      <td>435.000000</td>\n",
       "      <td>1166.000000</td>\n",
       "      <td>409.000000</td>\n",
       "      <td>3.534800</td>\n",
       "      <td>179700.000000</td>\n",
       "    </tr>\n",
       "    <tr>\n",
       "      <th>75%</th>\n",
       "      <td>-118.010000</td>\n",
       "      <td>37.710000</td>\n",
       "      <td>37.000000</td>\n",
       "      <td>3148.000000</td>\n",
       "      <td>647.000000</td>\n",
       "      <td>1725.000000</td>\n",
       "      <td>605.000000</td>\n",
       "      <td>4.743250</td>\n",
       "      <td>264725.000000</td>\n",
       "    </tr>\n",
       "    <tr>\n",
       "      <th>max</th>\n",
       "      <td>-114.310000</td>\n",
       "      <td>41.950000</td>\n",
       "      <td>52.000000</td>\n",
       "      <td>39320.000000</td>\n",
       "      <td>6445.000000</td>\n",
       "      <td>35682.000000</td>\n",
       "      <td>6082.000000</td>\n",
       "      <td>15.000100</td>\n",
       "      <td>500001.000000</td>\n",
       "    </tr>\n",
       "  </tbody>\n",
       "</table>\n",
       "</div>"
      ],
      "text/plain": [
       "          longitude      latitude  housing_median_age   total_rooms  \\\n",
       "count  20640.000000  20640.000000        20640.000000  20640.000000   \n",
       "mean    -119.569704     35.631861           28.639486   2635.763081   \n",
       "std        2.003532      2.135952           12.585558   2181.615252   \n",
       "min     -124.350000     32.540000            1.000000      2.000000   \n",
       "25%     -121.800000     33.930000           18.000000   1447.750000   \n",
       "50%     -118.490000     34.260000           29.000000   2127.000000   \n",
       "75%     -118.010000     37.710000           37.000000   3148.000000   \n",
       "max     -114.310000     41.950000           52.000000  39320.000000   \n",
       "\n",
       "       total_bedrooms    population    households  median_income  \\\n",
       "count    20433.000000  20640.000000  20640.000000   20640.000000   \n",
       "mean       537.870553   1425.476744    499.539680       3.870671   \n",
       "std        421.385070   1132.462122    382.329753       1.899822   \n",
       "min          1.000000      3.000000      1.000000       0.499900   \n",
       "25%        296.000000    787.000000    280.000000       2.563400   \n",
       "50%        435.000000   1166.000000    409.000000       3.534800   \n",
       "75%        647.000000   1725.000000    605.000000       4.743250   \n",
       "max       6445.000000  35682.000000   6082.000000      15.000100   \n",
       "\n",
       "       median_house_value  \n",
       "count        20640.000000  \n",
       "mean        206855.816909  \n",
       "std         115395.615874  \n",
       "min          14999.000000  \n",
       "25%         119600.000000  \n",
       "50%         179700.000000  \n",
       "75%         264725.000000  \n",
       "max         500001.000000  "
      ]
     },
     "execution_count": 14,
     "metadata": {},
     "output_type": "execute_result"
    }
   ],
   "source": [
    "housing_df.describe()"
   ]
  },
  {
   "cell_type": "markdown",
   "metadata": {},
   "source": [
    "### Is there any correlation between features?"
   ]
  },
  {
   "cell_type": "code",
   "execution_count": 15,
   "metadata": {
    "ExecuteTime": {
     "end_time": "2020-09-19T07:39:06.388343Z",
     "start_time": "2020-09-19T07:39:06.365406Z"
    }
   },
   "outputs": [
    {
     "data": {
      "text/html": [
       "<div>\n",
       "<style scoped>\n",
       "    .dataframe tbody tr th:only-of-type {\n",
       "        vertical-align: middle;\n",
       "    }\n",
       "\n",
       "    .dataframe tbody tr th {\n",
       "        vertical-align: top;\n",
       "    }\n",
       "\n",
       "    .dataframe thead th {\n",
       "        text-align: right;\n",
       "    }\n",
       "</style>\n",
       "<table border=\"1\" class=\"dataframe\">\n",
       "  <thead>\n",
       "    <tr style=\"text-align: right;\">\n",
       "      <th></th>\n",
       "      <th>longitude</th>\n",
       "      <th>latitude</th>\n",
       "      <th>housing_median_age</th>\n",
       "      <th>total_rooms</th>\n",
       "      <th>total_bedrooms</th>\n",
       "      <th>population</th>\n",
       "      <th>households</th>\n",
       "      <th>median_income</th>\n",
       "      <th>median_house_value</th>\n",
       "    </tr>\n",
       "  </thead>\n",
       "  <tbody>\n",
       "    <tr>\n",
       "      <th>longitude</th>\n",
       "      <td>1.000000</td>\n",
       "      <td>-0.924664</td>\n",
       "      <td>-0.108197</td>\n",
       "      <td>0.044568</td>\n",
       "      <td>0.069608</td>\n",
       "      <td>0.099773</td>\n",
       "      <td>0.055310</td>\n",
       "      <td>-0.015176</td>\n",
       "      <td>-0.045967</td>\n",
       "    </tr>\n",
       "    <tr>\n",
       "      <th>latitude</th>\n",
       "      <td>-0.924664</td>\n",
       "      <td>1.000000</td>\n",
       "      <td>0.011173</td>\n",
       "      <td>-0.036100</td>\n",
       "      <td>-0.066983</td>\n",
       "      <td>-0.108785</td>\n",
       "      <td>-0.071035</td>\n",
       "      <td>-0.079809</td>\n",
       "      <td>-0.144160</td>\n",
       "    </tr>\n",
       "    <tr>\n",
       "      <th>housing_median_age</th>\n",
       "      <td>-0.108197</td>\n",
       "      <td>0.011173</td>\n",
       "      <td>1.000000</td>\n",
       "      <td>-0.361262</td>\n",
       "      <td>-0.320451</td>\n",
       "      <td>-0.296244</td>\n",
       "      <td>-0.302916</td>\n",
       "      <td>-0.119034</td>\n",
       "      <td>0.105623</td>\n",
       "    </tr>\n",
       "    <tr>\n",
       "      <th>total_rooms</th>\n",
       "      <td>0.044568</td>\n",
       "      <td>-0.036100</td>\n",
       "      <td>-0.361262</td>\n",
       "      <td>1.000000</td>\n",
       "      <td>0.930380</td>\n",
       "      <td>0.857126</td>\n",
       "      <td>0.918484</td>\n",
       "      <td>0.198050</td>\n",
       "      <td>0.134153</td>\n",
       "    </tr>\n",
       "    <tr>\n",
       "      <th>total_bedrooms</th>\n",
       "      <td>0.069608</td>\n",
       "      <td>-0.066983</td>\n",
       "      <td>-0.320451</td>\n",
       "      <td>0.930380</td>\n",
       "      <td>1.000000</td>\n",
       "      <td>0.877747</td>\n",
       "      <td>0.979728</td>\n",
       "      <td>-0.007723</td>\n",
       "      <td>0.049686</td>\n",
       "    </tr>\n",
       "    <tr>\n",
       "      <th>population</th>\n",
       "      <td>0.099773</td>\n",
       "      <td>-0.108785</td>\n",
       "      <td>-0.296244</td>\n",
       "      <td>0.857126</td>\n",
       "      <td>0.877747</td>\n",
       "      <td>1.000000</td>\n",
       "      <td>0.907222</td>\n",
       "      <td>0.004834</td>\n",
       "      <td>-0.024650</td>\n",
       "    </tr>\n",
       "    <tr>\n",
       "      <th>households</th>\n",
       "      <td>0.055310</td>\n",
       "      <td>-0.071035</td>\n",
       "      <td>-0.302916</td>\n",
       "      <td>0.918484</td>\n",
       "      <td>0.979728</td>\n",
       "      <td>0.907222</td>\n",
       "      <td>1.000000</td>\n",
       "      <td>0.013033</td>\n",
       "      <td>0.065843</td>\n",
       "    </tr>\n",
       "    <tr>\n",
       "      <th>median_income</th>\n",
       "      <td>-0.015176</td>\n",
       "      <td>-0.079809</td>\n",
       "      <td>-0.119034</td>\n",
       "      <td>0.198050</td>\n",
       "      <td>-0.007723</td>\n",
       "      <td>0.004834</td>\n",
       "      <td>0.013033</td>\n",
       "      <td>1.000000</td>\n",
       "      <td>0.688075</td>\n",
       "    </tr>\n",
       "    <tr>\n",
       "      <th>median_house_value</th>\n",
       "      <td>-0.045967</td>\n",
       "      <td>-0.144160</td>\n",
       "      <td>0.105623</td>\n",
       "      <td>0.134153</td>\n",
       "      <td>0.049686</td>\n",
       "      <td>-0.024650</td>\n",
       "      <td>0.065843</td>\n",
       "      <td>0.688075</td>\n",
       "      <td>1.000000</td>\n",
       "    </tr>\n",
       "  </tbody>\n",
       "</table>\n",
       "</div>"
      ],
      "text/plain": [
       "                    longitude  latitude  housing_median_age  total_rooms  \\\n",
       "longitude            1.000000 -0.924664           -0.108197     0.044568   \n",
       "latitude            -0.924664  1.000000            0.011173    -0.036100   \n",
       "housing_median_age  -0.108197  0.011173            1.000000    -0.361262   \n",
       "total_rooms          0.044568 -0.036100           -0.361262     1.000000   \n",
       "total_bedrooms       0.069608 -0.066983           -0.320451     0.930380   \n",
       "population           0.099773 -0.108785           -0.296244     0.857126   \n",
       "households           0.055310 -0.071035           -0.302916     0.918484   \n",
       "median_income       -0.015176 -0.079809           -0.119034     0.198050   \n",
       "median_house_value  -0.045967 -0.144160            0.105623     0.134153   \n",
       "\n",
       "                    total_bedrooms  population  households  median_income  \\\n",
       "longitude                 0.069608    0.099773    0.055310      -0.015176   \n",
       "latitude                 -0.066983   -0.108785   -0.071035      -0.079809   \n",
       "housing_median_age       -0.320451   -0.296244   -0.302916      -0.119034   \n",
       "total_rooms               0.930380    0.857126    0.918484       0.198050   \n",
       "total_bedrooms            1.000000    0.877747    0.979728      -0.007723   \n",
       "population                0.877747    1.000000    0.907222       0.004834   \n",
       "households                0.979728    0.907222    1.000000       0.013033   \n",
       "median_income            -0.007723    0.004834    0.013033       1.000000   \n",
       "median_house_value        0.049686   -0.024650    0.065843       0.688075   \n",
       "\n",
       "                    median_house_value  \n",
       "longitude                    -0.045967  \n",
       "latitude                     -0.144160  \n",
       "housing_median_age            0.105623  \n",
       "total_rooms                   0.134153  \n",
       "total_bedrooms                0.049686  \n",
       "population                   -0.024650  \n",
       "households                    0.065843  \n",
       "median_income                 0.688075  \n",
       "median_house_value            1.000000  "
      ]
     },
     "execution_count": 15,
     "metadata": {},
     "output_type": "execute_result"
    }
   ],
   "source": [
    "housing_df.corr()"
   ]
  },
  {
   "cell_type": "markdown",
   "metadata": {
    "colab_type": "text",
    "id": "8U-FQvVmga21"
   },
   "source": [
    "## Visualize the data\n",
    "\n",
    "Try to come up with the best possible visualizations (most informative) for the dataset."
   ]
  },
  {
   "cell_type": "code",
   "execution_count": 16,
   "metadata": {
    "ExecuteTime": {
     "end_time": "2020-09-19T07:39:12.958178Z",
     "start_time": "2020-09-19T07:39:09.255192Z"
    }
   },
   "outputs": [
    {
     "data": {
      "image/png": "[encoded data removed]",
      "text/plain": [
       "<Figure size 1152x864 with 9 Axes>"
      ]
     },
     "metadata": {
      "needs_background": "light"
     },
     "output_type": "display_data"
    }
   ],
   "source": [
    "housing_df.hist(figsize=(16,12), bins=50)\n",
    "plt.savefig('images/output_images/housing_hist.png')\n",
    "sns.set_context(\"talk\")\n",
    "plt.show()"
   ]
  },
  {
   "cell_type": "code",
   "execution_count": 17,
   "metadata": {
    "ExecuteTime": {
     "end_time": "2020-09-19T07:39:13.402020Z",
     "start_time": "2020-09-19T07:39:13.061901Z"
    }
   },
   "outputs": [
    {
     "data": {
      "image/png": "[encoded data removed]",
      "text/plain": [
       "<Figure size 720x576 with 1 Axes>"
      ]
     },
     "metadata": {
      "needs_background": "light"
     },
     "output_type": "display_data"
    }
   ],
   "source": [
    "plt.figure(figsize=(10,8))\n",
    "sns.distplot(housing_df['median_house_value'],color='purple')\n",
    "plt.savefig('images/output_images/value_dist.png')\n",
    "sns.set_context(\"talk\")\n",
    "plt.show()"
   ]
  },
  {
   "cell_type": "code",
   "execution_count": 18,
   "metadata": {
    "ExecuteTime": {
     "end_time": "2020-09-19T07:39:15.873866Z",
     "start_time": "2020-09-19T07:39:13.497755Z"
    }
   },
   "outputs": [
    {
     "data": {
      "image/png": "[encoded data removed]",
      "text/plain": [
       "<Figure size 1152x576 with 2 Axes>"
      ]
     },
     "metadata": {
      "needs_background": "light"
     },
     "output_type": "display_data"
    }
   ],
   "source": [
    "mask = np.triu(np.ones_like(housing_df.corr(), dtype=np.bool))\n",
    "plt.figure(figsize=(16,8), constrained_layout=True)\n",
    "sns.heatmap(housing_df.corr(),square=True, cmap='coolwarm', vmin=-1, vmax=1, mask=mask, annot=True, annot_kws={\"size\": 12}) \n",
    "plt.savefig('images/output_images/housing_corr.png')\n",
    "sns.set_context(\"talk\")\n",
    "plt.show()"
   ]
  },
  {
   "cell_type": "markdown",
   "metadata": {},
   "source": [
    "Las mayores correlaciones se dan entre:\n",
    "\n",
    "* median_income y median_hause_value (igual no puedo usar el propio target)\n",
    "\n",
    "* total_rooms y total_bedrooms, total_rooms y population, y total_rooms y households\n",
    "\n",
    "* total_bedrooms y population, y total_bedrooms y households\n",
    "\n",
    "* population y households\n",
    "\n",
    "* median_income y median_hause_value (pero no la puedo usar al contener el propio target)"
   ]
  },
  {
   "cell_type": "code",
   "execution_count": 19,
   "metadata": {
    "ExecuteTime": {
     "end_time": "2020-09-19T07:39:17.703670Z",
     "start_time": "2020-09-19T07:39:15.974597Z"
    }
   },
   "outputs": [
    {
     "data": {
      "image/png": "[encoded data removed]",
      "text/plain": [
       "<Figure size 1152x576 with 2 Axes>"
      ]
     },
     "metadata": {
      "needs_background": "light"
     },
     "output_type": "display_data"
    }
   ],
   "source": [
    "housing_df.plot(kind=\"scatter\", x=\"longitude\", y=\"latitude\", s=housing_df[\"population\"]/100, \n",
    "             label=\"population\", c=\"median_house_value\", cmap='coolwarm', colorbar=True, figsize=(16,8))\n",
    "plt.savefig('images/output_images/housing_pop_per_loc.png')\n",
    "sns.set_context(\"talk\")\n",
    "plt.show()"
   ]
  },
  {
   "cell_type": "markdown",
   "metadata": {},
   "source": [
    "La ubicación no correlaciona mucho con el precio, pero aquí vemos como los precios en grandes urbes y cercanos a la costa (**San Francisco** y alrededores, **Los Angeles** y alrededores, así como **San Diego** y cercanías) concentran las casas de mayor valor de mercado"
   ]
  },
  {
   "cell_type": "markdown",
   "metadata": {
    "colab_type": "text",
    "id": "nEORu4Afjv13"
   },
   "source": [
    "## Feature engineering\n",
    "\n",
    "Try to combine several features into new ones and see if they have better correlation."
   ]
  },
  {
   "cell_type": "code",
   "execution_count": 20,
   "metadata": {
    "ExecuteTime": {
     "end_time": "2020-09-19T07:39:17.810376Z",
     "start_time": "2020-09-19T07:39:17.807357Z"
    }
   },
   "outputs": [],
   "source": [
    "housing_df_newfeat = housing_df.copy()"
   ]
  },
  {
   "cell_type": "code",
   "execution_count": 21,
   "metadata": {
    "ExecuteTime": {
     "end_time": "2020-09-19T07:39:18.523083Z",
     "start_time": "2020-09-19T07:39:18.510086Z"
    }
   },
   "outputs": [],
   "source": [
    "housing_df_newfeat[\"income_per_house_val\"] = housing_df_newfeat[\"median_income\"]/housing_df_newfeat[\"median_house_value\"]\n",
    "\n",
    "housing_df_newfeat[\"rooms_per_bedroom\"] = housing_df_newfeat[\"total_rooms\"]/housing_df_newfeat[\"total_bedrooms\"]\n",
    "housing_df_newfeat[\"rooms_per_population\"] = housing_df_newfeat[\"total_rooms\"]/housing_df_newfeat[\"population\"]\n",
    "housing_df_newfeat[\"rooms_per_household\"]=housing_df_newfeat[\"total_rooms\"]/housing_df_newfeat[\"households\"]\n",
    "\n",
    "housing_df_newfeat[\"bedrooms_per_population\"] = housing_df_newfeat[\"total_bedrooms\"]/housing_df_newfeat[\"population\"]\n",
    "housing_df_newfeat[\"bedrooms_per_household\"] = housing_df_newfeat[\"total_bedrooms\"]/housing_df_newfeat[\"households\"]"
   ]
  },
  {
   "cell_type": "code",
   "execution_count": 22,
   "metadata": {
    "ExecuteTime": {
     "end_time": "2020-09-19T07:39:19.110862Z",
     "start_time": "2020-09-19T07:39:18.998854Z"
    },
    "colab": {},
    "colab_type": "code",
    "id": "GwDIy3U9j4KX"
   },
   "outputs": [
    {
     "name": "stdout",
     "output_type": "stream",
     "text": [
      "median_house_value         1.000000\n",
      "median_income              0.688075\n",
      "rooms_per_bedroom          0.383920\n",
      "rooms_per_population       0.209482\n",
      "rooms_per_household        0.151948\n",
      "total_rooms                0.134153\n",
      "housing_median_age         0.105623\n",
      "bedrooms_per_population    0.069896\n",
      "households                 0.065843\n",
      "total_bedrooms             0.049686\n",
      "population                -0.024650\n",
      "longitude                 -0.045967\n",
      "bedrooms_per_household    -0.046739\n",
      "latitude                  -0.144160\n",
      "income_per_house_val      -0.518606\n",
      "Name: median_house_value, dtype: float64\n"
     ]
    }
   ],
   "source": [
    "corr = housing_df_newfeat.corr()\n",
    "print(corr['median_house_value'].sort_values(ascending = False))"
   ]
  },
  {
   "cell_type": "markdown",
   "metadata": {},
   "source": [
    "Mayor correlación  con target, independientemente del signo, que las predecesoras:\n",
    "\n",
    "* rooms_per_bedroom\n",
    "* rooms_per_population\n",
    "* rooms_per_household\n",
    "* bedrooms_per_population\n",
    "\n",
    "Menor correlación  con target, independientemente del signo, que las predecesoras:\n",
    "* population_per_household \n",
    "* bedrooms_per_household"
   ]
  },
  {
   "cell_type": "markdown",
   "metadata": {
    "colab_type": "text",
    "id": "exR9_u1FkPjV"
   },
   "source": [
    "## Prepare the data for ML algorithms\n",
    "\n",
    "Using [Scikit-learn](https://scikit-learn.org/stable/) build a pipeline for data preparation. The pipeline should include:\n",
    "\n",
    "- Data cleaning\n",
    "- Encoding of categorical features\n",
    "- Feature scaling"
   ]
  },
  {
   "cell_type": "markdown",
   "metadata": {},
   "source": [
    "### Building the pipeline"
   ]
  },
  {
   "cell_type": "code",
   "execution_count": 23,
   "metadata": {
    "ExecuteTime": {
     "end_time": "2020-09-19T07:39:21.649787Z",
     "start_time": "2020-09-19T07:39:21.643774Z"
    }
   },
   "outputs": [],
   "source": [
    "X = housing_df_newfeat.drop(['median_house_value'], axis=1)\n",
    "y = housing_df_newfeat['median_house_value']"
   ]
  },
  {
   "cell_type": "code",
   "execution_count": 24,
   "metadata": {
    "ExecuteTime": {
     "end_time": "2020-09-19T07:39:22.796470Z",
     "start_time": "2020-09-19T07:39:22.789487Z"
    }
   },
   "outputs": [],
   "source": [
    "numeric_features = ['longitude', 'latitude', 'housing_median_age', 'total_rooms', 'total_bedrooms', 'population',\n",
    "                    'households', 'median_income', 'income_per_house_val', 'rooms_per_bedroom', 'rooms_per_population',\n",
    "                    'rooms_per_household', 'bedrooms_per_population', 'bedrooms_per_household']\n",
    "numeric_transformer = Pipeline(steps=[('imputer', SimpleImputer(strategy='median')), \n",
    "                                      ('scaler', StandardScaler())])\n",
    "\n",
    "categorical_features = ['ocean_proximity']\n",
    "categorical_transformer = Pipeline(steps=[('imputer', SimpleImputer(strategy='constant', fill_value='missing')),\n",
    "                                          ('onehot', OneHotEncoder(handle_unknown='ignore'))])\n",
    "\n",
    "preprocessing_pipeline = ColumnTransformer(transformers=[('num', numeric_transformer, numeric_features),\n",
    "                                                          ('cat', categorical_transformer, categorical_features)])"
   ]
  },
  {
   "cell_type": "code",
   "execution_count": 25,
   "metadata": {
    "ExecuteTime": {
     "end_time": "2020-09-19T07:39:23.575215Z",
     "start_time": "2020-09-19T07:39:23.509393Z"
    }
   },
   "outputs": [],
   "source": [
    "X_prep = preprocessing_pipeline.fit_transform(X)"
   ]
  },
  {
   "cell_type": "markdown",
   "metadata": {
    "colab_type": "text",
    "id": "GP_wC3verWgL"
   },
   "source": [
    "## Train some models\n",
    "\n",
    "Train a list of models on default parameters to get a quick idea of the performance of each one with the dataset. Compare their performance and keep the top 3-5 models for the next step."
   ]
  },
  {
   "cell_type": "code",
   "execution_count": 26,
   "metadata": {
    "ExecuteTime": {
     "end_time": "2020-09-19T07:39:26.047788Z",
     "start_time": "2020-09-19T07:39:26.038784Z"
    }
   },
   "outputs": [
    {
     "name": "stdout",
     "output_type": "stream",
     "text": [
      "(16512, 19) (16512,) (4128, 19) (4128,)\n"
     ]
    }
   ],
   "source": [
    "X_train, X_test, y_train, y_test = train_test_split(X_prep, y, random_state=42, test_size=0.2)\n",
    "print ((X_train.shape),(y_train.shape),(X_test.shape),(y_test.shape))"
   ]
  },
  {
   "cell_type": "code",
   "execution_count": 27,
   "metadata": {
    "ExecuteTime": {
     "end_time": "2020-09-19T07:39:26.625746Z",
     "start_time": "2020-09-19T07:39:26.616774Z"
    }
   },
   "outputs": [],
   "source": [
    "def baseline_report(model, X_train, X_test, y_train, y_test, name):\n",
    "    strat_k_fold = StratifiedKFold(n_splits=5, shuffle=True)\n",
    "    model.fit(X_train, y_train)\n",
    "    r2_score                 = np.mean(cross_val_score(model, X_train, y_train, cv=strat_k_fold, \n",
    "                                                       scoring='r2', n_jobs=-2))\n",
    "    explained_variance_score = np.mean(cross_val_score(model, X_train, y_train, cv=strat_k_fold, \n",
    "                                                       scoring='explained_variance', n_jobs=-2))\n",
    "    mean_squared_error       = np.mean(cross_val_score(model, X_train, y_train, cv=strat_k_fold, \n",
    "                                                       scoring='neg_mean_squared_error', n_jobs=-2))\n",
    "    mean_absolute_error      = np.mean(cross_val_score(model, X_train, y_train, cv=strat_k_fold, \n",
    "                                                       scoring='neg_mean_absolute_error', n_jobs=-2))\n",
    "    y_pred = model.predict(X_test)\n",
    "\n",
    "    df_model = pd.DataFrame({'model'                       : [name],\n",
    "                             'r2'                          : [r2_score],\n",
    "                             'explained_variance'          : [explained_variance_score],\n",
    "                             'neg_mean_squared_error'      : [mean_squared_error],\n",
    "                             'neg_mean_absolute_error'     : [mean_absolute_error],\n",
    "                            })   \n",
    "    return df_model"
   ]
  },
  {
   "cell_type": "code",
   "execution_count": 28,
   "metadata": {
    "ExecuteTime": {
     "end_time": "2020-09-19T07:39:27.084299Z",
     "start_time": "2020-09-19T07:39:27.080310Z"
    }
   },
   "outputs": [],
   "source": [
    "models = {'LinearRegression': LinearRegression(),\n",
    "          'Ridge': Ridge(),\n",
    "          'Lasso': Lasso(),\n",
    "          'ElasticNet': ElasticNet(),\n",
    "          #'SGDRegressor': SGDRegressor(),\n",
    "          #'RANSACRegressor': RANSACRegressor(),\n",
    "          #'SVR': SVR(),\n",
    "          #'LinearSVR': LinearSVR(),\n",
    "          #'KNeighborsRegressor': KNeighborsRegressor(),\n",
    "          #'GaussianProcessRegressor':GaussianProcessRegressor(),\n",
    "          #'DecisionTreeRegressor': DecisionTreeRegressor(),\n",
    "          #'AdaBoostRegressor': AdaBoostRegressor(),\n",
    "          #'BaggingRegressor': BaggingRegressor(),\n",
    "          #'RandomForestRegressor': RandomForestRegressor(),\n",
    "          #'GradientBoostingRegressor': GradientBoostingRegressor(),\n",
    "          #'MLPRegressor': MLPRegressor()\n",
    "         }"
   ]
  },
  {
   "cell_type": "code",
   "execution_count": 29,
   "metadata": {
    "ExecuteTime": {
     "end_time": "2020-09-19T07:39:44.826755Z",
     "start_time": "2020-09-19T07:39:32.101626Z"
    },
    "colab": {},
    "colab_type": "code",
    "id": "SC8hbJPnsec-"
   },
   "outputs": [
    {
     "data": {
      "text/html": [
       "<div>\n",
       "<style scoped>\n",
       "    .dataframe tbody tr th:only-of-type {\n",
       "        vertical-align: middle;\n",
       "    }\n",
       "\n",
       "    .dataframe tbody tr th {\n",
       "        vertical-align: top;\n",
       "    }\n",
       "\n",
       "    .dataframe thead th {\n",
       "        text-align: right;\n",
       "    }\n",
       "</style>\n",
       "<table border=\"1\" class=\"dataframe\">\n",
       "  <thead>\n",
       "    <tr style=\"text-align: right;\">\n",
       "      <th></th>\n",
       "      <th>model</th>\n",
       "      <th>r2</th>\n",
       "      <th>explained_variance</th>\n",
       "      <th>neg_mean_squared_error</th>\n",
       "      <th>neg_mean_absolute_error</th>\n",
       "    </tr>\n",
       "  </thead>\n",
       "  <tbody>\n",
       "    <tr>\n",
       "      <th>0</th>\n",
       "      <td>LinearRegression</td>\n",
       "      <td>0.841252</td>\n",
       "      <td>0.840692</td>\n",
       "      <td>-2.122277e+09</td>\n",
       "      <td>-30769.037849</td>\n",
       "    </tr>\n",
       "    <tr>\n",
       "      <th>0</th>\n",
       "      <td>Ridge</td>\n",
       "      <td>0.841557</td>\n",
       "      <td>0.839960</td>\n",
       "      <td>-2.126994e+09</td>\n",
       "      <td>-30751.696792</td>\n",
       "    </tr>\n",
       "    <tr>\n",
       "      <th>0</th>\n",
       "      <td>Lasso</td>\n",
       "      <td>0.840793</td>\n",
       "      <td>0.840743</td>\n",
       "      <td>-2.128543e+09</td>\n",
       "      <td>-30777.692319</td>\n",
       "    </tr>\n",
       "    <tr>\n",
       "      <th>0</th>\n",
       "      <td>ElasticNet</td>\n",
       "      <td>0.746049</td>\n",
       "      <td>0.746067</td>\n",
       "      <td>-3.395800e+09</td>\n",
       "      <td>-41788.302529</td>\n",
       "    </tr>\n",
       "  </tbody>\n",
       "</table>\n",
       "</div>"
      ],
      "text/plain": [
       "              model        r2  explained_variance  neg_mean_squared_error  \\\n",
       "0  LinearRegression  0.841252            0.840692           -2.122277e+09   \n",
       "0             Ridge  0.841557            0.839960           -2.126994e+09   \n",
       "0             Lasso  0.840793            0.840743           -2.128543e+09   \n",
       "0        ElasticNet  0.746049            0.746067           -3.395800e+09   \n",
       "\n",
       "   neg_mean_absolute_error  \n",
       "0            -30769.037849  \n",
       "0            -30751.696792  \n",
       "0            -30777.692319  \n",
       "0            -41788.302529  "
      ]
     },
     "execution_count": 29,
     "metadata": {},
     "output_type": "execute_result"
    }
   ],
   "source": [
    "models_df1 = pd.concat([baseline_report(model, X_train, X_test, y_train, y_test, name) for (name, model) in models.items()])\n",
    "models_df1.to_csv('data/output_csv/models_first.csv')\n",
    "models_df1"
   ]
  },
  {
   "cell_type": "code",
   "execution_count": 30,
   "metadata": {
    "ExecuteTime": {
     "end_time": "2020-09-19T07:40:47.603339Z",
     "start_time": "2020-09-19T07:40:47.598351Z"
    }
   },
   "outputs": [],
   "source": [
    "models = {#'LinearRegression': LinearRegression(),\n",
    "          #'Ridge': Ridge(),\n",
    "          #'Lasso': Lasso(),\n",
    "          #'ElasticNet': ElasticNet(),\n",
    "          'SGDRegressor': SGDRegressor(),\n",
    "          'RANSACRegressor': RANSACRegressor(),\n",
    "          'SVR': SVR(),\n",
    "          'LinearSVR': LinearSVR(),\n",
    "          #'KNeighborsRegressor': KNeighborsRegressor(),\n",
    "          #'GaussianProcessRegressor':GaussianProcessRegressor(),\n",
    "          #'DecisionTreeRegressor': DecisionTreeRegressor(),\n",
    "          #'AdaBoostRegressor': AdaBoostRegressor(),\n",
    "          #'BaggingRegressor': BaggingRegressor(),\n",
    "          #'RandomForestRegressor': RandomForestRegressor(),\n",
    "          #'GradientBoostingRegressor': GradientBoostingRegressor(),\n",
    "          #'MLPRegressor': MLPRegressor()\n",
    "         }"
   ]
  },
  {
   "cell_type": "code",
   "execution_count": 31,
   "metadata": {
    "ExecuteTime": {
     "end_time": "2020-09-19T07:42:51.270587Z",
     "start_time": "2020-09-19T07:40:49.124513Z"
    }
   },
   "outputs": [
    {
     "data": {
      "text/html": [
       "<div>\n",
       "<style scoped>\n",
       "    .dataframe tbody tr th:only-of-type {\n",
       "        vertical-align: middle;\n",
       "    }\n",
       "\n",
       "    .dataframe tbody tr th {\n",
       "        vertical-align: top;\n",
       "    }\n",
       "\n",
       "    .dataframe thead th {\n",
       "        text-align: right;\n",
       "    }\n",
       "</style>\n",
       "<table border=\"1\" class=\"dataframe\">\n",
       "  <thead>\n",
       "    <tr style=\"text-align: right;\">\n",
       "      <th></th>\n",
       "      <th>model</th>\n",
       "      <th>r2</th>\n",
       "      <th>explained_variance</th>\n",
       "      <th>neg_mean_squared_error</th>\n",
       "      <th>neg_mean_absolute_error</th>\n",
       "    </tr>\n",
       "  </thead>\n",
       "  <tbody>\n",
       "    <tr>\n",
       "      <th>0</th>\n",
       "      <td>SGDRegressor</td>\n",
       "      <td>0.840120</td>\n",
       "      <td>0.839955</td>\n",
       "      <td>-2.172477e+09</td>\n",
       "      <td>-31088.630454</td>\n",
       "    </tr>\n",
       "    <tr>\n",
       "      <th>0</th>\n",
       "      <td>RANSACRegressor</td>\n",
       "      <td>0.791647</td>\n",
       "      <td>0.764749</td>\n",
       "      <td>-2.679736e+09</td>\n",
       "      <td>-31848.942340</td>\n",
       "    </tr>\n",
       "    <tr>\n",
       "      <th>0</th>\n",
       "      <td>SVR</td>\n",
       "      <td>-0.048633</td>\n",
       "      <td>0.007255</td>\n",
       "      <td>-1.401589e+10</td>\n",
       "      <td>-88210.094924</td>\n",
       "    </tr>\n",
       "    <tr>\n",
       "      <th>0</th>\n",
       "      <td>LinearSVR</td>\n",
       "      <td>-2.690828</td>\n",
       "      <td>0.001067</td>\n",
       "      <td>-4.933629e+10</td>\n",
       "      <td>-189686.150759</td>\n",
       "    </tr>\n",
       "  </tbody>\n",
       "</table>\n",
       "</div>"
      ],
      "text/plain": [
       "             model        r2  explained_variance  neg_mean_squared_error  \\\n",
       "0     SGDRegressor  0.840120            0.839955           -2.172477e+09   \n",
       "0  RANSACRegressor  0.791647            0.764749           -2.679736e+09   \n",
       "0              SVR -0.048633            0.007255           -1.401589e+10   \n",
       "0        LinearSVR -2.690828            0.001067           -4.933629e+10   \n",
       "\n",
       "   neg_mean_absolute_error  \n",
       "0            -31088.630454  \n",
       "0            -31848.942340  \n",
       "0            -88210.094924  \n",
       "0           -189686.150759  "
      ]
     },
     "execution_count": 31,
     "metadata": {},
     "output_type": "execute_result"
    }
   ],
   "source": [
    "models_df2 = pd.concat([baseline_report(model, X_train, X_test, y_train, y_test, name) for (name, model) in models.items()])\n",
    "models_df2.to_csv('data/output_csv/models_second.csv')\n",
    "models_df2"
   ]
  },
  {
   "cell_type": "code",
   "execution_count": 38,
   "metadata": {
    "ExecuteTime": {
     "end_time": "2020-09-19T07:47:28.831776Z",
     "start_time": "2020-09-19T07:47:28.826762Z"
    }
   },
   "outputs": [],
   "source": [
    "models = {#'LinearRegression': LinearRegression(),\n",
    "          #'Ridge': Ridge(),\n",
    "          #'Lasso': Lasso(),\n",
    "          #'ElasticNet': ElasticNet(),\n",
    "          #'SGDRegressor': SGDRegressor(),\n",
    "          #'RANSACRegressor': RANSACRegressor(),\n",
    "          #'SVR': SVR(),\n",
    "          #'LinearSVR': LinearSVR(),\n",
    "          'KNeighborsRegressor': KNeighborsRegressor(),\n",
    "          'GaussianProcessRegressor':GaussianProcessRegressor(),\n",
    "          'DecisionTreeRegressor': DecisionTreeRegressor(),\n",
    "          'AdaBoostRegressor': AdaBoostRegressor(),\n",
    "          #'BaggingRegressor': BaggingRegressor(),\n",
    "          #'RandomForestRegressor': RandomForestRegressor(),\n",
    "          #'GradientBoostingRegressor': GradientBoostingRegressor(),\n",
    "          #'MLPRegressor': MLPRegressor()\n",
    "         }"
   ]
  },
  {
   "cell_type": "code",
   "execution_count": 39,
   "metadata": {
    "ExecuteTime": {
     "end_time": "2020-09-19T07:58:46.742146Z",
     "start_time": "2020-09-19T07:47:30.333640Z"
    }
   },
   "outputs": [
    {
     "data": {
      "text/html": [
       "<div>\n",
       "<style scoped>\n",
       "    .dataframe tbody tr th:only-of-type {\n",
       "        vertical-align: middle;\n",
       "    }\n",
       "\n",
       "    .dataframe tbody tr th {\n",
       "        vertical-align: top;\n",
       "    }\n",
       "\n",
       "    .dataframe thead th {\n",
       "        text-align: right;\n",
       "    }\n",
       "</style>\n",
       "<table border=\"1\" class=\"dataframe\">\n",
       "  <thead>\n",
       "    <tr style=\"text-align: right;\">\n",
       "      <th></th>\n",
       "      <th>model</th>\n",
       "      <th>r2</th>\n",
       "      <th>explained_variance</th>\n",
       "      <th>neg_mean_squared_error</th>\n",
       "      <th>neg_mean_absolute_error</th>\n",
       "    </tr>\n",
       "  </thead>\n",
       "  <tbody>\n",
       "    <tr>\n",
       "      <th>0</th>\n",
       "      <td>KNeighborsRegressor</td>\n",
       "      <td>0.898449</td>\n",
       "      <td>0.897125</td>\n",
       "      <td>-1.369725e+09</td>\n",
       "      <td>-23134.623848</td>\n",
       "    </tr>\n",
       "    <tr>\n",
       "      <th>0</th>\n",
       "      <td>GaussianProcessRegressor</td>\n",
       "      <td>0.878018</td>\n",
       "      <td>0.883397</td>\n",
       "      <td>-1.632196e+09</td>\n",
       "      <td>-13133.949908</td>\n",
       "    </tr>\n",
       "    <tr>\n",
       "      <th>0</th>\n",
       "      <td>DecisionTreeRegressor</td>\n",
       "      <td>0.994005</td>\n",
       "      <td>0.994396</td>\n",
       "      <td>-9.667463e+07</td>\n",
       "      <td>-3997.166308</td>\n",
       "    </tr>\n",
       "    <tr>\n",
       "      <th>0</th>\n",
       "      <td>AdaBoostRegressor</td>\n",
       "      <td>0.822726</td>\n",
       "      <td>0.887535</td>\n",
       "      <td>-2.334249e+09</td>\n",
       "      <td>-41841.309318</td>\n",
       "    </tr>\n",
       "  </tbody>\n",
       "</table>\n",
       "</div>"
      ],
      "text/plain": [
       "                      model        r2  explained_variance  \\\n",
       "0       KNeighborsRegressor  0.898449            0.897125   \n",
       "0  GaussianProcessRegressor  0.878018            0.883397   \n",
       "0     DecisionTreeRegressor  0.994005            0.994396   \n",
       "0         AdaBoostRegressor  0.822726            0.887535   \n",
       "\n",
       "   neg_mean_squared_error  neg_mean_absolute_error  \n",
       "0           -1.369725e+09            -23134.623848  \n",
       "0           -1.632196e+09            -13133.949908  \n",
       "0           -9.667463e+07             -3997.166308  \n",
       "0           -2.334249e+09            -41841.309318  "
      ]
     },
     "execution_count": 39,
     "metadata": {},
     "output_type": "execute_result"
    }
   ],
   "source": [
    "models_df3 = pd.concat([baseline_report(model, X_train, X_test, y_train, y_test, name) for (name, model) in models.items()])\n",
    "models_df3.to_csv('data/output_csv/models_third.csv')\n",
    "models_df3"
   ]
  },
  {
   "cell_type": "code",
   "execution_count": 40,
   "metadata": {
    "ExecuteTime": {
     "end_time": "2020-09-19T07:59:50.680259Z",
     "start_time": "2020-09-19T07:59:50.675239Z"
    }
   },
   "outputs": [],
   "source": [
    "models = {#'LinearRegression': LinearRegression(),\n",
    "          #'Ridge': Ridge(),\n",
    "          #'Lasso': Lasso(),\n",
    "          #'ElasticNet': ElasticNet(),\n",
    "          #'SGDRegressor': SGDRegressor(),\n",
    "          #'RANSACRegressor': RANSACRegressor(),\n",
    "          #'SVR': SVR(),\n",
    "          #'LinearSVR': LinearSVR(),\n",
    "          #'KNeighborsRegressor': KNeighborsRegressor(),\n",
    "          #'GaussianProcessRegressor':GaussianProcessRegressor(),\n",
    "          #'DecisionTreeRegressor': DecisionTreeRegressor(),\n",
    "          #'AdaBoostRegressor': AdaBoostRegressor(),\n",
    "          'BaggingRegressor': BaggingRegressor(),\n",
    "          'RandomForestRegressor': RandomForestRegressor(),\n",
    "          #'GradientBoostingRegressor': GradientBoostingRegressor(),\n",
    "          #'MLPRegressor': MLPRegressor()\n",
    "         }"
   ]
  },
  {
   "cell_type": "code",
   "execution_count": 41,
   "metadata": {
    "ExecuteTime": {
     "end_time": "2020-09-19T08:02:06.832114Z",
     "start_time": "2020-09-19T07:59:52.752361Z"
    }
   },
   "outputs": [
    {
     "data": {
      "text/html": [
       "<div>\n",
       "<style scoped>\n",
       "    .dataframe tbody tr th:only-of-type {\n",
       "        vertical-align: middle;\n",
       "    }\n",
       "\n",
       "    .dataframe tbody tr th {\n",
       "        vertical-align: top;\n",
       "    }\n",
       "\n",
       "    .dataframe thead th {\n",
       "        text-align: right;\n",
       "    }\n",
       "</style>\n",
       "<table border=\"1\" class=\"dataframe\">\n",
       "  <thead>\n",
       "    <tr style=\"text-align: right;\">\n",
       "      <th></th>\n",
       "      <th>model</th>\n",
       "      <th>r2</th>\n",
       "      <th>explained_variance</th>\n",
       "      <th>neg_mean_squared_error</th>\n",
       "      <th>neg_mean_absolute_error</th>\n",
       "    </tr>\n",
       "  </thead>\n",
       "  <tbody>\n",
       "    <tr>\n",
       "      <th>0</th>\n",
       "      <td>BaggingRegressor</td>\n",
       "      <td>0.997461</td>\n",
       "      <td>0.996951</td>\n",
       "      <td>-4.566544e+07</td>\n",
       "      <td>-2294.661491</td>\n",
       "    </tr>\n",
       "    <tr>\n",
       "      <th>0</th>\n",
       "      <td>RandomForestRegressor</td>\n",
       "      <td>0.997593</td>\n",
       "      <td>0.997116</td>\n",
       "      <td>-3.871300e+07</td>\n",
       "      <td>-1698.598075</td>\n",
       "    </tr>\n",
       "  </tbody>\n",
       "</table>\n",
       "</div>"
      ],
      "text/plain": [
       "                   model        r2  explained_variance  \\\n",
       "0       BaggingRegressor  0.997461            0.996951   \n",
       "0  RandomForestRegressor  0.997593            0.997116   \n",
       "\n",
       "   neg_mean_squared_error  neg_mean_absolute_error  \n",
       "0           -4.566544e+07             -2294.661491  \n",
       "0           -3.871300e+07             -1698.598075  "
      ]
     },
     "execution_count": 41,
     "metadata": {},
     "output_type": "execute_result"
    }
   ],
   "source": [
    "models_df4 = pd.concat([baseline_report(model, X_train, X_test, y_train, y_test, name) for (name, model) in models.items()])\n",
    "models_df4.to_csv('data/output_csv/models_fourth.csv')\n",
    "models_df4"
   ]
  },
  {
   "cell_type": "code",
   "execution_count": 42,
   "metadata": {
    "ExecuteTime": {
     "end_time": "2020-09-19T08:05:56.731460Z",
     "start_time": "2020-09-19T08:05:56.717525Z"
    }
   },
   "outputs": [],
   "source": [
    "models = {#'LinearRegression': LinearRegression(),\n",
    "          #'Ridge': Ridge(),\n",
    "          #'Lasso': Lasso(),\n",
    "          #'ElasticNet': ElasticNet(),\n",
    "          #'SGDRegressor': SGDRegressor(),\n",
    "          #'RANSACRegressor': RANSACRegressor(),\n",
    "          #'SVR': SVR(),\n",
    "          #'LinearSVR': LinearSVR(),\n",
    "          #'KNeighborsRegressor': KNeighborsRegressor(),\n",
    "          #'GaussianProcessRegressor':GaussianProcessRegressor(),\n",
    "          #'DecisionTreeRegressor': DecisionTreeRegressor(),\n",
    "          #'AdaBoostRegressor': AdaBoostRegressor(),\n",
    "          #'BaggingRegressor': BaggingRegressor(),\n",
    "          #'RandomForestRegressor': RandomForestRegressor(),\n",
    "          'GradientBoostingRegressor': GradientBoostingRegressor(),\n",
    "          'MLPRegressor': MLPRegressor()\n",
    "         }"
   ]
  },
  {
   "cell_type": "code",
   "execution_count": 43,
   "metadata": {
    "ExecuteTime": {
     "end_time": "2020-09-19T08:08:55.301477Z",
     "start_time": "2020-09-19T08:05:58.446022Z"
    }
   },
   "outputs": [
    {
     "data": {
      "text/html": [
       "<div>\n",
       "<style scoped>\n",
       "    .dataframe tbody tr th:only-of-type {\n",
       "        vertical-align: middle;\n",
       "    }\n",
       "\n",
       "    .dataframe tbody tr th {\n",
       "        vertical-align: top;\n",
       "    }\n",
       "\n",
       "    .dataframe thead th {\n",
       "        text-align: right;\n",
       "    }\n",
       "</style>\n",
       "<table border=\"1\" class=\"dataframe\">\n",
       "  <thead>\n",
       "    <tr style=\"text-align: right;\">\n",
       "      <th></th>\n",
       "      <th>model</th>\n",
       "      <th>r2</th>\n",
       "      <th>explained_variance</th>\n",
       "      <th>neg_mean_squared_error</th>\n",
       "      <th>neg_mean_absolute_error</th>\n",
       "    </tr>\n",
       "  </thead>\n",
       "  <tbody>\n",
       "    <tr>\n",
       "      <th>0</th>\n",
       "      <td>GradientBoostingRegressor</td>\n",
       "      <td>0.994580</td>\n",
       "      <td>0.994895</td>\n",
       "      <td>-7.263692e+07</td>\n",
       "      <td>-5649.970762</td>\n",
       "    </tr>\n",
       "    <tr>\n",
       "      <th>0</th>\n",
       "      <td>MLPRegressor</td>\n",
       "      <td>-1.382509</td>\n",
       "      <td>0.356615</td>\n",
       "      <td>-3.190903e+10</td>\n",
       "      <td>-153100.747871</td>\n",
       "    </tr>\n",
       "  </tbody>\n",
       "</table>\n",
       "</div>"
      ],
      "text/plain": [
       "                       model        r2  explained_variance  \\\n",
       "0  GradientBoostingRegressor  0.994580            0.994895   \n",
       "0               MLPRegressor -1.382509            0.356615   \n",
       "\n",
       "   neg_mean_squared_error  neg_mean_absolute_error  \n",
       "0           -7.263692e+07             -5649.970762  \n",
       "0           -3.190903e+10           -153100.747871  "
      ]
     },
     "execution_count": 43,
     "metadata": {},
     "output_type": "execute_result"
    }
   ],
   "source": [
    "models_df5 = pd.concat([baseline_report(model, X_train, X_test, y_train, y_test, name) for (name, model) in models.items()])\n",
    "models_df5.to_csv('data/output_csv/models_fourth.csv')\n",
    "models_df5"
   ]
  },
  {
   "cell_type": "code",
   "execution_count": 44,
   "metadata": {
    "ExecuteTime": {
     "end_time": "2020-09-19T08:15:46.216369Z",
     "start_time": "2020-09-19T08:15:46.180437Z"
    }
   },
   "outputs": [
    {
     "data": {
      "text/html": [
       "<div>\n",
       "<style scoped>\n",
       "    .dataframe tbody tr th:only-of-type {\n",
       "        vertical-align: middle;\n",
       "    }\n",
       "\n",
       "    .dataframe tbody tr th {\n",
       "        vertical-align: top;\n",
       "    }\n",
       "\n",
       "    .dataframe thead th {\n",
       "        text-align: right;\n",
       "    }\n",
       "</style>\n",
       "<table border=\"1\" class=\"dataframe\">\n",
       "  <thead>\n",
       "    <tr style=\"text-align: right;\">\n",
       "      <th></th>\n",
       "      <th>model</th>\n",
       "      <th>r2</th>\n",
       "      <th>explained_variance</th>\n",
       "      <th>neg_mean_squared_error</th>\n",
       "      <th>neg_mean_absolute_error</th>\n",
       "    </tr>\n",
       "  </thead>\n",
       "  <tbody>\n",
       "    <tr>\n",
       "      <th>0</th>\n",
       "      <td>LinearRegression</td>\n",
       "      <td>0.841252</td>\n",
       "      <td>0.840692</td>\n",
       "      <td>-2.122277e+09</td>\n",
       "      <td>-30769.037849</td>\n",
       "    </tr>\n",
       "    <tr>\n",
       "      <th>0</th>\n",
       "      <td>Ridge</td>\n",
       "      <td>0.841557</td>\n",
       "      <td>0.839960</td>\n",
       "      <td>-2.126994e+09</td>\n",
       "      <td>-30751.696792</td>\n",
       "    </tr>\n",
       "    <tr>\n",
       "      <th>0</th>\n",
       "      <td>Lasso</td>\n",
       "      <td>0.840793</td>\n",
       "      <td>0.840743</td>\n",
       "      <td>-2.128543e+09</td>\n",
       "      <td>-30777.692319</td>\n",
       "    </tr>\n",
       "    <tr>\n",
       "      <th>0</th>\n",
       "      <td>ElasticNet</td>\n",
       "      <td>0.746049</td>\n",
       "      <td>0.746067</td>\n",
       "      <td>-3.395800e+09</td>\n",
       "      <td>-41788.302529</td>\n",
       "    </tr>\n",
       "    <tr>\n",
       "      <th>0</th>\n",
       "      <td>SGDRegressor</td>\n",
       "      <td>0.840120</td>\n",
       "      <td>0.839955</td>\n",
       "      <td>-2.172477e+09</td>\n",
       "      <td>-31088.630454</td>\n",
       "    </tr>\n",
       "    <tr>\n",
       "      <th>0</th>\n",
       "      <td>RANSACRegressor</td>\n",
       "      <td>0.791647</td>\n",
       "      <td>0.764749</td>\n",
       "      <td>-2.679736e+09</td>\n",
       "      <td>-31848.942340</td>\n",
       "    </tr>\n",
       "    <tr>\n",
       "      <th>0</th>\n",
       "      <td>SVR</td>\n",
       "      <td>-0.048633</td>\n",
       "      <td>0.007255</td>\n",
       "      <td>-1.401589e+10</td>\n",
       "      <td>-88210.094924</td>\n",
       "    </tr>\n",
       "    <tr>\n",
       "      <th>0</th>\n",
       "      <td>LinearSVR</td>\n",
       "      <td>-2.690828</td>\n",
       "      <td>0.001067</td>\n",
       "      <td>-4.933629e+10</td>\n",
       "      <td>-189686.150759</td>\n",
       "    </tr>\n",
       "    <tr>\n",
       "      <th>0</th>\n",
       "      <td>KNeighborsRegressor</td>\n",
       "      <td>0.898449</td>\n",
       "      <td>0.897125</td>\n",
       "      <td>-1.369725e+09</td>\n",
       "      <td>-23134.623848</td>\n",
       "    </tr>\n",
       "    <tr>\n",
       "      <th>0</th>\n",
       "      <td>GaussianProcessRegressor</td>\n",
       "      <td>0.878018</td>\n",
       "      <td>0.883397</td>\n",
       "      <td>-1.632196e+09</td>\n",
       "      <td>-13133.949908</td>\n",
       "    </tr>\n",
       "    <tr>\n",
       "      <th>0</th>\n",
       "      <td>DecisionTreeRegressor</td>\n",
       "      <td>0.994005</td>\n",
       "      <td>0.994396</td>\n",
       "      <td>-9.667463e+07</td>\n",
       "      <td>-3997.166308</td>\n",
       "    </tr>\n",
       "    <tr>\n",
       "      <th>0</th>\n",
       "      <td>AdaBoostRegressor</td>\n",
       "      <td>0.822726</td>\n",
       "      <td>0.887535</td>\n",
       "      <td>-2.334249e+09</td>\n",
       "      <td>-41841.309318</td>\n",
       "    </tr>\n",
       "    <tr>\n",
       "      <th>0</th>\n",
       "      <td>BaggingRegressor</td>\n",
       "      <td>0.997461</td>\n",
       "      <td>0.996951</td>\n",
       "      <td>-4.566544e+07</td>\n",
       "      <td>-2294.661491</td>\n",
       "    </tr>\n",
       "    <tr>\n",
       "      <th>0</th>\n",
       "      <td>RandomForestRegressor</td>\n",
       "      <td>0.997593</td>\n",
       "      <td>0.997116</td>\n",
       "      <td>-3.871300e+07</td>\n",
       "      <td>-1698.598075</td>\n",
       "    </tr>\n",
       "    <tr>\n",
       "      <th>0</th>\n",
       "      <td>GradientBoostingRegressor</td>\n",
       "      <td>0.994580</td>\n",
       "      <td>0.994895</td>\n",
       "      <td>-7.263692e+07</td>\n",
       "      <td>-5649.970762</td>\n",
       "    </tr>\n",
       "    <tr>\n",
       "      <th>0</th>\n",
       "      <td>MLPRegressor</td>\n",
       "      <td>-1.382509</td>\n",
       "      <td>0.356615</td>\n",
       "      <td>-3.190903e+10</td>\n",
       "      <td>-153100.747871</td>\n",
       "    </tr>\n",
       "  </tbody>\n",
       "</table>\n",
       "</div>"
      ],
      "text/plain": [
       "                       model        r2  explained_variance  \\\n",
       "0           LinearRegression  0.841252            0.840692   \n",
       "0                      Ridge  0.841557            0.839960   \n",
       "0                      Lasso  0.840793            0.840743   \n",
       "0                 ElasticNet  0.746049            0.746067   \n",
       "0               SGDRegressor  0.840120            0.839955   \n",
       "0            RANSACRegressor  0.791647            0.764749   \n",
       "0                        SVR -0.048633            0.007255   \n",
       "0                  LinearSVR -2.690828            0.001067   \n",
       "0        KNeighborsRegressor  0.898449            0.897125   \n",
       "0   GaussianProcessRegressor  0.878018            0.883397   \n",
       "0      DecisionTreeRegressor  0.994005            0.994396   \n",
       "0          AdaBoostRegressor  0.822726            0.887535   \n",
       "0           BaggingRegressor  0.997461            0.996951   \n",
       "0      RandomForestRegressor  0.997593            0.997116   \n",
       "0  GradientBoostingRegressor  0.994580            0.994895   \n",
       "0               MLPRegressor -1.382509            0.356615   \n",
       "\n",
       "   neg_mean_squared_error  neg_mean_absolute_error  \n",
       "0           -2.122277e+09            -30769.037849  \n",
       "0           -2.126994e+09            -30751.696792  \n",
       "0           -2.128543e+09            -30777.692319  \n",
       "0           -3.395800e+09            -41788.302529  \n",
       "0           -2.172477e+09            -31088.630454  \n",
       "0           -2.679736e+09            -31848.942340  \n",
       "0           -1.401589e+10            -88210.094924  \n",
       "0           -4.933629e+10           -189686.150759  \n",
       "0           -1.369725e+09            -23134.623848  \n",
       "0           -1.632196e+09            -13133.949908  \n",
       "0           -9.667463e+07             -3997.166308  \n",
       "0           -2.334249e+09            -41841.309318  \n",
       "0           -4.566544e+07             -2294.661491  \n",
       "0           -3.871300e+07             -1698.598075  \n",
       "0           -7.263692e+07             -5649.970762  \n",
       "0           -3.190903e+10           -153100.747871  "
      ]
     },
     "execution_count": 44,
     "metadata": {},
     "output_type": "execute_result"
    }
   ],
   "source": [
    "models_df = pd.concat([models_df1, models_df2, models_df3, models_df4, models_df5])\n",
    "models_df.to_csv('data/output_csv/models_all.csv')\n",
    "models_df"
   ]
  },
  {
   "cell_type": "markdown",
   "metadata": {
    "colab_type": "text",
    "id": "uD67iOjwspfw"
   },
   "source": [
    "## Fine-tune best models\n",
    "\n",
    "Use Scitkit-learn random search hyperparameter tuning to find the best hyperparameters for the best models selected in the previus step."
   ]
  },
  {
   "cell_type": "code",
   "execution_count": null,
   "metadata": {
    "colab": {},
    "colab_type": "code",
    "id": "YCKIrRo0sijL"
   },
   "outputs": [],
   "source": [
    "# fine tune best models"
   ]
  },
  {
   "cell_type": "markdown",
   "metadata": {
    "colab_type": "text",
    "id": "vWRJX_SxxlcE"
   },
   "source": [
    "## Build an ensamble\n",
    "\n",
    "Build an ensamble with the best fine-tuned models and evaluate its performance."
   ]
  },
  {
   "cell_type": "code",
   "execution_count": null,
   "metadata": {
    "colab": {},
    "colab_type": "code",
    "id": "4X7-fOc341jT"
   },
   "outputs": [],
   "source": [
    "# build an ensamble"
   ]
  },
  {
   "cell_type": "markdown",
   "metadata": {
    "colab_type": "text",
    "id": "Eex_PTNSyUd_"
   },
   "source": [
    "## Optional\n",
    "\n",
    "For extra points try to:\n",
    "\n",
    "- Implement custom transformers for feature selection and feature engineering.\n",
    "- Include the data preparation and custom transformers in the fine-tuning pipeline to come up with the best set of features and data preparation strategies.\n",
    "- Perform error analysis to select the models that make the most diverse type of errors for the ensambling.\n",
    "- Do anything that teach us something new !"
   ]
  },
  {
   "cell_type": "code",
   "execution_count": null,
   "metadata": {
    "colab": {},
    "colab_type": "code",
    "id": "w55W2tH65pGf"
   },
   "outputs": [],
   "source": [
    "# show your skills !"
   ]
  }
 ],
 "metadata": {
  "colab": {
   "collapsed_sections": [],
   "name": "test_ml.ipynb",
   "provenance": [],
   "toc_visible": true
  },
  "kernelspec": {
   "display_name": "Python 3",
   "language": "python",
   "name": "python3"
  },
  "language_info": {
   "codemirror_mode": {
    "name": "ipython",
    "version": 3
   },
   "file_extension": ".py",
   "mimetype": "text/x-python",
   "name": "python",
   "nbconvert_exporter": "python",
   "pygments_lexer": "ipython3",
   "version": "3.7.7"
  },
  "toc": {
   "base_numbering": 1,
   "nav_menu": {},
   "number_sections": true,
   "sideBar": true,
   "skip_h1_title": false,
   "title_cell": "Table of Contents",
   "title_sidebar": "Contents",
   "toc_cell": false,
   "toc_position": {},
   "toc_section_display": true,
   "toc_window_display": false
  },
  "varInspector": {
   "cols": {
    "lenName": 16,
    "lenType": 16,
    "lenVar": 40
   },
   "kernels_config": {
    "python": {
     "delete_cmd_postfix": "",
     "delete_cmd_prefix": "del ",
     "library": "var_list.py",
     "varRefreshCmd": "print(var_dic_list())"
    },
    "r": {
     "delete_cmd_postfix": ") ",
     "delete_cmd_prefix": "rm(",
     "library": "var_list.r",
     "varRefreshCmd": "cat(var_dic_list()) "
    }
   },
   "types_to_exclude": [
    "module",
    "function",
    "builtin_function_or_method",
    "instance",
    "_Feature"
   ],
   "window_display": false
  }
 },
 "nbformat": 4,
 "nbformat_minor": 1
}
