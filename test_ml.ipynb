{
 "cells": [
  {
   "cell_type": "markdown",
   "metadata": {
    "colab_type": "text",
    "id": "eUwjdXl3DExV"
   },
   "source": [
    "# Machine Learning Test\n",
    "\n",
    "You have 3 days to solve the test from the moment you receive it. \n",
    "\n",
    "Show us your skills !"
   ]
  },
  {
   "cell_type": "markdown",
   "metadata": {
    "colab_type": "text",
    "id": "AxW2z7MlnR8k"
   },
   "source": [
    "## Problem description\n",
    "\n",
    "You are hired as a Data Scientist at a top real state company in California, and you first job is to develop an ML model to predict house prices. This model will then be used as an investment tool in your company, to buy houses when their price is lower than their real value or negotiating overprices."
   ]
  },
  {
   "cell_type": "markdown",
   "metadata": {
    "colab_type": "text",
    "id": "_-M6MImiDGr0"
   },
   "source": [
    "## Get the data\n",
    "\n",
    "Over the years, your company has been gathering some data that you can start using. It is available in the following link: https://mymldatasets.s3.eu-de.cloud-object-storage.appdomain.cloud/housing.tgz"
   ]
  },
  {
   "cell_type": "code",
   "execution_count": 0,
   "metadata": {
    "colab": {},
    "colab_type": "code",
    "id": "uDOrQlaTHEr0"
   },
   "outputs": [],
   "source": [
    "# download the data"
   ]
  },
  {
   "cell_type": "markdown",
   "metadata": {
    "colab_type": "text",
    "id": "iYYYp-aLGXjz"
   },
   "source": [
    "## Explore the data\n",
    "\n",
    "Load the data to explore it. Try to answer the following questions:\n",
    "\n",
    "- How many features has the dataset ? What type are they ?\n",
    "- How many samples are in the dataset ? \n",
    "- Are there missing values ? \n",
    "- Is there any correlation between features ?"
   ]
  },
  {
   "cell_type": "code",
   "execution_count": 0,
   "metadata": {
    "colab": {},
    "colab_type": "code",
    "id": "mlkllVbIpEjc"
   },
   "outputs": [],
   "source": [
    "# explore the data"
   ]
  },
  {
   "cell_type": "markdown",
   "metadata": {
    "colab_type": "text",
    "id": "8U-FQvVmga21"
   },
   "source": [
    "## Visualize the data\n",
    "\n",
    "Try to come up with the best possible visualizations (most informative) for the dataset."
   ]
  },
  {
   "cell_type": "code",
   "execution_count": 0,
   "metadata": {
    "colab": {},
    "colab_type": "code",
    "id": "c9RGBOQEggbu"
   },
   "outputs": [],
   "source": [
    "# visualize the data"
   ]
  },
  {
   "cell_type": "markdown",
   "metadata": {
    "colab_type": "text",
    "id": "nEORu4Afjv13"
   },
   "source": [
    "## Feature engineering\n",
    "\n",
    "Try to combine several features into new ones and see if they have better correlation."
   ]
  },
  {
   "cell_type": "code",
   "execution_count": 0,
   "metadata": {
    "colab": {},
    "colab_type": "code",
    "id": "GwDIy3U9j4KX"
   },
   "outputs": [],
   "source": [
    "# feature engineering"
   ]
  },
  {
   "cell_type": "markdown",
   "metadata": {
    "colab_type": "text",
    "id": "exR9_u1FkPjV"
   },
   "source": [
    "## Prepare the data for ML algorithms\n",
    "\n",
    "Using [Scikit-learn](https://scikit-learn.org/stable/) build a pipeline for data preparation. The pipeline should include:\n",
    "\n",
    "- Data cleaning\n",
    "- Encoding of categorical features\n",
    "- Feature scaling"
   ]
  },
  {
   "cell_type": "code",
   "execution_count": 0,
   "metadata": {
    "colab": {},
    "colab_type": "code",
    "id": "iOsNkClaq_vA"
   },
   "outputs": [],
   "source": [
    "# data preparation"
   ]
  },
  {
   "cell_type": "markdown",
   "metadata": {
    "colab_type": "text",
    "id": "GP_wC3verWgL"
   },
   "source": [
    "## Train some models\n",
    "\n",
    "Train a list of models on default parameters to get a quick idea of the performance of each one with the dataset. Compare their performance and keep the top 3-5 models for the next step."
   ]
  },
  {
   "cell_type": "code",
   "execution_count": 0,
   "metadata": {
    "colab": {},
    "colab_type": "code",
    "id": "SC8hbJPnsec-"
   },
   "outputs": [],
   "source": [
    "# train a lot of models"
   ]
  },
  {
   "cell_type": "markdown",
   "metadata": {
    "colab_type": "text",
    "id": "uD67iOjwspfw"
   },
   "source": [
    "## Fine-tune best models\n",
    "\n",
    "Use Scitkit-learn random search hyperparameter tuning to find the best hyperparameters for the best models selected in the previus step."
   ]
  },
  {
   "cell_type": "code",
   "execution_count": 0,
   "metadata": {
    "colab": {},
    "colab_type": "code",
    "id": "YCKIrRo0sijL"
   },
   "outputs": [],
   "source": [
    "# fine tune best models"
   ]
  },
  {
   "cell_type": "markdown",
   "metadata": {
    "colab_type": "text",
    "id": "vWRJX_SxxlcE"
   },
   "source": [
    "## Build an ensamble\n",
    "\n",
    "Build an ensamble with the best fine-tuned models and evaluate its performance."
   ]
  },
  {
   "cell_type": "code",
   "execution_count": 0,
   "metadata": {
    "colab": {},
    "colab_type": "code",
    "id": "4X7-fOc341jT"
   },
   "outputs": [],
   "source": [
    "# build an ensamble"
   ]
  },
  {
   "cell_type": "markdown",
   "metadata": {
    "colab_type": "text",
    "id": "Eex_PTNSyUd_"
   },
   "source": [
    "## Optional\n",
    "\n",
    "For extra points try to:\n",
    "\n",
    "- Implement custom transformers for feature selection and feature engineering.\n",
    "- Include the data preparation and custom transformers in the fine-tuning pipeline to come up with the best set of features and data preparation strategies.\n",
    "- Perform error analysis to select the models that make the most diverse type of errors for the ensambling.\n",
    "- Do anything that teach us something new !"
   ]
  },
  {
   "cell_type": "code",
   "execution_count": 0,
   "metadata": {
    "colab": {},
    "colab_type": "code",
    "id": "w55W2tH65pGf"
   },
   "outputs": [],
   "source": [
    "# show your skills !"
   ]
  }
 ],
 "metadata": {
  "colab": {
   "collapsed_sections": [],
   "name": "test_ml.ipynb",
   "provenance": [],
   "toc_visible": true
  },
  "kernelspec": {
   "display_name": "Python 3",
   "language": "python",
   "name": "python3"
  },
  "language_info": {
   "codemirror_mode": {
    "name": "ipython",
    "version": 3
   },
   "file_extension": ".py",
   "mimetype": "text/x-python",
   "name": "python",
   "nbconvert_exporter": "python",
   "pygments_lexer": "ipython3",
   "version": "3.7.7"
  },
  "toc": {
   "base_numbering": 1,
   "nav_menu": {},
   "number_sections": true,
   "sideBar": true,
   "skip_h1_title": false,
   "title_cell": "Table of Contents",
   "title_sidebar": "Contents",
   "toc_cell": false,
   "toc_position": {},
   "toc_section_display": true,
   "toc_window_display": false
  },
  "varInspector": {
   "cols": {
    "lenName": 16,
    "lenType": 16,
    "lenVar": 40
   },
   "kernels_config": {
    "python": {
     "delete_cmd_postfix": "",
     "delete_cmd_prefix": "del ",
     "library": "var_list.py",
     "varRefreshCmd": "print(var_dic_list())"
    },
    "r": {
     "delete_cmd_postfix": ") ",
     "delete_cmd_prefix": "rm(",
     "library": "var_list.r",
     "varRefreshCmd": "cat(var_dic_list()) "
    }
   },
   "types_to_exclude": [
    "module",
    "function",
    "builtin_function_or_method",
    "instance",
    "_Feature"
   ],
   "window_display": false
  }
 },
 "nbformat": 4,
 "nbformat_minor": 1
}
