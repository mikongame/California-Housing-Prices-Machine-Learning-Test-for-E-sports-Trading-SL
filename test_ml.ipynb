{
 "cells": [
  {
   "cell_type": "markdown",
   "metadata": {
    "colab_type": "text",
    "id": "eUwjdXl3DExV"
   },
   "source": [
    "# Machine Learning Test\n",
    "\n",
    "You have 3 days to solve the test from the moment you receive it. \n",
    "\n",
    "Show us your skills !"
   ]
  },
  {
   "cell_type": "markdown",
   "metadata": {
    "colab_type": "text",
    "heading_collapsed": true,
    "id": "AxW2z7MlnR8k"
   },
   "source": [
    "## Problem description\n",
    "\n",
    "You are hired as a Data Scientist at a top real state company in California, and you first job is to develop an ML model to predict house prices. This model will then be used as an investment tool in your company, to buy houses when their price is lower than their real value or negotiating overprices."
   ]
  },
  {
   "cell_type": "markdown",
   "metadata": {
    "colab_type": "text",
    "id": "_-M6MImiDGr0"
   },
   "source": [
    "## Get the data\n",
    "\n",
    "Over the years, your company has been gathering some data that you can start using. It is available in the following link: https://mymldatasets.s3.eu-de.cloud-object-storage.appdomain.cloud/housing.tgz"
   ]
  },
  {
   "cell_type": "markdown",
   "metadata": {
    "ExecuteTime": {
     "end_time": "2020-09-18T18:27:36.347220Z",
     "start_time": "2020-09-18T18:27:36.333147Z"
    }
   },
   "source": [
    "## Imports"
   ]
  },
  {
   "cell_type": "code",
   "execution_count": 30,
   "metadata": {
    "ExecuteTime": {
     "end_time": "2020-09-20T13:03:55.129332Z",
     "start_time": "2020-09-20T13:03:55.110383Z"
    }
   },
   "outputs": [],
   "source": [
    "# Data Analysis\n",
    "import pandas as pd\n",
    "import numpy as np\n",
    "import math\n",
    "\n",
    "# Data Visualization\n",
    "import seaborn as sns\n",
    "import matplotlib.pyplot as plt\n",
    "\n",
    "# Preprocessing\n",
    "from sklearn.compose import ColumnTransformer\n",
    "from sklearn.datasets import fetch_openml\n",
    "from sklearn.pipeline import Pipeline\n",
    "from sklearn.impute import SimpleImputer\n",
    "from sklearn.preprocessing import StandardScaler, OneHotEncoder\n",
    "\n",
    "# Model training and evaluation\n",
    "from sklearn.model_selection import train_test_split, GridSearchCV, StratifiedKFold, cross_val_score, RandomizedSearchCV\n",
    "from sklearn.metrics import r2_score, mean_squared_error, mean_absolute_error, explained_variance_score\n",
    "\n",
    "#Models\n",
    "from sklearn.linear_model import LinearRegression, Ridge, Lasso, ElasticNet, SGDRegressor ,RANSACRegressor\n",
    "from sklearn.svm import SVR, LinearSVR\n",
    "from sklearn.neighbors import KNeighborsRegressor\n",
    "from sklearn.gaussian_process import GaussianProcessRegressor\n",
    "from sklearn.tree import DecisionTreeRegressor\n",
    "from sklearn.ensemble import AdaBoostRegressor, BaggingRegressor, RandomForestRegressor, GradientBoostingRegressor\n",
    "from sklearn.neural_network import MLPRegressor\n",
    "\n",
    "# Ignore noise warning\n",
    "import warnings\n",
    "warnings.filterwarnings('ignore')\n",
    "\n",
    "# Work with pickles\n",
    "import pickle as pkl\n",
    "\n",
    "pd.set_option('display.max_column', None)"
   ]
  },
  {
   "cell_type": "markdown",
   "metadata": {
    "colab_type": "text",
    "id": "iYYYp-aLGXjz"
   },
   "source": [
    "## Explore the data\n",
    "\n",
    "Load the data to explore it. Try to answer the following questions:\n",
    "\n",
    "- How many features has the dataset ? What type are they ?\n",
    "- How many samples are in the dataset ? \n",
    "- Are there missing values ? \n",
    "- Is there any correlation between features ?"
   ]
  },
  {
   "cell_type": "code",
   "execution_count": 31,
   "metadata": {
    "ExecuteTime": {
     "end_time": "2020-09-20T13:03:56.054857Z",
     "start_time": "2020-09-20T13:03:56.009977Z"
    },
    "colab": {},
    "colab_type": "code",
    "id": "mlkllVbIpEjc"
   },
   "outputs": [
    {
     "data": {
      "text/html": [
       "<div>\n",
       "<style scoped>\n",
       "    .dataframe tbody tr th:only-of-type {\n",
       "        vertical-align: middle;\n",
       "    }\n",
       "\n",
       "    .dataframe tbody tr th {\n",
       "        vertical-align: top;\n",
       "    }\n",
       "\n",
       "    .dataframe thead th {\n",
       "        text-align: right;\n",
       "    }\n",
       "</style>\n",
       "<table border=\"1\" class=\"dataframe\">\n",
       "  <thead>\n",
       "    <tr style=\"text-align: right;\">\n",
       "      <th></th>\n",
       "      <th>longitude</th>\n",
       "      <th>latitude</th>\n",
       "      <th>housing_median_age</th>\n",
       "      <th>total_rooms</th>\n",
       "      <th>total_bedrooms</th>\n",
       "      <th>population</th>\n",
       "      <th>households</th>\n",
       "      <th>median_income</th>\n",
       "      <th>median_house_value</th>\n",
       "      <th>ocean_proximity</th>\n",
       "    </tr>\n",
       "  </thead>\n",
       "  <tbody>\n",
       "    <tr>\n",
       "      <th>0</th>\n",
       "      <td>-122.23</td>\n",
       "      <td>37.88</td>\n",
       "      <td>41.0</td>\n",
       "      <td>880.0</td>\n",
       "      <td>129.0</td>\n",
       "      <td>322.0</td>\n",
       "      <td>126.0</td>\n",
       "      <td>8.3252</td>\n",
       "      <td>452600.0</td>\n",
       "      <td>NEAR BAY</td>\n",
       "    </tr>\n",
       "    <tr>\n",
       "      <th>1</th>\n",
       "      <td>-122.22</td>\n",
       "      <td>37.86</td>\n",
       "      <td>21.0</td>\n",
       "      <td>7099.0</td>\n",
       "      <td>1106.0</td>\n",
       "      <td>2401.0</td>\n",
       "      <td>1138.0</td>\n",
       "      <td>8.3014</td>\n",
       "      <td>358500.0</td>\n",
       "      <td>NEAR BAY</td>\n",
       "    </tr>\n",
       "    <tr>\n",
       "      <th>2</th>\n",
       "      <td>-122.24</td>\n",
       "      <td>37.85</td>\n",
       "      <td>52.0</td>\n",
       "      <td>1467.0</td>\n",
       "      <td>190.0</td>\n",
       "      <td>496.0</td>\n",
       "      <td>177.0</td>\n",
       "      <td>7.2574</td>\n",
       "      <td>352100.0</td>\n",
       "      <td>NEAR BAY</td>\n",
       "    </tr>\n",
       "    <tr>\n",
       "      <th>3</th>\n",
       "      <td>-122.25</td>\n",
       "      <td>37.85</td>\n",
       "      <td>52.0</td>\n",
       "      <td>1274.0</td>\n",
       "      <td>235.0</td>\n",
       "      <td>558.0</td>\n",
       "      <td>219.0</td>\n",
       "      <td>5.6431</td>\n",
       "      <td>341300.0</td>\n",
       "      <td>NEAR BAY</td>\n",
       "    </tr>\n",
       "    <tr>\n",
       "      <th>4</th>\n",
       "      <td>-122.25</td>\n",
       "      <td>37.85</td>\n",
       "      <td>52.0</td>\n",
       "      <td>1627.0</td>\n",
       "      <td>280.0</td>\n",
       "      <td>565.0</td>\n",
       "      <td>259.0</td>\n",
       "      <td>3.8462</td>\n",
       "      <td>342200.0</td>\n",
       "      <td>NEAR BAY</td>\n",
       "    </tr>\n",
       "  </tbody>\n",
       "</table>\n",
       "</div>"
      ],
      "text/plain": [
       "   longitude  latitude  housing_median_age  total_rooms  total_bedrooms  \\\n",
       "0    -122.23     37.88                41.0        880.0           129.0   \n",
       "1    -122.22     37.86                21.0       7099.0          1106.0   \n",
       "2    -122.24     37.85                52.0       1467.0           190.0   \n",
       "3    -122.25     37.85                52.0       1274.0           235.0   \n",
       "4    -122.25     37.85                52.0       1627.0           280.0   \n",
       "\n",
       "   population  households  median_income  median_house_value ocean_proximity  \n",
       "0       322.0       126.0         8.3252            452600.0        NEAR BAY  \n",
       "1      2401.0      1138.0         8.3014            358500.0        NEAR BAY  \n",
       "2       496.0       177.0         7.2574            352100.0        NEAR BAY  \n",
       "3       558.0       219.0         5.6431            341300.0        NEAR BAY  \n",
       "4       565.0       259.0         3.8462            342200.0        NEAR BAY  "
      ]
     },
     "execution_count": 31,
     "metadata": {},
     "output_type": "execute_result"
    }
   ],
   "source": [
    "housing_df = pd.read_csv('data/housing.csv')\n",
    "housing_df.head()"
   ]
  },
  {
   "cell_type": "markdown",
   "metadata": {},
   "source": [
    "### How many features has the dataset? What type are they?"
   ]
  },
  {
   "cell_type": "code",
   "execution_count": 32,
   "metadata": {
    "ExecuteTime": {
     "end_time": "2020-09-20T13:03:56.983374Z",
     "start_time": "2020-09-20T13:03:56.968414Z"
    }
   },
   "outputs": [
    {
     "name": "stdout",
     "output_type": "stream",
     "text": [
      "<class 'pandas.core.frame.DataFrame'>\n",
      "RangeIndex: 20640 entries, 0 to 20639\n",
      "Data columns (total 10 columns):\n",
      " #   Column              Non-Null Count  Dtype  \n",
      "---  ------              --------------  -----  \n",
      " 0   longitude           20640 non-null  float64\n",
      " 1   latitude            20640 non-null  float64\n",
      " 2   housing_median_age  20640 non-null  float64\n",
      " 3   total_rooms         20640 non-null  float64\n",
      " 4   total_bedrooms      20433 non-null  float64\n",
      " 5   population          20640 non-null  float64\n",
      " 6   households          20640 non-null  float64\n",
      " 7   median_income       20640 non-null  float64\n",
      " 8   median_house_value  20640 non-null  float64\n",
      " 9   ocean_proximity     20640 non-null  object \n",
      "dtypes: float64(9), object(1)\n",
      "memory usage: 1.6+ MB\n"
     ]
    }
   ],
   "source": [
    "housing_df.info()"
   ]
  },
  {
   "cell_type": "markdown",
   "metadata": {},
   "source": [
    "### How many samples are in the dataset? "
   ]
  },
  {
   "cell_type": "code",
   "execution_count": 33,
   "metadata": {
    "ExecuteTime": {
     "end_time": "2020-09-20T13:03:57.941811Z",
     "start_time": "2020-09-20T13:03:57.804180Z"
    }
   },
   "outputs": [
    {
     "data": {
      "text/plain": [
       "(20640, 10)"
      ]
     },
     "execution_count": 33,
     "metadata": {},
     "output_type": "execute_result"
    }
   ],
   "source": [
    "housing_df.shape"
   ]
  },
  {
   "cell_type": "markdown",
   "metadata": {},
   "source": [
    "### Are there missing values?"
   ]
  },
  {
   "cell_type": "code",
   "execution_count": 34,
   "metadata": {
    "ExecuteTime": {
     "end_time": "2020-09-20T13:03:58.768601Z",
     "start_time": "2020-09-20T13:03:58.754639Z"
    }
   },
   "outputs": [
    {
     "data": {
      "text/plain": [
       "longitude               0\n",
       "latitude                0\n",
       "housing_median_age      0\n",
       "total_rooms             0\n",
       "total_bedrooms        207\n",
       "population              0\n",
       "households              0\n",
       "median_income           0\n",
       "median_house_value      0\n",
       "ocean_proximity         0\n",
       "dtype: int64"
      ]
     },
     "execution_count": 34,
     "metadata": {},
     "output_type": "execute_result"
    }
   ],
   "source": [
    "housing_df.isna().sum()"
   ]
  },
  {
   "cell_type": "markdown",
   "metadata": {},
   "source": [
    "### Let's check if there are duplicated values and outliers"
   ]
  },
  {
   "cell_type": "code",
   "execution_count": 35,
   "metadata": {
    "ExecuteTime": {
     "end_time": "2020-09-20T13:03:59.644259Z",
     "start_time": "2020-09-20T13:03:59.613342Z"
    }
   },
   "outputs": [
    {
     "data": {
      "text/plain": [
       "0"
      ]
     },
     "execution_count": 35,
     "metadata": {},
     "output_type": "execute_result"
    }
   ],
   "source": [
    "housing_df.duplicated().sum()"
   ]
  },
  {
   "cell_type": "code",
   "execution_count": 36,
   "metadata": {
    "ExecuteTime": {
     "end_time": "2020-09-20T13:04:00.581753Z",
     "start_time": "2020-09-20T13:04:00.518921Z"
    }
   },
   "outputs": [
    {
     "name": "stdout",
     "output_type": "stream",
     "text": [
      "(20640, 10)\n",
      "(6726, 11)\n"
     ]
    }
   ],
   "source": [
    "stats = housing_df.describe().transpose()\n",
    "stats[\"IQR\"] = stats[\"75%\"] - stats[\"25%\"]\n",
    "outliers = pd.DataFrame(columns=housing_df.columns)\n",
    "for col in stats.index:\n",
    "    iqr = stats.at[col, 'IQR']\n",
    "    cutoff = iqr * 1.5\n",
    "    lower = stats.at[col, '25%'] - cutoff\n",
    "    upper = stats.at[col, '75%'] + cutoff\n",
    "    results = housing_df[(housing_df[col] < lower) | (housing_df[col] > upper)].copy()\n",
    "    results['Outlier'] = col\n",
    "    outliers = outliers.append(results)\n",
    "print(housing_df.shape)\n",
    "print(outliers.shape)"
   ]
  },
  {
   "cell_type": "code",
   "execution_count": 37,
   "metadata": {
    "ExecuteTime": {
     "end_time": "2020-09-20T13:04:01.408542Z",
     "start_time": "2020-09-20T13:04:01.393583Z"
    }
   },
   "outputs": [
    {
     "name": "stdout",
     "output_type": "stream",
     "text": [
      "El 32.58720930232558 % de valores son outliers\n"
     ]
    }
   ],
   "source": [
    "print ('El', 6726/20640*100,'% de valores son outliers')"
   ]
  },
  {
   "cell_type": "markdown",
   "metadata": {},
   "source": [
    "### How much variablility this dataset's features have?"
   ]
  },
  {
   "cell_type": "code",
   "execution_count": 38,
   "metadata": {
    "ExecuteTime": {
     "end_time": "2020-09-20T13:04:02.331076Z",
     "start_time": "2020-09-20T13:04:02.257273Z"
    }
   },
   "outputs": [
    {
     "data": {
      "text/plain": [
       "longitude               844\n",
       "latitude                862\n",
       "housing_median_age       52\n",
       "total_rooms            5926\n",
       "total_bedrooms         1923\n",
       "population             3888\n",
       "households             1815\n",
       "median_income         12928\n",
       "median_house_value     3842\n",
       "ocean_proximity           5\n",
       "dtype: int64"
      ]
     },
     "execution_count": 38,
     "metadata": {},
     "output_type": "execute_result"
    }
   ],
   "source": [
    "housing_df.nunique()"
   ]
  },
  {
   "cell_type": "markdown",
   "metadata": {},
   "source": [
    "### Let's see some metrics statistics"
   ]
  },
  {
   "cell_type": "code",
   "execution_count": 39,
   "metadata": {
    "ExecuteTime": {
     "end_time": "2020-09-20T13:04:03.224687Z",
     "start_time": "2020-09-20T13:04:03.178810Z"
    }
   },
   "outputs": [],
   "source": [
    "housing_df.describe().to_csv('data/output_csv/descriptive_stats.csv')"
   ]
  },
  {
   "cell_type": "code",
   "execution_count": 40,
   "metadata": {
    "ExecuteTime": {
     "end_time": "2020-09-20T13:04:04.134255Z",
     "start_time": "2020-09-20T13:04:04.089375Z"
    }
   },
   "outputs": [
    {
     "data": {
      "text/html": [
       "<div>\n",
       "<style scoped>\n",
       "    .dataframe tbody tr th:only-of-type {\n",
       "        vertical-align: middle;\n",
       "    }\n",
       "\n",
       "    .dataframe tbody tr th {\n",
       "        vertical-align: top;\n",
       "    }\n",
       "\n",
       "    .dataframe thead th {\n",
       "        text-align: right;\n",
       "    }\n",
       "</style>\n",
       "<table border=\"1\" class=\"dataframe\">\n",
       "  <thead>\n",
       "    <tr style=\"text-align: right;\">\n",
       "      <th></th>\n",
       "      <th>longitude</th>\n",
       "      <th>latitude</th>\n",
       "      <th>housing_median_age</th>\n",
       "      <th>total_rooms</th>\n",
       "      <th>total_bedrooms</th>\n",
       "      <th>population</th>\n",
       "      <th>households</th>\n",
       "      <th>median_income</th>\n",
       "      <th>median_house_value</th>\n",
       "    </tr>\n",
       "  </thead>\n",
       "  <tbody>\n",
       "    <tr>\n",
       "      <th>count</th>\n",
       "      <td>20640.000000</td>\n",
       "      <td>20640.000000</td>\n",
       "      <td>20640.000000</td>\n",
       "      <td>20640.000000</td>\n",
       "      <td>20433.000000</td>\n",
       "      <td>20640.000000</td>\n",
       "      <td>20640.000000</td>\n",
       "      <td>20640.000000</td>\n",
       "      <td>20640.000000</td>\n",
       "    </tr>\n",
       "    <tr>\n",
       "      <th>mean</th>\n",
       "      <td>-119.569704</td>\n",
       "      <td>35.631861</td>\n",
       "      <td>28.639486</td>\n",
       "      <td>2635.763081</td>\n",
       "      <td>537.870553</td>\n",
       "      <td>1425.476744</td>\n",
       "      <td>499.539680</td>\n",
       "      <td>3.870671</td>\n",
       "      <td>206855.816909</td>\n",
       "    </tr>\n",
       "    <tr>\n",
       "      <th>std</th>\n",
       "      <td>2.003532</td>\n",
       "      <td>2.135952</td>\n",
       "      <td>12.585558</td>\n",
       "      <td>2181.615252</td>\n",
       "      <td>421.385070</td>\n",
       "      <td>1132.462122</td>\n",
       "      <td>382.329753</td>\n",
       "      <td>1.899822</td>\n",
       "      <td>115395.615874</td>\n",
       "    </tr>\n",
       "    <tr>\n",
       "      <th>min</th>\n",
       "      <td>-124.350000</td>\n",
       "      <td>32.540000</td>\n",
       "      <td>1.000000</td>\n",
       "      <td>2.000000</td>\n",
       "      <td>1.000000</td>\n",
       "      <td>3.000000</td>\n",
       "      <td>1.000000</td>\n",
       "      <td>0.499900</td>\n",
       "      <td>14999.000000</td>\n",
       "    </tr>\n",
       "    <tr>\n",
       "      <th>25%</th>\n",
       "      <td>-121.800000</td>\n",
       "      <td>33.930000</td>\n",
       "      <td>18.000000</td>\n",
       "      <td>1447.750000</td>\n",
       "      <td>296.000000</td>\n",
       "      <td>787.000000</td>\n",
       "      <td>280.000000</td>\n",
       "      <td>2.563400</td>\n",
       "      <td>119600.000000</td>\n",
       "    </tr>\n",
       "    <tr>\n",
       "      <th>50%</th>\n",
       "      <td>-118.490000</td>\n",
       "      <td>34.260000</td>\n",
       "      <td>29.000000</td>\n",
       "      <td>2127.000000</td>\n",
       "      <td>435.000000</td>\n",
       "      <td>1166.000000</td>\n",
       "      <td>409.000000</td>\n",
       "      <td>3.534800</td>\n",
       "      <td>179700.000000</td>\n",
       "    </tr>\n",
       "    <tr>\n",
       "      <th>75%</th>\n",
       "      <td>-118.010000</td>\n",
       "      <td>37.710000</td>\n",
       "      <td>37.000000</td>\n",
       "      <td>3148.000000</td>\n",
       "      <td>647.000000</td>\n",
       "      <td>1725.000000</td>\n",
       "      <td>605.000000</td>\n",
       "      <td>4.743250</td>\n",
       "      <td>264725.000000</td>\n",
       "    </tr>\n",
       "    <tr>\n",
       "      <th>max</th>\n",
       "      <td>-114.310000</td>\n",
       "      <td>41.950000</td>\n",
       "      <td>52.000000</td>\n",
       "      <td>39320.000000</td>\n",
       "      <td>6445.000000</td>\n",
       "      <td>35682.000000</td>\n",
       "      <td>6082.000000</td>\n",
       "      <td>15.000100</td>\n",
       "      <td>500001.000000</td>\n",
       "    </tr>\n",
       "  </tbody>\n",
       "</table>\n",
       "</div>"
      ],
      "text/plain": [
       "          longitude      latitude  housing_median_age   total_rooms  \\\n",
       "count  20640.000000  20640.000000        20640.000000  20640.000000   \n",
       "mean    -119.569704     35.631861           28.639486   2635.763081   \n",
       "std        2.003532      2.135952           12.585558   2181.615252   \n",
       "min     -124.350000     32.540000            1.000000      2.000000   \n",
       "25%     -121.800000     33.930000           18.000000   1447.750000   \n",
       "50%     -118.490000     34.260000           29.000000   2127.000000   \n",
       "75%     -118.010000     37.710000           37.000000   3148.000000   \n",
       "max     -114.310000     41.950000           52.000000  39320.000000   \n",
       "\n",
       "       total_bedrooms    population    households  median_income  \\\n",
       "count    20433.000000  20640.000000  20640.000000   20640.000000   \n",
       "mean       537.870553   1425.476744    499.539680       3.870671   \n",
       "std        421.385070   1132.462122    382.329753       1.899822   \n",
       "min          1.000000      3.000000      1.000000       0.499900   \n",
       "25%        296.000000    787.000000    280.000000       2.563400   \n",
       "50%        435.000000   1166.000000    409.000000       3.534800   \n",
       "75%        647.000000   1725.000000    605.000000       4.743250   \n",
       "max       6445.000000  35682.000000   6082.000000      15.000100   \n",
       "\n",
       "       median_house_value  \n",
       "count        20640.000000  \n",
       "mean        206855.816909  \n",
       "std         115395.615874  \n",
       "min          14999.000000  \n",
       "25%         119600.000000  \n",
       "50%         179700.000000  \n",
       "75%         264725.000000  \n",
       "max         500001.000000  "
      ]
     },
     "execution_count": 40,
     "metadata": {},
     "output_type": "execute_result"
    }
   ],
   "source": [
    "housing_df.describe()"
   ]
  },
  {
   "cell_type": "markdown",
   "metadata": {},
   "source": [
    "### Is there any correlation between features?"
   ]
  },
  {
   "cell_type": "code",
   "execution_count": 41,
   "metadata": {
    "ExecuteTime": {
     "end_time": "2020-09-20T13:04:04.953065Z",
     "start_time": "2020-09-20T13:04:04.922149Z"
    }
   },
   "outputs": [
    {
     "data": {
      "text/html": [
       "<div>\n",
       "<style scoped>\n",
       "    .dataframe tbody tr th:only-of-type {\n",
       "        vertical-align: middle;\n",
       "    }\n",
       "\n",
       "    .dataframe tbody tr th {\n",
       "        vertical-align: top;\n",
       "    }\n",
       "\n",
       "    .dataframe thead th {\n",
       "        text-align: right;\n",
       "    }\n",
       "</style>\n",
       "<table border=\"1\" class=\"dataframe\">\n",
       "  <thead>\n",
       "    <tr style=\"text-align: right;\">\n",
       "      <th></th>\n",
       "      <th>longitude</th>\n",
       "      <th>latitude</th>\n",
       "      <th>housing_median_age</th>\n",
       "      <th>total_rooms</th>\n",
       "      <th>total_bedrooms</th>\n",
       "      <th>population</th>\n",
       "      <th>households</th>\n",
       "      <th>median_income</th>\n",
       "      <th>median_house_value</th>\n",
       "    </tr>\n",
       "  </thead>\n",
       "  <tbody>\n",
       "    <tr>\n",
       "      <th>longitude</th>\n",
       "      <td>1.000000</td>\n",
       "      <td>-0.924664</td>\n",
       "      <td>-0.108197</td>\n",
       "      <td>0.044568</td>\n",
       "      <td>0.069608</td>\n",
       "      <td>0.099773</td>\n",
       "      <td>0.055310</td>\n",
       "      <td>-0.015176</td>\n",
       "      <td>-0.045967</td>\n",
       "    </tr>\n",
       "    <tr>\n",
       "      <th>latitude</th>\n",
       "      <td>-0.924664</td>\n",
       "      <td>1.000000</td>\n",
       "      <td>0.011173</td>\n",
       "      <td>-0.036100</td>\n",
       "      <td>-0.066983</td>\n",
       "      <td>-0.108785</td>\n",
       "      <td>-0.071035</td>\n",
       "      <td>-0.079809</td>\n",
       "      <td>-0.144160</td>\n",
       "    </tr>\n",
       "    <tr>\n",
       "      <th>housing_median_age</th>\n",
       "      <td>-0.108197</td>\n",
       "      <td>0.011173</td>\n",
       "      <td>1.000000</td>\n",
       "      <td>-0.361262</td>\n",
       "      <td>-0.320451</td>\n",
       "      <td>-0.296244</td>\n",
       "      <td>-0.302916</td>\n",
       "      <td>-0.119034</td>\n",
       "      <td>0.105623</td>\n",
       "    </tr>\n",
       "    <tr>\n",
       "      <th>total_rooms</th>\n",
       "      <td>0.044568</td>\n",
       "      <td>-0.036100</td>\n",
       "      <td>-0.361262</td>\n",
       "      <td>1.000000</td>\n",
       "      <td>0.930380</td>\n",
       "      <td>0.857126</td>\n",
       "      <td>0.918484</td>\n",
       "      <td>0.198050</td>\n",
       "      <td>0.134153</td>\n",
       "    </tr>\n",
       "    <tr>\n",
       "      <th>total_bedrooms</th>\n",
       "      <td>0.069608</td>\n",
       "      <td>-0.066983</td>\n",
       "      <td>-0.320451</td>\n",
       "      <td>0.930380</td>\n",
       "      <td>1.000000</td>\n",
       "      <td>0.877747</td>\n",
       "      <td>0.979728</td>\n",
       "      <td>-0.007723</td>\n",
       "      <td>0.049686</td>\n",
       "    </tr>\n",
       "    <tr>\n",
       "      <th>population</th>\n",
       "      <td>0.099773</td>\n",
       "      <td>-0.108785</td>\n",
       "      <td>-0.296244</td>\n",
       "      <td>0.857126</td>\n",
       "      <td>0.877747</td>\n",
       "      <td>1.000000</td>\n",
       "      <td>0.907222</td>\n",
       "      <td>0.004834</td>\n",
       "      <td>-0.024650</td>\n",
       "    </tr>\n",
       "    <tr>\n",
       "      <th>households</th>\n",
       "      <td>0.055310</td>\n",
       "      <td>-0.071035</td>\n",
       "      <td>-0.302916</td>\n",
       "      <td>0.918484</td>\n",
       "      <td>0.979728</td>\n",
       "      <td>0.907222</td>\n",
       "      <td>1.000000</td>\n",
       "      <td>0.013033</td>\n",
       "      <td>0.065843</td>\n",
       "    </tr>\n",
       "    <tr>\n",
       "      <th>median_income</th>\n",
       "      <td>-0.015176</td>\n",
       "      <td>-0.079809</td>\n",
       "      <td>-0.119034</td>\n",
       "      <td>0.198050</td>\n",
       "      <td>-0.007723</td>\n",
       "      <td>0.004834</td>\n",
       "      <td>0.013033</td>\n",
       "      <td>1.000000</td>\n",
       "      <td>0.688075</td>\n",
       "    </tr>\n",
       "    <tr>\n",
       "      <th>median_house_value</th>\n",
       "      <td>-0.045967</td>\n",
       "      <td>-0.144160</td>\n",
       "      <td>0.105623</td>\n",
       "      <td>0.134153</td>\n",
       "      <td>0.049686</td>\n",
       "      <td>-0.024650</td>\n",
       "      <td>0.065843</td>\n",
       "      <td>0.688075</td>\n",
       "      <td>1.000000</td>\n",
       "    </tr>\n",
       "  </tbody>\n",
       "</table>\n",
       "</div>"
      ],
      "text/plain": [
       "                    longitude  latitude  housing_median_age  total_rooms  \\\n",
       "longitude            1.000000 -0.924664           -0.108197     0.044568   \n",
       "latitude            -0.924664  1.000000            0.011173    -0.036100   \n",
       "housing_median_age  -0.108197  0.011173            1.000000    -0.361262   \n",
       "total_rooms          0.044568 -0.036100           -0.361262     1.000000   \n",
       "total_bedrooms       0.069608 -0.066983           -0.320451     0.930380   \n",
       "population           0.099773 -0.108785           -0.296244     0.857126   \n",
       "households           0.055310 -0.071035           -0.302916     0.918484   \n",
       "median_income       -0.015176 -0.079809           -0.119034     0.198050   \n",
       "median_house_value  -0.045967 -0.144160            0.105623     0.134153   \n",
       "\n",
       "                    total_bedrooms  population  households  median_income  \\\n",
       "longitude                 0.069608    0.099773    0.055310      -0.015176   \n",
       "latitude                 -0.066983   -0.108785   -0.071035      -0.079809   \n",
       "housing_median_age       -0.320451   -0.296244   -0.302916      -0.119034   \n",
       "total_rooms               0.930380    0.857126    0.918484       0.198050   \n",
       "total_bedrooms            1.000000    0.877747    0.979728      -0.007723   \n",
       "population                0.877747    1.000000    0.907222       0.004834   \n",
       "households                0.979728    0.907222    1.000000       0.013033   \n",
       "median_income            -0.007723    0.004834    0.013033       1.000000   \n",
       "median_house_value        0.049686   -0.024650    0.065843       0.688075   \n",
       "\n",
       "                    median_house_value  \n",
       "longitude                    -0.045967  \n",
       "latitude                     -0.144160  \n",
       "housing_median_age            0.105623  \n",
       "total_rooms                   0.134153  \n",
       "total_bedrooms                0.049686  \n",
       "population                   -0.024650  \n",
       "households                    0.065843  \n",
       "median_income                 0.688075  \n",
       "median_house_value            1.000000  "
      ]
     },
     "execution_count": 41,
     "metadata": {},
     "output_type": "execute_result"
    }
   ],
   "source": [
    "housing_df.corr()"
   ]
  },
  {
   "cell_type": "markdown",
   "metadata": {
    "colab_type": "text",
    "id": "8U-FQvVmga21"
   },
   "source": [
    "## Visualize the data\n",
    "\n",
    "Try to come up with the best possible visualizations (most informative) for the dataset."
   ]
  },
  {
   "cell_type": "code",
   "execution_count": 42,
   "metadata": {
    "ExecuteTime": {
     "end_time": "2020-09-20T13:04:07.901184Z",
     "start_time": "2020-09-20T13:04:05.837701Z"
    }
   },
   "outputs": [
    {
     "data": {
      "image/png": "[encoded data removed]",
      "text/plain": [
       "<Figure size 1152x864 with 9 Axes>"
      ]
     },
     "metadata": {
      "needs_background": "light"
     },
     "output_type": "display_data"
    }
   ],
   "source": [
    "housing_df.hist(figsize=(16,12), bins=50)\n",
    "plt.savefig('images/output_images/housing_hist.png')\n",
    "sns.set_context(\"talk\")\n",
    "plt.show()"
   ]
  },
  {
   "cell_type": "code",
   "execution_count": 43,
   "metadata": {
    "ExecuteTime": {
     "end_time": "2020-09-20T13:04:08.989274Z",
     "start_time": "2020-09-20T13:04:08.689077Z"
    }
   },
   "outputs": [
    {
     "data": {
      "image/png": "[encoded data removed]",
      "text/plain": [
       "<Figure size 720x576 with 1 Axes>"
      ]
     },
     "metadata": {
      "needs_background": "light"
     },
     "output_type": "display_data"
    }
   ],
   "source": [
    "plt.figure(figsize=(10,8))\n",
    "sns.distplot(housing_df['median_house_value'],color='purple')\n",
    "plt.savefig('images/output_images/value_dist.png')\n",
    "sns.set_context(\"talk\")\n",
    "plt.show()"
   ]
  },
  {
   "cell_type": "code",
   "execution_count": 44,
   "metadata": {
    "ExecuteTime": {
     "end_time": "2020-09-20T13:04:10.729621Z",
     "start_time": "2020-09-20T13:04:09.763205Z"
    }
   },
   "outputs": [
    {
     "data": {
      "image/png": "[encoded data removed]",
      "text/plain": [
       "<Figure size 1152x576 with 2 Axes>"
      ]
     },
     "metadata": {
      "needs_background": "light"
     },
     "output_type": "display_data"
    }
   ],
   "source": [
    "mask = np.triu(np.ones_like(housing_df.corr(), dtype=np.bool))\n",
    "plt.figure(figsize=(16,8), constrained_layout=True)\n",
    "sns.heatmap(housing_df.corr(),square=True, cmap='coolwarm', vmin=-1, vmax=1, mask=mask, annot=True, annot_kws={\"size\": 12}) \n",
    "plt.savefig('images/output_images/housing_corr.png')\n",
    "sns.set_context(\"talk\")\n",
    "plt.show()"
   ]
  },
  {
   "cell_type": "markdown",
   "metadata": {},
   "source": [
    "Las mayores correlaciones se dan entre:\n",
    "\n",
    "* median_income y median_hause_value (igual no puedo usar el propio target)\n",
    "\n",
    "* total_rooms y total_bedrooms, total_rooms y population, y total_rooms y households\n",
    "\n",
    "* total_bedrooms y population, y total_bedrooms y households\n",
    "\n",
    "* population y households\n",
    "\n",
    "* median_income y median_hause_value (pero no la puedo usar al contener el propio target)"
   ]
  },
  {
   "cell_type": "code",
   "execution_count": 45,
   "metadata": {
    "ExecuteTime": {
     "end_time": "2020-09-20T13:04:13.022490Z",
     "start_time": "2020-09-20T13:04:11.518511Z"
    }
   },
   "outputs": [
    {
     "data": {
      "image/png": "[encoded data removed]",
      "text/plain": [
       "<Figure size 1152x576 with 2 Axes>"
      ]
     },
     "metadata": {
      "needs_background": "light"
     },
     "output_type": "display_data"
    }
   ],
   "source": [
    "housing_df.plot(kind=\"scatter\", x=\"longitude\", y=\"latitude\", s=housing_df[\"population\"]/100, \n",
    "             label=\"population\", c=\"median_house_value\", cmap='coolwarm', colorbar=True, figsize=(16,8))\n",
    "plt.savefig('images/output_images/housing_pop_per_loc.png')\n",
    "sns.set_context(\"talk\")\n",
    "plt.show()"
   ]
  },
  {
   "cell_type": "markdown",
   "metadata": {},
   "source": [
    "La ubicación no correlaciona mucho con el precio, pero aquí vemos como los precios en grandes urbes y cercanos a la costa (**San Francisco** y alrededores, **Los Angeles** y alrededores, así como **San Diego** y cercanías) concentran las casas de mayor valor de mercado"
   ]
  },
  {
   "cell_type": "markdown",
   "metadata": {
    "colab_type": "text",
    "id": "nEORu4Afjv13"
   },
   "source": [
    "## Feature engineering\n",
    "\n",
    "Try to combine several features into new ones and see if they have better correlation."
   ]
  },
  {
   "cell_type": "code",
   "execution_count": 46,
   "metadata": {
    "ExecuteTime": {
     "end_time": "2020-09-20T13:04:13.810383Z",
     "start_time": "2020-09-20T13:04:13.795424Z"
    }
   },
   "outputs": [],
   "source": [
    "housing_df_newfeat = housing_df.copy()"
   ]
  },
  {
   "cell_type": "code",
   "execution_count": 47,
   "metadata": {
    "ExecuteTime": {
     "end_time": "2020-09-20T13:04:14.596282Z",
     "start_time": "2020-09-20T13:04:14.581323Z"
    }
   },
   "outputs": [],
   "source": [
    "housing_df_newfeat[\"income_per_house_val\"] = housing_df_newfeat[\"median_income\"]/housing_df_newfeat[\"median_house_value\"]\n",
    "\n",
    "housing_df_newfeat[\"rooms_per_bedroom\"] = housing_df_newfeat[\"total_rooms\"]/housing_df_newfeat[\"total_bedrooms\"]\n",
    "housing_df_newfeat[\"rooms_per_population\"] = housing_df_newfeat[\"total_rooms\"]/housing_df_newfeat[\"population\"]\n",
    "housing_df_newfeat[\"rooms_per_household\"]=housing_df_newfeat[\"total_rooms\"]/housing_df_newfeat[\"households\"]\n",
    "\n",
    "housing_df_newfeat[\"bedrooms_per_population\"] = housing_df_newfeat[\"total_bedrooms\"]/housing_df_newfeat[\"population\"]\n",
    "housing_df_newfeat[\"bedrooms_per_household\"] = housing_df_newfeat[\"total_bedrooms\"]/housing_df_newfeat[\"households\"]"
   ]
  },
  {
   "cell_type": "code",
   "execution_count": 48,
   "metadata": {
    "ExecuteTime": {
     "end_time": "2020-09-20T13:04:15.475930Z",
     "start_time": "2020-09-20T13:04:15.414096Z"
    },
    "colab": {},
    "colab_type": "code",
    "id": "GwDIy3U9j4KX"
   },
   "outputs": [
    {
     "name": "stdout",
     "output_type": "stream",
     "text": [
      "median_house_value         1.000000\n",
      "median_income              0.688075\n",
      "rooms_per_bedroom          0.383920\n",
      "rooms_per_population       0.209482\n",
      "rooms_per_household        0.151948\n",
      "total_rooms                0.134153\n",
      "housing_median_age         0.105623\n",
      "bedrooms_per_population    0.069896\n",
      "households                 0.065843\n",
      "total_bedrooms             0.049686\n",
      "population                -0.024650\n",
      "longitude                 -0.045967\n",
      "bedrooms_per_household    -0.046739\n",
      "latitude                  -0.144160\n",
      "income_per_house_val      -0.518606\n",
      "Name: median_house_value, dtype: float64\n"
     ]
    }
   ],
   "source": [
    "corr = housing_df_newfeat.corr()\n",
    "print(corr['median_house_value'].sort_values(ascending = False))"
   ]
  },
  {
   "cell_type": "markdown",
   "metadata": {},
   "source": [
    "Mayor correlación  con target, independientemente del signo, que las predecesoras:\n",
    "\n",
    "* rooms_per_bedroom\n",
    "* rooms_per_population\n",
    "* rooms_per_household\n",
    "* bedrooms_per_population\n",
    "\n",
    "Menor correlación  con target, independientemente del signo, que las predecesoras:\n",
    "* population_per_household \n",
    "* bedrooms_per_household"
   ]
  },
  {
   "cell_type": "markdown",
   "metadata": {
    "colab_type": "text",
    "id": "exR9_u1FkPjV"
   },
   "source": [
    "## Prepare the data for ML algorithms\n",
    "\n",
    "Using [Scikit-learn](https://scikit-learn.org/stable/) build a pipeline for data preparation. The pipeline should include:\n",
    "\n",
    "- Data cleaning\n",
    "- Encoding of categorical features\n",
    "- Feature scaling"
   ]
  },
  {
   "cell_type": "markdown",
   "metadata": {},
   "source": [
    "### Building the pipeline"
   ]
  },
  {
   "cell_type": "code",
   "execution_count": 49,
   "metadata": {
    "ExecuteTime": {
     "end_time": "2020-09-20T13:04:16.310699Z",
     "start_time": "2020-09-20T13:04:16.295739Z"
    }
   },
   "outputs": [],
   "source": [
    "X = housing_df_newfeat.drop(['median_house_value'], axis=1)\n",
    "y = housing_df_newfeat['median_house_value']"
   ]
  },
  {
   "cell_type": "code",
   "execution_count": 50,
   "metadata": {
    "ExecuteTime": {
     "end_time": "2020-09-20T13:04:17.112555Z",
     "start_time": "2020-09-20T13:04:17.103579Z"
    }
   },
   "outputs": [],
   "source": [
    "numeric_features = ['longitude', 'latitude', 'housing_median_age', 'total_rooms', 'total_bedrooms', 'population',\n",
    "                    'households', 'median_income', 'income_per_house_val', 'rooms_per_bedroom', 'rooms_per_population',\n",
    "                    'rooms_per_household', 'bedrooms_per_population', 'bedrooms_per_household']\n",
    "numeric_transformer = Pipeline(steps=[('imputer', SimpleImputer(strategy='median')), \n",
    "                                      ('scaler', StandardScaler())])\n",
    "\n",
    "categorical_features = ['ocean_proximity']\n",
    "categorical_transformer = Pipeline(steps=[('imputer', SimpleImputer(strategy='constant', fill_value='missing')),\n",
    "                                          ('onehot', OneHotEncoder(handle_unknown='ignore'))])\n",
    "\n",
    "preprocessing_pipeline = ColumnTransformer(transformers=[('num', numeric_transformer, numeric_features),\n",
    "                                                          ('cat', categorical_transformer, categorical_features)])"
   ]
  },
  {
   "cell_type": "code",
   "execution_count": 51,
   "metadata": {
    "ExecuteTime": {
     "end_time": "2020-09-20T13:04:18.031099Z",
     "start_time": "2020-09-20T13:04:17.968268Z"
    }
   },
   "outputs": [],
   "source": [
    "X_prep = preprocessing_pipeline.fit_transform(X)"
   ]
  },
  {
   "cell_type": "markdown",
   "metadata": {
    "colab_type": "text",
    "id": "GP_wC3verWgL"
   },
   "source": [
    "## Train some models\n",
    "\n",
    "Train a list of models on default parameters to get a quick idea of the performance of each one with the dataset. Compare their performance and keep the top 3-5 models for the next step."
   ]
  },
  {
   "cell_type": "code",
   "execution_count": 52,
   "metadata": {
    "ExecuteTime": {
     "end_time": "2020-09-20T13:04:18.924712Z",
     "start_time": "2020-09-20T13:04:18.909750Z"
    }
   },
   "outputs": [
    {
     "name": "stdout",
     "output_type": "stream",
     "text": [
      "(16512, 19) (16512,) (4128, 19) (4128,)\n"
     ]
    }
   ],
   "source": [
    "X_train, X_test, y_train, y_test = train_test_split(X_prep, y, random_state=42, test_size=0.2)\n",
    "print ((X_train.shape),(y_train.shape),(X_test.shape),(y_test.shape))"
   ]
  },
  {
   "cell_type": "code",
   "execution_count": 24,
   "metadata": {
    "ExecuteTime": {
     "end_time": "2020-09-20T12:35:00.380329Z",
     "start_time": "2020-09-20T12:35:00.369333Z"
    }
   },
   "outputs": [],
   "source": [
    "def baseline_report(model, X_train, X_test, y_train, y_test, name):\n",
    "    strat_k_fold = StratifiedKFold(n_splits=5, shuffle=True)\n",
    "    model.fit(X_train, y_train)\n",
    "    r2_score                 = np.mean(cross_val_score(model, X_train, y_train, cv=strat_k_fold, \n",
    "                                                       scoring='r2', n_jobs=-2))\n",
    "    explained_variance_score = np.mean(cross_val_score(model, X_train, y_train, cv=strat_k_fold, \n",
    "                                                       scoring='explained_variance', n_jobs=-2))\n",
    "    neg_mean_squared_error       = np.mean(cross_val_score(model, X_train, y_train, cv=strat_k_fold, \n",
    "                                                       scoring='neg_mean_squared_error', n_jobs=-2))\n",
    "    neg_root_mean_squared_error      = np.mean(cross_val_score(model, X_train, y_train, cv=strat_k_fold, \n",
    "                                                       scoring='neg_root_mean_squared_error', n_jobs=-2))\n",
    "    y_pred = model.predict(X_test)\n",
    "\n",
    "    df_model = pd.DataFrame({'model'                       : [name],\n",
    "                             'r2'                          : [r2_score],\n",
    "                             'explained_variance'          : [explained_variance_score],\n",
    "                             'neg_mean_squared_error'      : [neg_mean_squared_error],\n",
    "                             'neg_root_mean_squared_error' : [neg_root_mean_squared_error],\n",
    "                            })   \n",
    "    return df_model"
   ]
  },
  {
   "cell_type": "code",
   "execution_count": 25,
   "metadata": {
    "ExecuteTime": {
     "end_time": "2020-09-20T12:35:01.755624Z",
     "start_time": "2020-09-20T12:35:01.750639Z"
    }
   },
   "outputs": [
    {
     "ename": "SystemExit",
     "evalue": "Stop right there! For computational reasons I didn't execute all models at once. If you want to do so, execute the following 2 cells, then skip 11 cells after that). I recommend to skip the following 2 cells and run the cells ofter that little by little.",
     "output_type": "error",
     "traceback": [
      "An exception has occurred, use %tb to see the full traceback.\n",
      "\u001b[1;31mSystemExit\u001b[0m\u001b[1;31m:\u001b[0m Stop right there! For computational reasons I didn't execute all models at once. If you want to do so, execute the following 2 cells, then skip 11 cells after that). I recommend to skip the following 2 cells and run the cells ofter that little by little.\n"
     ]
    }
   ],
   "source": [
    "raise SystemExit(\"Stop right there! For computational reasons I didn't execute all models at once. If you want to do so, execute the following 2 cells, then skip 11 cells after that). I recommend to skip the following 2 cells and run the cells ofter that little by little.\")"
   ]
  },
  {
   "cell_type": "code",
   "execution_count": null,
   "metadata": {
    "ExecuteTime": {
     "end_time": "2020-09-20T11:58:49.059387Z",
     "start_time": "2020-09-20T11:58:40.174Z"
    }
   },
   "outputs": [],
   "source": [
    "models = {'LinearRegression': LinearRegression(),\n",
    "          'Ridge': Ridge(),\n",
    "          'Lasso': Lasso(),\n",
    "          'ElasticNet': ElasticNet(),\n",
    "          'SGDRegressor': SGDRegressor(),\n",
    "          'RANSACRegressor': RANSACRegressor(),\n",
    "          'SVR': SVR(),\n",
    "          'LinearSVR': LinearSVR(),\n",
    "          'KNeighborsRegressor': KNeighborsRegressor(),\n",
    "          'GaussianProcessRegressor':GaussianProcessRegressor(),\n",
    "          'DecisionTreeRegressor': DecisionTreeRegressor(),\n",
    "          'AdaBoostRegressor': AdaBoostRegressor(),\n",
    "          'BaggingRegressor': BaggingRegressor(),\n",
    "          'RandomForestRegressor': RandomForestRegressor(),\n",
    "          'GradientBoostingRegressor': GradientBoostingRegressor(),\n",
    "          'MLPRegressor': MLPRegressor()\n",
    "         }"
   ]
  },
  {
   "cell_type": "code",
   "execution_count": null,
   "metadata": {
    "ExecuteTime": {
     "end_time": "2020-09-20T11:58:49.060380Z",
     "start_time": "2020-09-20T11:58:40.177Z"
    }
   },
   "outputs": [],
   "source": [
    "models_df = pd.concat([baseline_report(model, X_train, X_test, y_train, y_test, name) for (name, model) in models.items()])\n",
    "models_df.to_csv('data/output_csv/models_all.csv')\n",
    "models_df"
   ]
  },
  {
   "cell_type": "markdown",
   "metadata": {},
   "source": [
    "Continue here to train models in smaller groups. "
   ]
  },
  {
   "cell_type": "code",
   "execution_count": null,
   "metadata": {
    "ExecuteTime": {
     "end_time": "2020-09-20T11:58:49.062375Z",
     "start_time": "2020-09-20T11:58:40.180Z"
    }
   },
   "outputs": [],
   "source": [
    "models = {'LinearRegression': LinearRegression(),\n",
    "          'Ridge': Ridge(),\n",
    "          'Lasso': Lasso(),\n",
    "          'ElasticNet': ElasticNet(),\n",
    "          #'SGDRegressor': SGDRegressor(),\n",
    "          #'RANSACRegressor': RANSACRegressor(),\n",
    "          #'SVR': SVR(),\n",
    "          #'LinearSVR': LinearSVR(),\n",
    "          #'KNeighborsRegressor': KNeighborsRegressor(),\n",
    "          #'GaussianProcessRegressor':GaussianProcessRegressor(),\n",
    "          #'DecisionTreeRegressor': DecisionTreeRegressor(),\n",
    "          #'AdaBoostRegressor': AdaBoostRegressor(),\n",
    "          #'BaggingRegressor': BaggingRegressor(),\n",
    "          #'RandomForestRegressor': RandomForestRegressor(),\n",
    "          #'GradientBoostingRegressor': GradientBoostingRegressor(),\n",
    "          #'MLPRegressor': MLPRegressor()\n",
    "         }"
   ]
  },
  {
   "cell_type": "code",
   "execution_count": null,
   "metadata": {
    "ExecuteTime": {
     "end_time": "2020-09-20T11:58:49.063372Z",
     "start_time": "2020-09-20T11:58:40.182Z"
    },
    "colab": {},
    "colab_type": "code",
    "id": "SC8hbJPnsec-"
   },
   "outputs": [],
   "source": [
    "models_df1 = pd.concat([baseline_report(model, X_train, X_test, y_train, y_test, name) for (name, model) in models.items()])\n",
    "models_df1.to_csv('data/output_csv/models_first.csv')\n",
    "models_df1"
   ]
  },
  {
   "cell_type": "code",
   "execution_count": null,
   "metadata": {
    "ExecuteTime": {
     "end_time": "2020-09-20T11:58:49.064369Z",
     "start_time": "2020-09-20T11:58:40.184Z"
    }
   },
   "outputs": [],
   "source": [
    "models = {#'LinearRegression': LinearRegression(),\n",
    "          #'Ridge': Ridge(),\n",
    "          #'Lasso': Lasso(),\n",
    "          #'ElasticNet': ElasticNet(),\n",
    "          'SGDRegressor': SGDRegressor(),\n",
    "          'RANSACRegressor': RANSACRegressor(),\n",
    "          'SVR': SVR(),\n",
    "          'LinearSVR': LinearSVR(),\n",
    "          #'KNeighborsRegressor': KNeighborsRegressor(),\n",
    "          #'GaussianProcessRegressor':GaussianProcessRegressor(),\n",
    "          #'DecisionTreeRegressor': DecisionTreeRegressor(),\n",
    "          #'AdaBoostRegressor': AdaBoostRegressor(),\n",
    "          #'BaggingRegressor': BaggingRegressor(),\n",
    "          #'RandomForestRegressor': RandomForestRegressor(),\n",
    "          #'GradientBoostingRegressor': GradientBoostingRegressor(),\n",
    "          #'MLPRegressor': MLPRegressor()\n",
    "         }"
   ]
  },
  {
   "cell_type": "code",
   "execution_count": null,
   "metadata": {
    "ExecuteTime": {
     "end_time": "2020-09-20T11:58:49.065367Z",
     "start_time": "2020-09-20T11:58:40.187Z"
    }
   },
   "outputs": [],
   "source": [
    "models_df2 = pd.concat([baseline_report(model, X_train, X_test, y_train, y_test, name) for (name, model) in models.items()])\n",
    "models_df2.to_csv('data/output_csv/models_second.csv')\n",
    "models_df2"
   ]
  },
  {
   "cell_type": "code",
   "execution_count": null,
   "metadata": {
    "ExecuteTime": {
     "end_time": "2020-09-20T11:58:49.066364Z",
     "start_time": "2020-09-20T11:58:40.189Z"
    }
   },
   "outputs": [],
   "source": [
    "models = {#'LinearRegression': LinearRegression(),\n",
    "          #'Ridge': Ridge(),\n",
    "          #'Lasso': Lasso(),\n",
    "          #'ElasticNet': ElasticNet(),\n",
    "          #'SGDRegressor': SGDRegressor(),\n",
    "          #'RANSACRegressor': RANSACRegressor(),\n",
    "          #'SVR': SVR(),\n",
    "          #'LinearSVR': LinearSVR(),\n",
    "          'KNeighborsRegressor': KNeighborsRegressor(),\n",
    "          'GaussianProcessRegressor':GaussianProcessRegressor(),\n",
    "          'DecisionTreeRegressor': DecisionTreeRegressor(),\n",
    "          'AdaBoostRegressor': AdaBoostRegressor(),\n",
    "          #'BaggingRegressor': BaggingRegressor(),\n",
    "          #'RandomForestRegressor': RandomForestRegressor(),\n",
    "          #'GradientBoostingRegressor': GradientBoostingRegressor(),\n",
    "          #'MLPRegressor': MLPRegressor()\n",
    "         }"
   ]
  },
  {
   "cell_type": "code",
   "execution_count": null,
   "metadata": {
    "ExecuteTime": {
     "end_time": "2020-09-20T11:58:49.067361Z",
     "start_time": "2020-09-20T11:58:40.191Z"
    }
   },
   "outputs": [],
   "source": [
    "models_df3 = pd.concat([baseline_report(model, X_train, X_test, y_train, y_test, name) for (name, model) in models.items()])\n",
    "models_df3.to_csv('data/output_csv/models_third.csv')\n",
    "models_df3"
   ]
  },
  {
   "cell_type": "code",
   "execution_count": null,
   "metadata": {
    "ExecuteTime": {
     "end_time": "2020-09-20T11:58:49.069356Z",
     "start_time": "2020-09-20T11:58:40.194Z"
    }
   },
   "outputs": [],
   "source": [
    "models = {#'LinearRegression': LinearRegression(),\n",
    "          #'Ridge': Ridge(),\n",
    "          #'Lasso': Lasso(),\n",
    "          #'ElasticNet': ElasticNet(),\n",
    "          #'SGDRegressor': SGDRegressor(),\n",
    "          #'RANSACRegressor': RANSACRegressor(),\n",
    "          #'SVR': SVR(),\n",
    "          #'LinearSVR': LinearSVR(),\n",
    "          #'KNeighborsRegressor': KNeighborsRegressor(),\n",
    "          #'GaussianProcessRegressor':GaussianProcessRegressor(),\n",
    "          #'DecisionTreeRegressor': DecisionTreeRegressor(),\n",
    "          #'AdaBoostRegressor': AdaBoostRegressor(),\n",
    "          'BaggingRegressor': BaggingRegressor(),\n",
    "          'RandomForestRegressor': RandomForestRegressor(),\n",
    "          #'GradientBoostingRegressor': GradientBoostingRegressor(),\n",
    "          #'MLPRegressor': MLPRegressor()\n",
    "         }"
   ]
  },
  {
   "cell_type": "code",
   "execution_count": null,
   "metadata": {
    "ExecuteTime": {
     "end_time": "2020-09-20T11:58:49.070360Z",
     "start_time": "2020-09-20T11:58:40.196Z"
    }
   },
   "outputs": [],
   "source": [
    "models_df4 = pd.concat([baseline_report(model, X_train, X_test, y_train, y_test, name) for (name, model) in models.items()])\n",
    "models_df4.to_csv('data/output_csv/models_fourth.csv')\n",
    "models_df4"
   ]
  },
  {
   "cell_type": "code",
   "execution_count": null,
   "metadata": {
    "ExecuteTime": {
     "end_time": "2020-09-20T11:58:49.071363Z",
     "start_time": "2020-09-20T11:58:40.198Z"
    }
   },
   "outputs": [],
   "source": [
    "models = {#'LinearRegression': LinearRegression(),\n",
    "          #'Ridge': Ridge(),\n",
    "          #'Lasso': Lasso(),\n",
    "          #'ElasticNet': ElasticNet(),\n",
    "          #'SGDRegressor': SGDRegressor(),\n",
    "          #'RANSACRegressor': RANSACRegressor(),\n",
    "          #'SVR': SVR(),\n",
    "          #'LinearSVR': LinearSVR(),\n",
    "          #'KNeighborsRegressor': KNeighborsRegressor(),\n",
    "          #'GaussianProcessRegressor':GaussianProcessRegressor(),\n",
    "          #'DecisionTreeRegressor': DecisionTreeRegressor(),\n",
    "          #'AdaBoostRegressor': AdaBoostRegressor(),\n",
    "          #'BaggingRegressor': BaggingRegressor(),\n",
    "          #'RandomForestRegressor': RandomForestRegressor(),\n",
    "          'GradientBoostingRegressor': GradientBoostingRegressor(),\n",
    "          'MLPRegressor': MLPRegressor()\n",
    "         }"
   ]
  },
  {
   "cell_type": "code",
   "execution_count": null,
   "metadata": {
    "ExecuteTime": {
     "end_time": "2020-09-20T11:58:49.072348Z",
     "start_time": "2020-09-20T11:58:40.200Z"
    }
   },
   "outputs": [],
   "source": [
    "models_df5 = pd.concat([baseline_report(model, X_train, X_test, y_train, y_test, name) for (name, model) in models.items()])\n",
    "models_df5.to_csv('data/output_csv/models_fourth.csv')\n",
    "models_df5"
   ]
  },
  {
   "cell_type": "code",
   "execution_count": null,
   "metadata": {
    "ExecuteTime": {
     "end_time": "2020-09-20T11:58:49.073345Z",
     "start_time": "2020-09-20T11:58:40.202Z"
    }
   },
   "outputs": [],
   "source": [
    "models_df = pd.concat([models_df1, models_df2, models_df3, models_df4, models_df5])\n",
    "models_df.to_csv('data/output_csv/models_all.csv')\n",
    "models_df"
   ]
  },
  {
   "cell_type": "markdown",
   "metadata": {},
   "source": [
    "Teniendo en cuenta que R^2 y variancia explicada son óptimas cuando se acercan a 1, y que ambas medidas de error lo son cuanto mas se acercquen a 0; las mejores modelos son RandomForestRegressor, BaggingRegressor, GradientBoostingRegressor, DecisionTreeRegressor, y KNeighborsRegressor. \n",
    "Estos 5 modelos conforman el top 5 de valores en las métricas a excepción de para el error cuadrático medio que no es coherente con la dirección en la que apuntan los valores para las métricas restantes."
   ]
  },
  {
   "cell_type": "markdown",
   "metadata": {
    "colab_type": "text",
    "id": "uD67iOjwspfw"
   },
   "source": [
    "## Fine-tune best models\n",
    "\n",
    "Use Scitkit-learn random search hyperparameter tuning to find the best hyperparameters for the best models selected in the previus step."
   ]
  },
  {
   "cell_type": "markdown",
   "metadata": {},
   "source": [
    "### RandomForestRegressor"
   ]
  },
  {
   "cell_type": "markdown",
   "metadata": {
    "colab": {},
    "colab_type": "code",
    "id": "YCKIrRo0sijL"
   },
   "source": [
    "#### RandomizedSearchCV"
   ]
  },
  {
   "cell_type": "code",
   "execution_count": null,
   "metadata": {
    "ExecuteTime": {
     "start_time": "2020-09-20T12:00:05.234Z"
    }
   },
   "outputs": [],
   "source": [
    "random_forest = RandomForestRegressor(random_state = 42)\n",
    "\n",
    "max_depth = [int(x) for x in np.linspace(10, 110, num = 11)]\n",
    "max_depth.append(None)\n",
    "\n",
    "n_estimators = [int(x) for x in np.linspace(start = 200, stop = 2000, num = 10)]\n",
    "n_estimators.append(list(np.arange(50,200)))\n",
    "\n",
    "param_grid =  {'criterion': ['mse', 'mae'],\n",
    "               'max_depth': max_depth, \n",
    "               'max_features': ['auto', 'sqrt', 'log2'],\n",
    "               'n_estimators' : n_estimators,\n",
    "               'min_samples_leaf': np.arange(1,20),\n",
    "               'min_samples_split': np.arange(2,25),\n",
    "               'bootstrap': [True, False],\n",
    "               'oob_score': [True, False] \n",
    "            }\n",
    "\n",
    "randomized = RandomizedSearchCV(random_forest, param_grid, cv=3, scoring='r2', verbose=2, n_jobs=-1, refit=True)\n",
    "\n",
    "randomized.fit(X_train, y_train)\n",
    "\n",
    "randomized.best_estimator_\n",
    "\n",
    "print(randomized.best_params_)"
   ]
  },
  {
   "cell_type": "code",
   "execution_count": null,
   "metadata": {
    "ExecuteTime": {
     "start_time": "2020-09-20T12:00:11.626Z"
    }
   },
   "outputs": [],
   "source": [
    "ramdomized_RFR = pd.DataFrame(randomized.cv_results_)\n",
    "ramdomized_RFR.to_csv('data/output_csv/randomized_RFR.csv')\n",
    "ramdomized_RFR.sort_values(by='rank_test_score', axis=0).head()"
   ]
  },
  {
   "cell_type": "markdown",
   "metadata": {},
   "source": [
    "#### GridSearchCV"
   ]
  },
  {
   "cell_type": "code",
   "execution_count": null,
   "metadata": {
    "ExecuteTime": {
     "end_time": "2020-09-20T11:58:49.077347Z",
     "start_time": "2020-09-20T11:58:40.317Z"
    }
   },
   "outputs": [],
   "source": [
    "random_forest = RandomForestRegressor(random_state = 42)\n",
    "\n",
    "max_depth = [int(x) for x in np.linspace(10, 110, num = 11)]\n",
    "max_depth.append(None)\n",
    "\n",
    "n_estimators = [int(x) for x in np.linspace(start = 200, stop = 2000, num = 10)]\n",
    "n_estimators.append(list(np.arange(50,200)))\n",
    "\n",
    "param_grid =  {'criterion': ['mse', 'mae'],\n",
    "               'max_depth': max_depth, \n",
    "               'max_features': ['auto', 'sqrt', 'log2'],\n",
    "               'n_estimators' : n_estimators,\n",
    "               'min_samples_leaf': np.arange(1,20),\n",
    "               'min_samples_split': np.arange(2,25),\n",
    "               'bootstrap': [True, False],\n",
    "               'oob_score': [True, False] \n",
    "            }\n",
    "\n",
    "grid = GridSearchCV(random_forest, param_grid, cv=3, scoring='r2', verbose=2, n_jobs=-1, refit=True)\n",
    "\n",
    "grid.fit(X_train, y_train)\n",
    "\n",
    "grid.best_estimator_\n",
    "\n",
    "print(grid.best_params_)"
   ]
  },
  {
   "cell_type": "code",
   "execution_count": null,
   "metadata": {
    "ExecuteTime": {
     "end_time": "2020-09-20T11:58:49.079329Z",
     "start_time": "2020-09-20T11:58:40.320Z"
    }
   },
   "outputs": [],
   "source": [
    "grid_RFR = pd.DataFrame(randomized.cv_results_)\n",
    "grid_RFR.to_csv('data/output_csv/grid_RFR.csv')\n",
    "grid_RFR.sort_values(by='rank_test_score', axis=0).head()"
   ]
  },
  {
   "cell_type": "markdown",
   "metadata": {},
   "source": [
    "### BaggingRegressor"
   ]
  },
  {
   "cell_type": "markdown",
   "metadata": {
    "colab": {},
    "colab_type": "code",
    "id": "YCKIrRo0sijL"
   },
   "source": [
    "#### RandomizedSearchCV"
   ]
  },
  {
   "cell_type": "code",
   "execution_count": null,
   "metadata": {
    "ExecuteTime": {
     "start_time": "2020-09-20T12:40:38.603Z"
    }
   },
   "outputs": [
    {
     "name": "stdout",
     "output_type": "stream",
     "text": [
      "Fitting 5 folds for each of 10 candidates, totalling 50 fits\n"
     ]
    },
    {
     "name": "stderr",
     "output_type": "stream",
     "text": [
      "[Parallel(n_jobs=-2)]: Using backend LokyBackend with 3 concurrent workers.\n"
     ]
    }
   ],
   "source": [
    "bagging = BaggingRegressor(random_state = 42)\n",
    "\n",
    "\n",
    "n_estimators = [int(x) for x in np.linspace(start = 200, stop = 2000, num = 10)]\n",
    "n_estimators.append(list(np.arange(50,200)))\n",
    "\n",
    "param_grid =  {'base_estimator': [KNeighborsRegressor(), None],\n",
    "               'max_features': [0.25, 0.5, 0.75, 1.0],\n",
    "               'n_estimators' : n_estimators,\n",
    "               'bootstrap_features': [True, False],\n",
    "               'bootstrap': [True, False],\n",
    "               'oob_score': [True, False] \n",
    "            }\n",
    "\n",
    "randomized = RandomizedSearchCV(bagging, param_grid, cv=3, scoring='r2', verbose=2, n_jobs=2, refit=True)\n",
    "\n",
    "randomized.fit(X_train, y_train)\n",
    "\n",
    "randomized.best_estimator_\n",
    "\n",
    "print(randomized.best_params_)"
   ]
  },
  {
   "cell_type": "code",
   "execution_count": null,
   "metadata": {
    "ExecuteTime": {
     "end_time": "2020-09-20T11:58:49.081324Z",
     "start_time": "2020-09-20T11:58:40.326Z"
    }
   },
   "outputs": [],
   "source": [
    "randomized_BR = pd.DataFrame(randomized.cv_results_)\n",
    "randomized_BR.to_csv('data/output_csv/randomized_BR.csv')\n",
    "randomized_BR.sort_values(by='rank_test_score', axis=0).head()"
   ]
  },
  {
   "cell_type": "markdown",
   "metadata": {},
   "source": [
    "#### GridSearchCV"
   ]
  },
  {
   "cell_type": "code",
   "execution_count": null,
   "metadata": {
    "ExecuteTime": {
     "end_time": "2020-09-20T11:58:49.082322Z",
     "start_time": "2020-09-20T11:58:40.329Z"
    }
   },
   "outputs": [],
   "source": [
    "bagging = BaggingRegressor(random_state = 42)\n",
    "\n",
    "max_depth = [int(x) for x in np.linspace(10, 110, num = 11)]\n",
    "max_depth.append(None)\n",
    "\n",
    "n_estimators = [int(x) for x in np.linspace(start = 200, stop = 2000, num = 10)]\n",
    "n_estimators.append(list(np.arange(50,200)))\n",
    "\n",
    "param_grid =  {'base_estimator': [KNeighborsRegressor(), None],\n",
    "               'max_features': [0.25, 0.5, 0.75, 1.0],\n",
    "               'n_estimators' : n_estimators,\n",
    "               'bootstrap_features': [True, False],\n",
    "               'bootstrap': [True, False],\n",
    "               'oob_score': [True, False] \n",
    "            }\n",
    "\n",
    "grid = GridSearchCV(bagging, param_grid, cv=3, scoring='r2', verbose=2, n_jobs=-1, refit=True)\n",
    "\n",
    "grid.fit(X_train, y_train)\n",
    "\n",
    "grid.best_estimator_\n",
    "\n",
    "print(grid.best_params_)"
   ]
  },
  {
   "cell_type": "code",
   "execution_count": null,
   "metadata": {
    "ExecuteTime": {
     "end_time": "2020-09-20T11:58:49.085313Z",
     "start_time": "2020-09-20T11:58:40.332Z"
    }
   },
   "outputs": [],
   "source": [
    "grid_BR = pd.DataFrame(grid.cv_results_)\n",
    "grid_BR.to_csv('data/output_csv/grid_BR.csv')\n",
    "grid_BR.sort_values(by='rank_test_score', axis=0).head()"
   ]
  },
  {
   "cell_type": "markdown",
   "metadata": {},
   "source": [
    "### GradientBoostingRegressor"
   ]
  },
  {
   "cell_type": "markdown",
   "metadata": {
    "colab": {},
    "colab_type": "code",
    "id": "YCKIrRo0sijL"
   },
   "source": [
    "#### RandomizedSearchCV"
   ]
  },
  {
   "cell_type": "code",
   "execution_count": 25,
   "metadata": {
    "ExecuteTime": {
     "end_time": "2020-09-20T13:23:56.811438Z",
     "start_time": "2020-09-20T13:23:32.278855Z"
    }
   },
   "outputs": [
    {
     "name": "stdout",
     "output_type": "stream",
     "text": [
      "Fitting 5 folds for each of 10 candidates, totalling 50 fits\n"
     ]
    },
    {
     "name": "stderr",
     "output_type": "stream",
     "text": [
      "[Parallel(n_jobs=2)]: Using backend LokyBackend with 2 concurrent workers.\n"
     ]
    },
    {
     "ename": "KeyboardInterrupt",
     "evalue": "",
     "output_type": "error",
     "traceback": [
      "\u001b[1;31m---------------------------------------------------------------------------\u001b[0m",
      "\u001b[1;31mKeyboardInterrupt\u001b[0m                         Traceback (most recent call last)",
      "\u001b[1;32m<ipython-input-25-7d015a517597>\u001b[0m in \u001b[0;36m<module>\u001b[1;34m\u001b[0m\n\u001b[0;32m     20\u001b[0m \u001b[0mrandomized\u001b[0m \u001b[1;33m=\u001b[0m \u001b[0mRandomizedSearchCV\u001b[0m\u001b[1;33m(\u001b[0m\u001b[0mgradient_booster\u001b[0m\u001b[1;33m,\u001b[0m \u001b[0mparam_grid\u001b[0m\u001b[1;33m,\u001b[0m \u001b[0mcv\u001b[0m\u001b[1;33m=\u001b[0m\u001b[1;36m5\u001b[0m\u001b[1;33m,\u001b[0m \u001b[0mscoring\u001b[0m\u001b[1;33m=\u001b[0m\u001b[1;34m'r2'\u001b[0m\u001b[1;33m,\u001b[0m \u001b[0mverbose\u001b[0m\u001b[1;33m=\u001b[0m\u001b[1;36m2\u001b[0m\u001b[1;33m,\u001b[0m \u001b[0mn_jobs\u001b[0m\u001b[1;33m=\u001b[0m\u001b[1;36m2\u001b[0m\u001b[1;33m,\u001b[0m \u001b[0mrefit\u001b[0m\u001b[1;33m=\u001b[0m\u001b[1;32mTrue\u001b[0m\u001b[1;33m)\u001b[0m\u001b[1;33m\u001b[0m\u001b[1;33m\u001b[0m\u001b[0m\n\u001b[0;32m     21\u001b[0m \u001b[1;33m\u001b[0m\u001b[0m\n\u001b[1;32m---> 22\u001b[1;33m \u001b[0mrandomized\u001b[0m\u001b[1;33m.\u001b[0m\u001b[0mfit\u001b[0m\u001b[1;33m(\u001b[0m\u001b[0mX_train\u001b[0m\u001b[1;33m,\u001b[0m \u001b[0my_train\u001b[0m\u001b[1;33m)\u001b[0m\u001b[1;33m\u001b[0m\u001b[1;33m\u001b[0m\u001b[0m\n\u001b[0m\u001b[0;32m     23\u001b[0m \u001b[1;33m\u001b[0m\u001b[0m\n\u001b[0;32m     24\u001b[0m \u001b[0mrandomized\u001b[0m\u001b[1;33m.\u001b[0m\u001b[0mbest_estimator_\u001b[0m\u001b[1;33m\u001b[0m\u001b[1;33m\u001b[0m\u001b[0m\n",
      "\u001b[1;32m~\\Anaconda3\\lib\\site-packages\\sklearn\\model_selection\\_search.py\u001b[0m in \u001b[0;36mfit\u001b[1;34m(self, X, y, groups, **fit_params)\u001b[0m\n\u001b[0;32m    708\u001b[0m                 \u001b[1;32mreturn\u001b[0m \u001b[0mresults\u001b[0m\u001b[1;33m\u001b[0m\u001b[1;33m\u001b[0m\u001b[0m\n\u001b[0;32m    709\u001b[0m \u001b[1;33m\u001b[0m\u001b[0m\n\u001b[1;32m--> 710\u001b[1;33m             \u001b[0mself\u001b[0m\u001b[1;33m.\u001b[0m\u001b[0m_run_search\u001b[0m\u001b[1;33m(\u001b[0m\u001b[0mevaluate_candidates\u001b[0m\u001b[1;33m)\u001b[0m\u001b[1;33m\u001b[0m\u001b[1;33m\u001b[0m\u001b[0m\n\u001b[0m\u001b[0;32m    711\u001b[0m \u001b[1;33m\u001b[0m\u001b[0m\n\u001b[0;32m    712\u001b[0m         \u001b[1;31m# For multi-metric evaluation, store the best_index_, best_params_ and\u001b[0m\u001b[1;33m\u001b[0m\u001b[1;33m\u001b[0m\u001b[1;33m\u001b[0m\u001b[0m\n",
      "\u001b[1;32m~\\Anaconda3\\lib\\site-packages\\sklearn\\model_selection\\_search.py\u001b[0m in \u001b[0;36m_run_search\u001b[1;34m(self, evaluate_candidates)\u001b[0m\n\u001b[0;32m   1482\u001b[0m         evaluate_candidates(ParameterSampler(\n\u001b[0;32m   1483\u001b[0m             \u001b[0mself\u001b[0m\u001b[1;33m.\u001b[0m\u001b[0mparam_distributions\u001b[0m\u001b[1;33m,\u001b[0m \u001b[0mself\u001b[0m\u001b[1;33m.\u001b[0m\u001b[0mn_iter\u001b[0m\u001b[1;33m,\u001b[0m\u001b[1;33m\u001b[0m\u001b[1;33m\u001b[0m\u001b[0m\n\u001b[1;32m-> 1484\u001b[1;33m             random_state=self.random_state))\n\u001b[0m",
      "\u001b[1;32m~\\Anaconda3\\lib\\site-packages\\sklearn\\model_selection\\_search.py\u001b[0m in \u001b[0;36mevaluate_candidates\u001b[1;34m(candidate_params)\u001b[0m\n\u001b[0;32m    687\u001b[0m                                \u001b[1;32mfor\u001b[0m \u001b[0mparameters\u001b[0m\u001b[1;33m,\u001b[0m \u001b[1;33m(\u001b[0m\u001b[0mtrain\u001b[0m\u001b[1;33m,\u001b[0m \u001b[0mtest\u001b[0m\u001b[1;33m)\u001b[0m\u001b[1;33m\u001b[0m\u001b[1;33m\u001b[0m\u001b[0m\n\u001b[0;32m    688\u001b[0m                                in product(candidate_params,\n\u001b[1;32m--> 689\u001b[1;33m                                           cv.split(X, y, groups)))\n\u001b[0m\u001b[0;32m    690\u001b[0m \u001b[1;33m\u001b[0m\u001b[0m\n\u001b[0;32m    691\u001b[0m                 \u001b[1;32mif\u001b[0m \u001b[0mlen\u001b[0m\u001b[1;33m(\u001b[0m\u001b[0mout\u001b[0m\u001b[1;33m)\u001b[0m \u001b[1;33m<\u001b[0m \u001b[1;36m1\u001b[0m\u001b[1;33m:\u001b[0m\u001b[1;33m\u001b[0m\u001b[1;33m\u001b[0m\u001b[0m\n",
      "\u001b[1;32m~\\Anaconda3\\lib\\site-packages\\joblib\\parallel.py\u001b[0m in \u001b[0;36m__call__\u001b[1;34m(self, iterable)\u001b[0m\n\u001b[0;32m   1040\u001b[0m \u001b[1;33m\u001b[0m\u001b[0m\n\u001b[0;32m   1041\u001b[0m             \u001b[1;32mwith\u001b[0m \u001b[0mself\u001b[0m\u001b[1;33m.\u001b[0m\u001b[0m_backend\u001b[0m\u001b[1;33m.\u001b[0m\u001b[0mretrieval_context\u001b[0m\u001b[1;33m(\u001b[0m\u001b[1;33m)\u001b[0m\u001b[1;33m:\u001b[0m\u001b[1;33m\u001b[0m\u001b[1;33m\u001b[0m\u001b[0m\n\u001b[1;32m-> 1042\u001b[1;33m                 \u001b[0mself\u001b[0m\u001b[1;33m.\u001b[0m\u001b[0mretrieve\u001b[0m\u001b[1;33m(\u001b[0m\u001b[1;33m)\u001b[0m\u001b[1;33m\u001b[0m\u001b[1;33m\u001b[0m\u001b[0m\n\u001b[0m\u001b[0;32m   1043\u001b[0m             \u001b[1;31m# Make sure that we get a last message telling us we are done\u001b[0m\u001b[1;33m\u001b[0m\u001b[1;33m\u001b[0m\u001b[1;33m\u001b[0m\u001b[0m\n\u001b[0;32m   1044\u001b[0m             \u001b[0melapsed_time\u001b[0m \u001b[1;33m=\u001b[0m \u001b[0mtime\u001b[0m\u001b[1;33m.\u001b[0m\u001b[0mtime\u001b[0m\u001b[1;33m(\u001b[0m\u001b[1;33m)\u001b[0m \u001b[1;33m-\u001b[0m \u001b[0mself\u001b[0m\u001b[1;33m.\u001b[0m\u001b[0m_start_time\u001b[0m\u001b[1;33m\u001b[0m\u001b[1;33m\u001b[0m\u001b[0m\n",
      "\u001b[1;32m~\\Anaconda3\\lib\\site-packages\\joblib\\parallel.py\u001b[0m in \u001b[0;36mretrieve\u001b[1;34m(self)\u001b[0m\n\u001b[0;32m    919\u001b[0m             \u001b[1;32mtry\u001b[0m\u001b[1;33m:\u001b[0m\u001b[1;33m\u001b[0m\u001b[1;33m\u001b[0m\u001b[0m\n\u001b[0;32m    920\u001b[0m                 \u001b[1;32mif\u001b[0m \u001b[0mgetattr\u001b[0m\u001b[1;33m(\u001b[0m\u001b[0mself\u001b[0m\u001b[1;33m.\u001b[0m\u001b[0m_backend\u001b[0m\u001b[1;33m,\u001b[0m \u001b[1;34m'supports_timeout'\u001b[0m\u001b[1;33m,\u001b[0m \u001b[1;32mFalse\u001b[0m\u001b[1;33m)\u001b[0m\u001b[1;33m:\u001b[0m\u001b[1;33m\u001b[0m\u001b[1;33m\u001b[0m\u001b[0m\n\u001b[1;32m--> 921\u001b[1;33m                     \u001b[0mself\u001b[0m\u001b[1;33m.\u001b[0m\u001b[0m_output\u001b[0m\u001b[1;33m.\u001b[0m\u001b[0mextend\u001b[0m\u001b[1;33m(\u001b[0m\u001b[0mjob\u001b[0m\u001b[1;33m.\u001b[0m\u001b[0mget\u001b[0m\u001b[1;33m(\u001b[0m\u001b[0mtimeout\u001b[0m\u001b[1;33m=\u001b[0m\u001b[0mself\u001b[0m\u001b[1;33m.\u001b[0m\u001b[0mtimeout\u001b[0m\u001b[1;33m)\u001b[0m\u001b[1;33m)\u001b[0m\u001b[1;33m\u001b[0m\u001b[1;33m\u001b[0m\u001b[0m\n\u001b[0m\u001b[0;32m    922\u001b[0m                 \u001b[1;32melse\u001b[0m\u001b[1;33m:\u001b[0m\u001b[1;33m\u001b[0m\u001b[1;33m\u001b[0m\u001b[0m\n\u001b[0;32m    923\u001b[0m                     \u001b[0mself\u001b[0m\u001b[1;33m.\u001b[0m\u001b[0m_output\u001b[0m\u001b[1;33m.\u001b[0m\u001b[0mextend\u001b[0m\u001b[1;33m(\u001b[0m\u001b[0mjob\u001b[0m\u001b[1;33m.\u001b[0m\u001b[0mget\u001b[0m\u001b[1;33m(\u001b[0m\u001b[1;33m)\u001b[0m\u001b[1;33m)\u001b[0m\u001b[1;33m\u001b[0m\u001b[1;33m\u001b[0m\u001b[0m\n",
      "\u001b[1;32m~\\Anaconda3\\lib\\site-packages\\joblib\\_parallel_backends.py\u001b[0m in \u001b[0;36mwrap_future_result\u001b[1;34m(future, timeout)\u001b[0m\n\u001b[0;32m    540\u001b[0m         AsyncResults.get from multiprocessing.\"\"\"\n\u001b[0;32m    541\u001b[0m         \u001b[1;32mtry\u001b[0m\u001b[1;33m:\u001b[0m\u001b[1;33m\u001b[0m\u001b[1;33m\u001b[0m\u001b[0m\n\u001b[1;32m--> 542\u001b[1;33m             \u001b[1;32mreturn\u001b[0m \u001b[0mfuture\u001b[0m\u001b[1;33m.\u001b[0m\u001b[0mresult\u001b[0m\u001b[1;33m(\u001b[0m\u001b[0mtimeout\u001b[0m\u001b[1;33m=\u001b[0m\u001b[0mtimeout\u001b[0m\u001b[1;33m)\u001b[0m\u001b[1;33m\u001b[0m\u001b[1;33m\u001b[0m\u001b[0m\n\u001b[0m\u001b[0;32m    543\u001b[0m         \u001b[1;32mexcept\u001b[0m \u001b[0mCfTimeoutError\u001b[0m \u001b[1;32mas\u001b[0m \u001b[0me\u001b[0m\u001b[1;33m:\u001b[0m\u001b[1;33m\u001b[0m\u001b[1;33m\u001b[0m\u001b[0m\n\u001b[0;32m    544\u001b[0m             \u001b[1;32mraise\u001b[0m \u001b[0mTimeoutError\u001b[0m \u001b[1;32mfrom\u001b[0m \u001b[0me\u001b[0m\u001b[1;33m\u001b[0m\u001b[1;33m\u001b[0m\u001b[0m\n",
      "\u001b[1;32m~\\Anaconda3\\lib\\concurrent\\futures\\_base.py\u001b[0m in \u001b[0;36mresult\u001b[1;34m(self, timeout)\u001b[0m\n\u001b[0;32m    428\u001b[0m                 \u001b[1;32mreturn\u001b[0m \u001b[0mself\u001b[0m\u001b[1;33m.\u001b[0m\u001b[0m__get_result\u001b[0m\u001b[1;33m(\u001b[0m\u001b[1;33m)\u001b[0m\u001b[1;33m\u001b[0m\u001b[1;33m\u001b[0m\u001b[0m\n\u001b[0;32m    429\u001b[0m \u001b[1;33m\u001b[0m\u001b[0m\n\u001b[1;32m--> 430\u001b[1;33m             \u001b[0mself\u001b[0m\u001b[1;33m.\u001b[0m\u001b[0m_condition\u001b[0m\u001b[1;33m.\u001b[0m\u001b[0mwait\u001b[0m\u001b[1;33m(\u001b[0m\u001b[0mtimeout\u001b[0m\u001b[1;33m)\u001b[0m\u001b[1;33m\u001b[0m\u001b[1;33m\u001b[0m\u001b[0m\n\u001b[0m\u001b[0;32m    431\u001b[0m \u001b[1;33m\u001b[0m\u001b[0m\n\u001b[0;32m    432\u001b[0m             \u001b[1;32mif\u001b[0m \u001b[0mself\u001b[0m\u001b[1;33m.\u001b[0m\u001b[0m_state\u001b[0m \u001b[1;32min\u001b[0m \u001b[1;33m[\u001b[0m\u001b[0mCANCELLED\u001b[0m\u001b[1;33m,\u001b[0m \u001b[0mCANCELLED_AND_NOTIFIED\u001b[0m\u001b[1;33m]\u001b[0m\u001b[1;33m:\u001b[0m\u001b[1;33m\u001b[0m\u001b[1;33m\u001b[0m\u001b[0m\n",
      "\u001b[1;32m~\\Anaconda3\\lib\\threading.py\u001b[0m in \u001b[0;36mwait\u001b[1;34m(self, timeout)\u001b[0m\n\u001b[0;32m    294\u001b[0m         \u001b[1;32mtry\u001b[0m\u001b[1;33m:\u001b[0m    \u001b[1;31m# restore state no matter what (e.g., KeyboardInterrupt)\u001b[0m\u001b[1;33m\u001b[0m\u001b[1;33m\u001b[0m\u001b[0m\n\u001b[0;32m    295\u001b[0m             \u001b[1;32mif\u001b[0m \u001b[0mtimeout\u001b[0m \u001b[1;32mis\u001b[0m \u001b[1;32mNone\u001b[0m\u001b[1;33m:\u001b[0m\u001b[1;33m\u001b[0m\u001b[1;33m\u001b[0m\u001b[0m\n\u001b[1;32m--> 296\u001b[1;33m                 \u001b[0mwaiter\u001b[0m\u001b[1;33m.\u001b[0m\u001b[0macquire\u001b[0m\u001b[1;33m(\u001b[0m\u001b[1;33m)\u001b[0m\u001b[1;33m\u001b[0m\u001b[1;33m\u001b[0m\u001b[0m\n\u001b[0m\u001b[0;32m    297\u001b[0m                 \u001b[0mgotit\u001b[0m \u001b[1;33m=\u001b[0m \u001b[1;32mTrue\u001b[0m\u001b[1;33m\u001b[0m\u001b[1;33m\u001b[0m\u001b[0m\n\u001b[0;32m    298\u001b[0m             \u001b[1;32melse\u001b[0m\u001b[1;33m:\u001b[0m\u001b[1;33m\u001b[0m\u001b[1;33m\u001b[0m\u001b[0m\n",
      "\u001b[1;31mKeyboardInterrupt\u001b[0m: "
     ]
    }
   ],
   "source": [
    "gradient_booster = GradientBoostingRegressor(random_state = 42)\n",
    "\n",
    "max_depth = [int(x) for x in np.linspace(10, 110, num = 11)]\n",
    "max_depth.append(None)\n",
    "\n",
    "n_estimators = [int(x) for x in np.linspace(start = 200, stop = 2000, num = 10)]\n",
    "n_estimators.append(list(np.arange(50,200)))\n",
    "\n",
    "param_grid =  {'loss':['ls', 'lad', 'huber', 'quantile'],\n",
    "               'learning_rate': [0.01, 0.025, 0.05, 0.075, 0.1, 0.15, 0.2],\n",
    "               'max_depth': max_depth, \n",
    "               'n_estimators' : n_estimators,\n",
    "               'min_samples_leaf': np.arange(1,20),\n",
    "               'min_samples_split': np.arange(2,25),\n",
    "               'max_features':['auto', 'sqrt', 'log2'],\n",
    "               'criterion': ['friedman_mse', 'mse', 'mae'],\n",
    "               'subsample':[0.5, 0.6, 0.7, 0.8, 0.9, 1.0]\n",
    "              }\n",
    "\n",
    "randomized = RandomizedSearchCV(gradient_booster, param_grid, cv=3, scoring='r2', verbose=2, n_jobs=-1, refit=True)\n",
    "\n",
    "randomized.fit(X_train, y_train)\n",
    "\n",
    "randomized.best_estimator_\n",
    "\n",
    "print(randomized.best_params_)"
   ]
  },
  {
   "cell_type": "code",
   "execution_count": null,
   "metadata": {
    "ExecuteTime": {
     "end_time": "2020-09-20T13:41:02.635841Z",
     "start_time": "2020-09-20T13:41:02.604027Z"
    }
   },
   "outputs": [],
   "source": [
    "randomized_GBR = pd.DataFrame(randomized.cv_results_)\n",
    "randomized_GBR.to_csv('data/output_csv/randomized_GBR.csv')\n",
    "randomized_GBR.sort_values(by='rank_test_score', axis=0).head()"
   ]
  },
  {
   "cell_type": "markdown",
   "metadata": {},
   "source": [
    "#### GridSearchCV"
   ]
  },
  {
   "cell_type": "code",
   "execution_count": null,
   "metadata": {
    "ExecuteTime": {
     "end_time": "2020-09-20T11:58:49.089303Z",
     "start_time": "2020-09-20T11:58:40.340Z"
    }
   },
   "outputs": [],
   "source": [
    "gradient_booster = GradientBoostingRegressor(random_state = 42)\n",
    "\n",
    "max_depth = [int(x) for x in np.linspace(10, 110, num = 11)]\n",
    "max_depth.append(None)\n",
    "\n",
    "n_estimators = [int(x) for x in np.linspace(start = 200, stop = 2000, num = 10)]\n",
    "n_estimators.append(list(np.arange(50,200)))\n",
    "\n",
    "param_grid =  {'loss':['ls', 'lad', 'huber', 'quantile'],\n",
    "               'learning_rate': [0.01, 0.025, 0.05, 0.075, 0.1, 0.15, 0.2],\n",
    "               'max_depth': max_depth, \n",
    "               'n_estimators' : n_estimators,\n",
    "               'min_samples_leaf': np.arange(1,20),\n",
    "               'min_samples_split': np.arange(2,25),\n",
    "               'max_features':['auto', 'sqrt', 'log2'],\n",
    "               'criterion': ['friedman_mse', 'mse', 'mae'],\n",
    "               'subsample':[0.5, 0.6, 0.7, 0.8, 0.9, 1.0]\n",
    "              }\n",
    "\n",
    "grid = GridSearchCV(gradient_booster, param_grid, cv=3, scoring='r2', verbose=2, n_jobs=-1, refit=True)\n",
    "\n",
    "grid.fit(X_train, y_train)\n",
    "\n",
    "grid.best_estimator_\n",
    "\n",
    "print(grid.best_params_)"
   ]
  },
  {
   "cell_type": "code",
   "execution_count": null,
   "metadata": {
    "ExecuteTime": {
     "end_time": "2020-09-20T11:58:49.091297Z",
     "start_time": "2020-09-20T11:58:40.342Z"
    }
   },
   "outputs": [],
   "source": [
    "grid_GBR = pd.DataFrame(grid.cv_results_)\n",
    "grid_GBR.to_csv('data/output_csv/grid_GBR.csv')\n",
    "grid_GBR.sort_values(by='rank_test_score', axis=0).head()"
   ]
  },
  {
   "cell_type": "markdown",
   "metadata": {},
   "source": [
    "### DecisionTreeRegressor"
   ]
  },
  {
   "cell_type": "markdown",
   "metadata": {
    "colab": {},
    "colab_type": "code",
    "id": "YCKIrRo0sijL"
   },
   "source": [
    "#### RandomizedSearchCV"
   ]
  },
  {
   "cell_type": "code",
   "execution_count": 56,
   "metadata": {
    "ExecuteTime": {
     "end_time": "2020-09-20T13:23:56.811438Z",
     "start_time": "2020-09-20T13:23:32.278855Z"
    }
   },
   "outputs": [
    {
     "name": "stdout",
     "output_type": "stream",
     "text": [
      "Fitting 3 folds for each of 10 candidates, totalling 30 fits\n"
     ]
    },
    {
     "name": "stderr",
     "output_type": "stream",
     "text": [
      "[Parallel(n_jobs=2)]: Using backend LokyBackend with 2 concurrent workers.\n"
     ]
    },
    {
     "ename": "KeyboardInterrupt",
     "evalue": "",
     "output_type": "error",
     "traceback": [
      "\u001b[1;31m---------------------------------------------------------------------------\u001b[0m",
      "\u001b[1;31mKeyboardInterrupt\u001b[0m                         Traceback (most recent call last)",
      "\u001b[1;32m<ipython-input-56-7e5910475e46>\u001b[0m in \u001b[0;36m<module>\u001b[1;34m\u001b[0m\n\u001b[0;32m     13\u001b[0m \u001b[0mrandomized\u001b[0m \u001b[1;33m=\u001b[0m \u001b[0mRandomizedSearchCV\u001b[0m\u001b[1;33m(\u001b[0m\u001b[0mdecision_tree\u001b[0m\u001b[1;33m,\u001b[0m \u001b[0mparam_grid\u001b[0m\u001b[1;33m,\u001b[0m \u001b[0mcv\u001b[0m\u001b[1;33m=\u001b[0m\u001b[1;36m3\u001b[0m\u001b[1;33m,\u001b[0m \u001b[0mscoring\u001b[0m\u001b[1;33m=\u001b[0m\u001b[1;34m'r2'\u001b[0m\u001b[1;33m,\u001b[0m \u001b[0mverbose\u001b[0m\u001b[1;33m=\u001b[0m\u001b[1;36m2\u001b[0m\u001b[1;33m,\u001b[0m \u001b[0mn_jobs\u001b[0m\u001b[1;33m=\u001b[0m\u001b[1;36m2\u001b[0m\u001b[1;33m,\u001b[0m \u001b[0mrefit\u001b[0m\u001b[1;33m=\u001b[0m\u001b[1;32mTrue\u001b[0m\u001b[1;33m)\u001b[0m\u001b[1;33m\u001b[0m\u001b[1;33m\u001b[0m\u001b[0m\n\u001b[0;32m     14\u001b[0m \u001b[1;33m\u001b[0m\u001b[0m\n\u001b[1;32m---> 15\u001b[1;33m \u001b[0mrandomized\u001b[0m\u001b[1;33m.\u001b[0m\u001b[0mfit\u001b[0m\u001b[1;33m(\u001b[0m\u001b[0mX_train\u001b[0m\u001b[1;33m,\u001b[0m \u001b[0my_train\u001b[0m\u001b[1;33m)\u001b[0m\u001b[1;33m\u001b[0m\u001b[1;33m\u001b[0m\u001b[0m\n\u001b[0m\u001b[0;32m     16\u001b[0m \u001b[1;33m\u001b[0m\u001b[0m\n\u001b[0;32m     17\u001b[0m \u001b[0mrandomized\u001b[0m\u001b[1;33m.\u001b[0m\u001b[0mbest_estimator_\u001b[0m\u001b[1;33m\u001b[0m\u001b[1;33m\u001b[0m\u001b[0m\n",
      "\u001b[1;32m~\\Anaconda3\\lib\\site-packages\\sklearn\\model_selection\\_search.py\u001b[0m in \u001b[0;36mfit\u001b[1;34m(self, X, y, groups, **fit_params)\u001b[0m\n\u001b[0;32m    708\u001b[0m                 \u001b[1;32mreturn\u001b[0m \u001b[0mresults\u001b[0m\u001b[1;33m\u001b[0m\u001b[1;33m\u001b[0m\u001b[0m\n\u001b[0;32m    709\u001b[0m \u001b[1;33m\u001b[0m\u001b[0m\n\u001b[1;32m--> 710\u001b[1;33m             \u001b[0mself\u001b[0m\u001b[1;33m.\u001b[0m\u001b[0m_run_search\u001b[0m\u001b[1;33m(\u001b[0m\u001b[0mevaluate_candidates\u001b[0m\u001b[1;33m)\u001b[0m\u001b[1;33m\u001b[0m\u001b[1;33m\u001b[0m\u001b[0m\n\u001b[0m\u001b[0;32m    711\u001b[0m \u001b[1;33m\u001b[0m\u001b[0m\n\u001b[0;32m    712\u001b[0m         \u001b[1;31m# For multi-metric evaluation, store the best_index_, best_params_ and\u001b[0m\u001b[1;33m\u001b[0m\u001b[1;33m\u001b[0m\u001b[1;33m\u001b[0m\u001b[0m\n",
      "\u001b[1;32m~\\Anaconda3\\lib\\site-packages\\sklearn\\model_selection\\_search.py\u001b[0m in \u001b[0;36m_run_search\u001b[1;34m(self, evaluate_candidates)\u001b[0m\n\u001b[0;32m   1482\u001b[0m         evaluate_candidates(ParameterSampler(\n\u001b[0;32m   1483\u001b[0m             \u001b[0mself\u001b[0m\u001b[1;33m.\u001b[0m\u001b[0mparam_distributions\u001b[0m\u001b[1;33m,\u001b[0m \u001b[0mself\u001b[0m\u001b[1;33m.\u001b[0m\u001b[0mn_iter\u001b[0m\u001b[1;33m,\u001b[0m\u001b[1;33m\u001b[0m\u001b[1;33m\u001b[0m\u001b[0m\n\u001b[1;32m-> 1484\u001b[1;33m             random_state=self.random_state))\n\u001b[0m",
      "\u001b[1;32m~\\Anaconda3\\lib\\site-packages\\sklearn\\model_selection\\_search.py\u001b[0m in \u001b[0;36mevaluate_candidates\u001b[1;34m(candidate_params)\u001b[0m\n\u001b[0;32m    687\u001b[0m                                \u001b[1;32mfor\u001b[0m \u001b[0mparameters\u001b[0m\u001b[1;33m,\u001b[0m \u001b[1;33m(\u001b[0m\u001b[0mtrain\u001b[0m\u001b[1;33m,\u001b[0m \u001b[0mtest\u001b[0m\u001b[1;33m)\u001b[0m\u001b[1;33m\u001b[0m\u001b[1;33m\u001b[0m\u001b[0m\n\u001b[0;32m    688\u001b[0m                                in product(candidate_params,\n\u001b[1;32m--> 689\u001b[1;33m                                           cv.split(X, y, groups)))\n\u001b[0m\u001b[0;32m    690\u001b[0m \u001b[1;33m\u001b[0m\u001b[0m\n\u001b[0;32m    691\u001b[0m                 \u001b[1;32mif\u001b[0m \u001b[0mlen\u001b[0m\u001b[1;33m(\u001b[0m\u001b[0mout\u001b[0m\u001b[1;33m)\u001b[0m \u001b[1;33m<\u001b[0m \u001b[1;36m1\u001b[0m\u001b[1;33m:\u001b[0m\u001b[1;33m\u001b[0m\u001b[1;33m\u001b[0m\u001b[0m\n",
      "\u001b[1;32m~\\Anaconda3\\lib\\site-packages\\joblib\\parallel.py\u001b[0m in \u001b[0;36m__call__\u001b[1;34m(self, iterable)\u001b[0m\n\u001b[0;32m   1040\u001b[0m \u001b[1;33m\u001b[0m\u001b[0m\n\u001b[0;32m   1041\u001b[0m             \u001b[1;32mwith\u001b[0m \u001b[0mself\u001b[0m\u001b[1;33m.\u001b[0m\u001b[0m_backend\u001b[0m\u001b[1;33m.\u001b[0m\u001b[0mretrieval_context\u001b[0m\u001b[1;33m(\u001b[0m\u001b[1;33m)\u001b[0m\u001b[1;33m:\u001b[0m\u001b[1;33m\u001b[0m\u001b[1;33m\u001b[0m\u001b[0m\n\u001b[1;32m-> 1042\u001b[1;33m                 \u001b[0mself\u001b[0m\u001b[1;33m.\u001b[0m\u001b[0mretrieve\u001b[0m\u001b[1;33m(\u001b[0m\u001b[1;33m)\u001b[0m\u001b[1;33m\u001b[0m\u001b[1;33m\u001b[0m\u001b[0m\n\u001b[0m\u001b[0;32m   1043\u001b[0m             \u001b[1;31m# Make sure that we get a last message telling us we are done\u001b[0m\u001b[1;33m\u001b[0m\u001b[1;33m\u001b[0m\u001b[1;33m\u001b[0m\u001b[0m\n\u001b[0;32m   1044\u001b[0m             \u001b[0melapsed_time\u001b[0m \u001b[1;33m=\u001b[0m \u001b[0mtime\u001b[0m\u001b[1;33m.\u001b[0m\u001b[0mtime\u001b[0m\u001b[1;33m(\u001b[0m\u001b[1;33m)\u001b[0m \u001b[1;33m-\u001b[0m \u001b[0mself\u001b[0m\u001b[1;33m.\u001b[0m\u001b[0m_start_time\u001b[0m\u001b[1;33m\u001b[0m\u001b[1;33m\u001b[0m\u001b[0m\n",
      "\u001b[1;32m~\\Anaconda3\\lib\\site-packages\\joblib\\parallel.py\u001b[0m in \u001b[0;36mretrieve\u001b[1;34m(self)\u001b[0m\n\u001b[0;32m    919\u001b[0m             \u001b[1;32mtry\u001b[0m\u001b[1;33m:\u001b[0m\u001b[1;33m\u001b[0m\u001b[1;33m\u001b[0m\u001b[0m\n\u001b[0;32m    920\u001b[0m                 \u001b[1;32mif\u001b[0m \u001b[0mgetattr\u001b[0m\u001b[1;33m(\u001b[0m\u001b[0mself\u001b[0m\u001b[1;33m.\u001b[0m\u001b[0m_backend\u001b[0m\u001b[1;33m,\u001b[0m \u001b[1;34m'supports_timeout'\u001b[0m\u001b[1;33m,\u001b[0m \u001b[1;32mFalse\u001b[0m\u001b[1;33m)\u001b[0m\u001b[1;33m:\u001b[0m\u001b[1;33m\u001b[0m\u001b[1;33m\u001b[0m\u001b[0m\n\u001b[1;32m--> 921\u001b[1;33m                     \u001b[0mself\u001b[0m\u001b[1;33m.\u001b[0m\u001b[0m_output\u001b[0m\u001b[1;33m.\u001b[0m\u001b[0mextend\u001b[0m\u001b[1;33m(\u001b[0m\u001b[0mjob\u001b[0m\u001b[1;33m.\u001b[0m\u001b[0mget\u001b[0m\u001b[1;33m(\u001b[0m\u001b[0mtimeout\u001b[0m\u001b[1;33m=\u001b[0m\u001b[0mself\u001b[0m\u001b[1;33m.\u001b[0m\u001b[0mtimeout\u001b[0m\u001b[1;33m)\u001b[0m\u001b[1;33m)\u001b[0m\u001b[1;33m\u001b[0m\u001b[1;33m\u001b[0m\u001b[0m\n\u001b[0m\u001b[0;32m    922\u001b[0m                 \u001b[1;32melse\u001b[0m\u001b[1;33m:\u001b[0m\u001b[1;33m\u001b[0m\u001b[1;33m\u001b[0m\u001b[0m\n\u001b[0;32m    923\u001b[0m                     \u001b[0mself\u001b[0m\u001b[1;33m.\u001b[0m\u001b[0m_output\u001b[0m\u001b[1;33m.\u001b[0m\u001b[0mextend\u001b[0m\u001b[1;33m(\u001b[0m\u001b[0mjob\u001b[0m\u001b[1;33m.\u001b[0m\u001b[0mget\u001b[0m\u001b[1;33m(\u001b[0m\u001b[1;33m)\u001b[0m\u001b[1;33m)\u001b[0m\u001b[1;33m\u001b[0m\u001b[1;33m\u001b[0m\u001b[0m\n",
      "\u001b[1;32m~\\Anaconda3\\lib\\site-packages\\joblib\\_parallel_backends.py\u001b[0m in \u001b[0;36mwrap_future_result\u001b[1;34m(future, timeout)\u001b[0m\n\u001b[0;32m    540\u001b[0m         AsyncResults.get from multiprocessing.\"\"\"\n\u001b[0;32m    541\u001b[0m         \u001b[1;32mtry\u001b[0m\u001b[1;33m:\u001b[0m\u001b[1;33m\u001b[0m\u001b[1;33m\u001b[0m\u001b[0m\n\u001b[1;32m--> 542\u001b[1;33m             \u001b[1;32mreturn\u001b[0m \u001b[0mfuture\u001b[0m\u001b[1;33m.\u001b[0m\u001b[0mresult\u001b[0m\u001b[1;33m(\u001b[0m\u001b[0mtimeout\u001b[0m\u001b[1;33m=\u001b[0m\u001b[0mtimeout\u001b[0m\u001b[1;33m)\u001b[0m\u001b[1;33m\u001b[0m\u001b[1;33m\u001b[0m\u001b[0m\n\u001b[0m\u001b[0;32m    543\u001b[0m         \u001b[1;32mexcept\u001b[0m \u001b[0mCfTimeoutError\u001b[0m \u001b[1;32mas\u001b[0m \u001b[0me\u001b[0m\u001b[1;33m:\u001b[0m\u001b[1;33m\u001b[0m\u001b[1;33m\u001b[0m\u001b[0m\n\u001b[0;32m    544\u001b[0m             \u001b[1;32mraise\u001b[0m \u001b[0mTimeoutError\u001b[0m \u001b[1;32mfrom\u001b[0m \u001b[0me\u001b[0m\u001b[1;33m\u001b[0m\u001b[1;33m\u001b[0m\u001b[0m\n",
      "\u001b[1;32m~\\Anaconda3\\lib\\concurrent\\futures\\_base.py\u001b[0m in \u001b[0;36mresult\u001b[1;34m(self, timeout)\u001b[0m\n\u001b[0;32m    428\u001b[0m                 \u001b[1;32mreturn\u001b[0m \u001b[0mself\u001b[0m\u001b[1;33m.\u001b[0m\u001b[0m__get_result\u001b[0m\u001b[1;33m(\u001b[0m\u001b[1;33m)\u001b[0m\u001b[1;33m\u001b[0m\u001b[1;33m\u001b[0m\u001b[0m\n\u001b[0;32m    429\u001b[0m \u001b[1;33m\u001b[0m\u001b[0m\n\u001b[1;32m--> 430\u001b[1;33m             \u001b[0mself\u001b[0m\u001b[1;33m.\u001b[0m\u001b[0m_condition\u001b[0m\u001b[1;33m.\u001b[0m\u001b[0mwait\u001b[0m\u001b[1;33m(\u001b[0m\u001b[0mtimeout\u001b[0m\u001b[1;33m)\u001b[0m\u001b[1;33m\u001b[0m\u001b[1;33m\u001b[0m\u001b[0m\n\u001b[0m\u001b[0;32m    431\u001b[0m \u001b[1;33m\u001b[0m\u001b[0m\n\u001b[0;32m    432\u001b[0m             \u001b[1;32mif\u001b[0m \u001b[0mself\u001b[0m\u001b[1;33m.\u001b[0m\u001b[0m_state\u001b[0m \u001b[1;32min\u001b[0m \u001b[1;33m[\u001b[0m\u001b[0mCANCELLED\u001b[0m\u001b[1;33m,\u001b[0m \u001b[0mCANCELLED_AND_NOTIFIED\u001b[0m\u001b[1;33m]\u001b[0m\u001b[1;33m:\u001b[0m\u001b[1;33m\u001b[0m\u001b[1;33m\u001b[0m\u001b[0m\n",
      "\u001b[1;32m~\\Anaconda3\\lib\\threading.py\u001b[0m in \u001b[0;36mwait\u001b[1;34m(self, timeout)\u001b[0m\n\u001b[0;32m    294\u001b[0m         \u001b[1;32mtry\u001b[0m\u001b[1;33m:\u001b[0m    \u001b[1;31m# restore state no matter what (e.g., KeyboardInterrupt)\u001b[0m\u001b[1;33m\u001b[0m\u001b[1;33m\u001b[0m\u001b[0m\n\u001b[0;32m    295\u001b[0m             \u001b[1;32mif\u001b[0m \u001b[0mtimeout\u001b[0m \u001b[1;32mis\u001b[0m \u001b[1;32mNone\u001b[0m\u001b[1;33m:\u001b[0m\u001b[1;33m\u001b[0m\u001b[1;33m\u001b[0m\u001b[0m\n\u001b[1;32m--> 296\u001b[1;33m                 \u001b[0mwaiter\u001b[0m\u001b[1;33m.\u001b[0m\u001b[0macquire\u001b[0m\u001b[1;33m(\u001b[0m\u001b[1;33m)\u001b[0m\u001b[1;33m\u001b[0m\u001b[1;33m\u001b[0m\u001b[0m\n\u001b[0m\u001b[0;32m    297\u001b[0m                 \u001b[0mgotit\u001b[0m \u001b[1;33m=\u001b[0m \u001b[1;32mTrue\u001b[0m\u001b[1;33m\u001b[0m\u001b[1;33m\u001b[0m\u001b[0m\n\u001b[0;32m    298\u001b[0m             \u001b[1;32melse\u001b[0m\u001b[1;33m:\u001b[0m\u001b[1;33m\u001b[0m\u001b[1;33m\u001b[0m\u001b[0m\n",
      "\u001b[1;31mKeyboardInterrupt\u001b[0m: "
     ]
    }
   ],
   "source": [
    "decision_tree = DecisionTreeRegressor(random_state = 42)\n",
    "\n",
    "max_depth = [int(x) for x in np.linspace(10, 110, num = 11)]\n",
    "max_depth.append(None)\n",
    "\n",
    "param_grid =  {'criterion': ['mse', 'mae', 'friedman_mse'],\n",
    "               'max_depth': max_depth, \n",
    "               'max_features': ['auto', 'sqrt', 'log2'],\n",
    "               'min_samples_leaf': np.arange(1,20),\n",
    "               'min_samples_split': np.arange(2,25),\n",
    "               }\n",
    "\n",
    "randomized = RandomizedSearchCV(decision_tree, param_grid, cv=3, scoring='r2', verbose=2, n_jobs=-1, refit=True)\n",
    "\n",
    "randomized.fit(X_train, y_train)\n",
    "\n",
    "randomized.best_estimator_\n",
    "\n",
    "print(randomized.best_params_)"
   ]
  },
  {
   "cell_type": "code",
   "execution_count": null,
   "metadata": {
    "ExecuteTime": {
     "end_time": "2020-09-20T13:41:02.635841Z",
     "start_time": "2020-09-20T13:41:02.604027Z"
    }
   },
   "outputs": [],
   "source": [
    "randomized_DTR = pd.DataFrame(randomized.cv_results_)\n",
    "randomized_DTR.to_csv('data/output_csv/randomized_DTR.csv')\n",
    "randomized_DTR.sort_values(by='rank_test_score', axis=0).head()"
   ]
  },
  {
   "cell_type": "markdown",
   "metadata": {},
   "source": [
    "#### GridSearchCV"
   ]
  },
  {
   "cell_type": "code",
   "execution_count": null,
   "metadata": {
    "ExecuteTime": {
     "end_time": "2020-09-20T11:58:49.094289Z",
     "start_time": "2020-09-20T11:58:40.351Z"
    }
   },
   "outputs": [],
   "source": [
    "decision_tree = DecisionTreeRegressor(random_state = 42)\n",
    "\n",
    "max_depth = [int(x) for x in np.linspace(10, 110, num = 11)]\n",
    "max_depth.append(None)\n",
    "\n",
    "param_grid =  {'criterion': ['mse', 'mae', 'friedman_mse'],\n",
    "               'max_depth': max_depth, \n",
    "               'max_features': ['auto', 'sqrt', 'log2'],\n",
    "               'min_samples_leaf': np.arange(1,20),\n",
    "               'min_samples_split': np.arange(2,25),\n",
    "               }\n",
    "\n",
    "grid = GridSearchCV(decision_tree, param_grid, cv=3, scoring='r2', verbose=2, n_jobs=-1, refit=True)\n",
    "\n",
    "grid.fit(X_train, y_train)\n",
    " \n",
    "grid.best_estimator_\n",
    "\n",
    "print(grid.best_params_)"
   ]
  },
  {
   "cell_type": "code",
   "execution_count": null,
   "metadata": {
    "ExecuteTime": {
     "end_time": "2020-09-20T11:58:49.095286Z",
     "start_time": "2020-09-20T11:58:40.353Z"
    }
   },
   "outputs": [],
   "source": [
    "grid_DTR = pd.DataFrame(grid.cv_results_)\n",
    "grid_DTR.to_csv('data/output_csv/grid_DTR.csv')\n",
    "grid_DTR.sort_values(by='rank_test_score', axis=0).head()"
   ]
  },
  {
   "cell_type": "markdown",
   "metadata": {},
   "source": [
    "### KNeighborsRegressor"
   ]
  },
  {
   "cell_type": "markdown",
   "metadata": {
    "colab": {},
    "colab_type": "code",
    "id": "YCKIrRo0sijL"
   },
   "source": [
    "#### RandomizedSearchCV"
   ]
  },
  {
   "cell_type": "code",
   "execution_count": 60,
   "metadata": {
    "ExecuteTime": {
     "end_time": "2020-09-20T13:23:56.811438Z",
     "start_time": "2020-09-20T13:23:32.278855Z"
    }
   },
   "outputs": [
    {
     "name": "stdout",
     "output_type": "stream",
     "text": [
      "Fitting 5 folds for each of 10 candidates, totalling 50 fits\n"
     ]
    },
    {
     "name": "stderr",
     "output_type": "stream",
     "text": [
      "[Parallel(n_jobs=2)]: Using backend LokyBackend with 2 concurrent workers.\n",
      "[Parallel(n_jobs=2)]: Done  37 tasks      | elapsed:   18.7s\n"
     ]
    },
    {
     "name": "stdout",
     "output_type": "stream",
     "text": [
      "{'weights': 'distance', 'n_neighbors': 10, 'metric': 'euclidean', 'leaf_size': 50, 'algorithm': 'kd_tree'}\n"
     ]
    },
    {
     "name": "stderr",
     "output_type": "stream",
     "text": [
      "[Parallel(n_jobs=2)]: Done  50 out of  50 | elapsed:   24.2s finished\n"
     ]
    }
   ],
   "source": [
    "kn_regressor = KNeighborsRegressor()\n",
    "\n",
    "n_neighbors = [int(x) for x in np.linspace(2, 20, num = 10)]\n",
    "\n",
    "leaf_size = [int(x) for x in np.linspace(10, 100, num = 10)]\n",
    "\n",
    "param_grid =  {'weights': ['uniform', 'distance'],\n",
    "               'n_neighbors': n_neighbors, \n",
    "               'algorithm': ['auto', 'ball_tree', 'kd_tree', 'brute'],\n",
    "               'metric' : ['euclidean', 'manhattan'],\n",
    "               'leaf_size': leaf_size,\n",
    "            }\n",
    "\n",
    "randomized = RandomizedSearchCV(kn_regressor, param_grid, cv=5, scoring='r2', verbose=2, n_jobs=-1, refit=True)\n",
    "\n",
    "randomized.fit(X_train, y_train)\n",
    "\n",
    "randomized.best_estimator_\n",
    "\n",
    "print(randomized.best_params_)"
   ]
  },
  {
   "cell_type": "code",
   "execution_count": 67,
   "metadata": {
    "ExecuteTime": {
     "end_time": "2020-09-20T13:36:35.051585Z",
     "start_time": "2020-09-20T13:36:35.032665Z"
    }
   },
   "outputs": [
    {
     "data": {
      "text/plain": [
       "Index(['mean_fit_time', 'std_fit_time', 'mean_score_time', 'std_score_time',\n",
       "       'param_weights', 'param_n_neighbors', 'param_metric', 'param_leaf_size',\n",
       "       'param_algorithm', 'params', 'split0_test_score', 'split1_test_score',\n",
       "       'split2_test_score', 'split3_test_score', 'split4_test_score',\n",
       "       'mean_test_score', 'std_test_score', 'rank_test_score'],\n",
       "      dtype='object')"
      ]
     },
     "execution_count": 67,
     "metadata": {},
     "output_type": "execute_result"
    }
   ],
   "source": [
    "randomized_KNR.columns"
   ]
  },
  {
   "cell_type": "code",
   "execution_count": 79,
   "metadata": {
    "ExecuteTime": {
     "end_time": "2020-09-20T13:41:02.635841Z",
     "start_time": "2020-09-20T13:41:02.604027Z"
    },
    "scrolled": true
   },
   "outputs": [
    {
     "data": {
      "text/html": [
       "<div>\n",
       "<style scoped>\n",
       "    .dataframe tbody tr th:only-of-type {\n",
       "        vertical-align: middle;\n",
       "    }\n",
       "\n",
       "    .dataframe tbody tr th {\n",
       "        vertical-align: top;\n",
       "    }\n",
       "\n",
       "    .dataframe thead th {\n",
       "        text-align: right;\n",
       "    }\n",
       "</style>\n",
       "<table border=\"1\" class=\"dataframe\">\n",
       "  <thead>\n",
       "    <tr style=\"text-align: right;\">\n",
       "      <th></th>\n",
       "      <th>mean_fit_time</th>\n",
       "      <th>std_fit_time</th>\n",
       "      <th>mean_score_time</th>\n",
       "      <th>std_score_time</th>\n",
       "      <th>param_weights</th>\n",
       "      <th>param_n_neighbors</th>\n",
       "      <th>param_metric</th>\n",
       "      <th>param_leaf_size</th>\n",
       "      <th>param_algorithm</th>\n",
       "      <th>params</th>\n",
       "      <th>split0_test_score</th>\n",
       "      <th>split1_test_score</th>\n",
       "      <th>split2_test_score</th>\n",
       "      <th>split3_test_score</th>\n",
       "      <th>split4_test_score</th>\n",
       "      <th>mean_test_score</th>\n",
       "      <th>std_test_score</th>\n",
       "      <th>rank_test_score</th>\n",
       "    </tr>\n",
       "  </thead>\n",
       "  <tbody>\n",
       "    <tr>\n",
       "      <th>8</th>\n",
       "      <td>0.068821</td>\n",
       "      <td>0.002594</td>\n",
       "      <td>0.561694</td>\n",
       "      <td>0.041393</td>\n",
       "      <td>distance</td>\n",
       "      <td>10</td>\n",
       "      <td>euclidean</td>\n",
       "      <td>50</td>\n",
       "      <td>kd_tree</td>\n",
       "      <td>{'weights': 'distance', 'n_neighbors': 10, 'me...</td>\n",
       "      <td>0.897769</td>\n",
       "      <td>0.897023</td>\n",
       "      <td>0.900171</td>\n",
       "      <td>0.906943</td>\n",
       "      <td>0.898506</td>\n",
       "      <td>0.900082</td>\n",
       "      <td>0.003585</td>\n",
       "      <td>1</td>\n",
       "    </tr>\n",
       "    <tr>\n",
       "      <th>6</th>\n",
       "      <td>0.068417</td>\n",
       "      <td>0.002325</td>\n",
       "      <td>0.504452</td>\n",
       "      <td>0.034335</td>\n",
       "      <td>uniform</td>\n",
       "      <td>6</td>\n",
       "      <td>euclidean</td>\n",
       "      <td>60</td>\n",
       "      <td>kd_tree</td>\n",
       "      <td>{'weights': 'uniform', 'n_neighbors': 6, 'metr...</td>\n",
       "      <td>0.894224</td>\n",
       "      <td>0.894222</td>\n",
       "      <td>0.900908</td>\n",
       "      <td>0.904509</td>\n",
       "      <td>0.898368</td>\n",
       "      <td>0.898446</td>\n",
       "      <td>0.003962</td>\n",
       "      <td>2</td>\n",
       "    </tr>\n",
       "    <tr>\n",
       "      <th>4</th>\n",
       "      <td>0.035713</td>\n",
       "      <td>0.000742</td>\n",
       "      <td>1.314293</td>\n",
       "      <td>0.133004</td>\n",
       "      <td>distance</td>\n",
       "      <td>14</td>\n",
       "      <td>euclidean</td>\n",
       "      <td>100</td>\n",
       "      <td>ball_tree</td>\n",
       "      <td>{'weights': 'distance', 'n_neighbors': 14, 'me...</td>\n",
       "      <td>0.893759</td>\n",
       "      <td>0.893914</td>\n",
       "      <td>0.896054</td>\n",
       "      <td>0.903749</td>\n",
       "      <td>0.894413</td>\n",
       "      <td>0.896378</td>\n",
       "      <td>0.003774</td>\n",
       "      <td>3</td>\n",
       "    </tr>\n",
       "    <tr>\n",
       "      <th>1</th>\n",
       "      <td>0.059634</td>\n",
       "      <td>0.004254</td>\n",
       "      <td>0.586045</td>\n",
       "      <td>0.035189</td>\n",
       "      <td>uniform</td>\n",
       "      <td>18</td>\n",
       "      <td>euclidean</td>\n",
       "      <td>70</td>\n",
       "      <td>kd_tree</td>\n",
       "      <td>{'weights': 'uniform', 'n_neighbors': 18, 'met...</td>\n",
       "      <td>0.886221</td>\n",
       "      <td>0.884748</td>\n",
       "      <td>0.887035</td>\n",
       "      <td>0.896227</td>\n",
       "      <td>0.884977</td>\n",
       "      <td>0.887842</td>\n",
       "      <td>0.004275</td>\n",
       "      <td>4</td>\n",
       "    </tr>\n",
       "    <tr>\n",
       "      <th>9</th>\n",
       "      <td>0.003989</td>\n",
       "      <td>0.000631</td>\n",
       "      <td>0.898397</td>\n",
       "      <td>0.037865</td>\n",
       "      <td>uniform</td>\n",
       "      <td>18</td>\n",
       "      <td>euclidean</td>\n",
       "      <td>80</td>\n",
       "      <td>brute</td>\n",
       "      <td>{'weights': 'uniform', 'n_neighbors': 18, 'met...</td>\n",
       "      <td>0.886221</td>\n",
       "      <td>0.884748</td>\n",
       "      <td>0.887035</td>\n",
       "      <td>0.896227</td>\n",
       "      <td>0.884977</td>\n",
       "      <td>0.887842</td>\n",
       "      <td>0.004275</td>\n",
       "      <td>4</td>\n",
       "    </tr>\n",
       "  </tbody>\n",
       "</table>\n",
       "</div>"
      ],
      "text/plain": [
       "   mean_fit_time  std_fit_time  mean_score_time  std_score_time param_weights  \\\n",
       "8       0.068821      0.002594         0.561694        0.041393      distance   \n",
       "6       0.068417      0.002325         0.504452        0.034335       uniform   \n",
       "4       0.035713      0.000742         1.314293        0.133004      distance   \n",
       "1       0.059634      0.004254         0.586045        0.035189       uniform   \n",
       "9       0.003989      0.000631         0.898397        0.037865       uniform   \n",
       "\n",
       "  param_n_neighbors param_metric param_leaf_size param_algorithm  \\\n",
       "8                10    euclidean              50         kd_tree   \n",
       "6                 6    euclidean              60         kd_tree   \n",
       "4                14    euclidean             100       ball_tree   \n",
       "1                18    euclidean              70         kd_tree   \n",
       "9                18    euclidean              80           brute   \n",
       "\n",
       "                                              params  split0_test_score  \\\n",
       "8  {'weights': 'distance', 'n_neighbors': 10, 'me...           0.897769   \n",
       "6  {'weights': 'uniform', 'n_neighbors': 6, 'metr...           0.894224   \n",
       "4  {'weights': 'distance', 'n_neighbors': 14, 'me...           0.893759   \n",
       "1  {'weights': 'uniform', 'n_neighbors': 18, 'met...           0.886221   \n",
       "9  {'weights': 'uniform', 'n_neighbors': 18, 'met...           0.886221   \n",
       "\n",
       "   split1_test_score  split2_test_score  split3_test_score  split4_test_score  \\\n",
       "8           0.897023           0.900171           0.906943           0.898506   \n",
       "6           0.894222           0.900908           0.904509           0.898368   \n",
       "4           0.893914           0.896054           0.903749           0.894413   \n",
       "1           0.884748           0.887035           0.896227           0.884977   \n",
       "9           0.884748           0.887035           0.896227           0.884977   \n",
       "\n",
       "   mean_test_score  std_test_score  rank_test_score  \n",
       "8         0.900082        0.003585                1  \n",
       "6         0.898446        0.003962                2  \n",
       "4         0.896378        0.003774                3  \n",
       "1         0.887842        0.004275                4  \n",
       "9         0.887842        0.004275                4  "
      ]
     },
     "execution_count": 79,
     "metadata": {},
     "output_type": "execute_result"
    }
   ],
   "source": [
    "randomized_KNR = pd.DataFrame(randomized.cv_results_)\n",
    "randomized_KNR.to_csv('data/output_csv/randomized_KNR.csv')\n",
    "randomized_KNR.sort_values(by='rank_test_score', axis=0).head()"
   ]
  },
  {
   "cell_type": "markdown",
   "metadata": {},
   "source": [
    "#### GridSearchCV"
   ]
  },
  {
   "cell_type": "code",
   "execution_count": 86,
   "metadata": {
    "ExecuteTime": {
     "end_time": "2020-09-20T13:54:40.280079Z",
     "start_time": "2020-09-20T13:50:58.285838Z"
    }
   },
   "outputs": [
    {
     "name": "stdout",
     "output_type": "stream",
     "text": [
      "Fitting 5 folds for each of 128 candidates, totalling 640 fits\n"
     ]
    },
    {
     "name": "stderr",
     "output_type": "stream",
     "text": [
      "[Parallel(n_jobs=-2)]: Using backend LokyBackend with 3 concurrent workers.\n",
      "[Parallel(n_jobs=-2)]: Done  35 tasks      | elapsed:    7.9s\n",
      "[Parallel(n_jobs=-2)]: Done 156 tasks      | elapsed:   33.8s\n",
      "[Parallel(n_jobs=-2)]: Done 359 tasks      | elapsed:  2.3min\n"
     ]
    },
    {
     "name": "stdout",
     "output_type": "stream",
     "text": [
      "{'algorithm': 'auto', 'leaf_size': 50, 'metric': 'euclidean', 'n_neighbors': 6, 'weights': 'distance'}\n"
     ]
    },
    {
     "name": "stderr",
     "output_type": "stream",
     "text": [
      "[Parallel(n_jobs=-2)]: Done 640 out of 640 | elapsed:  3.7min finished\n"
     ]
    }
   ],
   "source": [
    "kn_regressor = KNeighborsRegressor()\n",
    "\n",
    "param_grid =  {'weights': ['uniform', 'distance'],\n",
    "               'n_neighbors': [10, 6, 14, 4], \n",
    "               'algorithm': ['auto', 'ball_tree', 'kd_tree'],\n",
    "               'metric' : ['euclidean'],\n",
    "               'leaf_size': [50, 60, 100, 80],\n",
    "            }\n",
    "\n",
    "grid = GridSearchCV(kn_regressor, param_grid, cv=5, scoring='r2', verbose=2, n_jobs=-2, refit=True)\n",
    "\n",
    "grid.fit(X_train, y_train)\n",
    "\n",
    "grid.best_estimator_\n",
    "\n",
    "print(grid.best_params_)"
   ]
  },
  {
   "cell_type": "code",
   "execution_count": 85,
   "metadata": {
    "ExecuteTime": {
     "end_time": "2020-09-20T13:49:19.438905Z",
     "start_time": "2020-09-20T13:49:19.403029Z"
    }
   },
   "outputs": [
    {
     "data": {
      "text/html": [
       "<div>\n",
       "<style scoped>\n",
       "    .dataframe tbody tr th:only-of-type {\n",
       "        vertical-align: middle;\n",
       "    }\n",
       "\n",
       "    .dataframe tbody tr th {\n",
       "        vertical-align: top;\n",
       "    }\n",
       "\n",
       "    .dataframe thead th {\n",
       "        text-align: right;\n",
       "    }\n",
       "</style>\n",
       "<table border=\"1\" class=\"dataframe\">\n",
       "  <thead>\n",
       "    <tr style=\"text-align: right;\">\n",
       "      <th></th>\n",
       "      <th>mean_fit_time</th>\n",
       "      <th>std_fit_time</th>\n",
       "      <th>mean_score_time</th>\n",
       "      <th>std_score_time</th>\n",
       "      <th>param_weights</th>\n",
       "      <th>param_n_neighbors</th>\n",
       "      <th>param_metric</th>\n",
       "      <th>param_leaf_size</th>\n",
       "      <th>param_algorithm</th>\n",
       "      <th>params</th>\n",
       "      <th>split0_test_score</th>\n",
       "      <th>split1_test_score</th>\n",
       "      <th>split2_test_score</th>\n",
       "      <th>split3_test_score</th>\n",
       "      <th>split4_test_score</th>\n",
       "      <th>mean_test_score</th>\n",
       "      <th>std_test_score</th>\n",
       "      <th>rank_test_score</th>\n",
       "    </tr>\n",
       "  </thead>\n",
       "  <tbody>\n",
       "    <tr>\n",
       "      <th>6</th>\n",
       "      <td>0.071812</td>\n",
       "      <td>0.004545</td>\n",
       "      <td>0.664418</td>\n",
       "      <td>0.053456</td>\n",
       "      <td>distance</td>\n",
       "      <td>10</td>\n",
       "      <td>euclidean</td>\n",
       "      <td>50</td>\n",
       "      <td>kd_tree</td>\n",
       "      <td>{'weights': 'distance', 'n_neighbors': 10, 'me...</td>\n",
       "      <td>0.897769</td>\n",
       "      <td>0.897023</td>\n",
       "      <td>0.900171</td>\n",
       "      <td>0.906943</td>\n",
       "      <td>0.898506</td>\n",
       "      <td>0.900082</td>\n",
       "      <td>0.003585</td>\n",
       "      <td>1</td>\n",
       "    </tr>\n",
       "    <tr>\n",
       "      <th>9</th>\n",
       "      <td>0.061646</td>\n",
       "      <td>0.002317</td>\n",
       "      <td>0.581852</td>\n",
       "      <td>0.018716</td>\n",
       "      <td>distance</td>\n",
       "      <td>10</td>\n",
       "      <td>euclidean</td>\n",
       "      <td>80</td>\n",
       "      <td>auto</td>\n",
       "      <td>{'weights': 'distance', 'n_neighbors': 10, 'me...</td>\n",
       "      <td>0.897769</td>\n",
       "      <td>0.897023</td>\n",
       "      <td>0.900171</td>\n",
       "      <td>0.906943</td>\n",
       "      <td>0.898506</td>\n",
       "      <td>0.900082</td>\n",
       "      <td>0.003585</td>\n",
       "      <td>1</td>\n",
       "    </tr>\n",
       "    <tr>\n",
       "      <th>3</th>\n",
       "      <td>0.062238</td>\n",
       "      <td>0.001623</td>\n",
       "      <td>0.554917</td>\n",
       "      <td>0.032689</td>\n",
       "      <td>uniform</td>\n",
       "      <td>6</td>\n",
       "      <td>euclidean</td>\n",
       "      <td>80</td>\n",
       "      <td>kd_tree</td>\n",
       "      <td>{'weights': 'uniform', 'n_neighbors': 6, 'metr...</td>\n",
       "      <td>0.894224</td>\n",
       "      <td>0.894222</td>\n",
       "      <td>0.900908</td>\n",
       "      <td>0.904509</td>\n",
       "      <td>0.898368</td>\n",
       "      <td>0.898446</td>\n",
       "      <td>0.003962</td>\n",
       "      <td>3</td>\n",
       "    </tr>\n",
       "    <tr>\n",
       "      <th>8</th>\n",
       "      <td>0.003989</td>\n",
       "      <td>0.000631</td>\n",
       "      <td>1.078117</td>\n",
       "      <td>0.070890</td>\n",
       "      <td>uniform</td>\n",
       "      <td>6</td>\n",
       "      <td>euclidean</td>\n",
       "      <td>80</td>\n",
       "      <td>brute</td>\n",
       "      <td>{'weights': 'uniform', 'n_neighbors': 6, 'metr...</td>\n",
       "      <td>0.894224</td>\n",
       "      <td>0.894222</td>\n",
       "      <td>0.900908</td>\n",
       "      <td>0.904509</td>\n",
       "      <td>0.898368</td>\n",
       "      <td>0.898446</td>\n",
       "      <td>0.003962</td>\n",
       "      <td>3</td>\n",
       "    </tr>\n",
       "    <tr>\n",
       "      <th>2</th>\n",
       "      <td>0.039693</td>\n",
       "      <td>0.001466</td>\n",
       "      <td>1.625865</td>\n",
       "      <td>0.100450</td>\n",
       "      <td>uniform</td>\n",
       "      <td>4</td>\n",
       "      <td>euclidean</td>\n",
       "      <td>100</td>\n",
       "      <td>ball_tree</td>\n",
       "      <td>{'weights': 'uniform', 'n_neighbors': 4, 'metr...</td>\n",
       "      <td>0.895609</td>\n",
       "      <td>0.894491</td>\n",
       "      <td>0.897877</td>\n",
       "      <td>0.903714</td>\n",
       "      <td>0.896976</td>\n",
       "      <td>0.897733</td>\n",
       "      <td>0.003206</td>\n",
       "      <td>5</td>\n",
       "    </tr>\n",
       "  </tbody>\n",
       "</table>\n",
       "</div>"
      ],
      "text/plain": [
       "   mean_fit_time  std_fit_time  mean_score_time  std_score_time param_weights  \\\n",
       "6       0.071812      0.004545         0.664418        0.053456      distance   \n",
       "9       0.061646      0.002317         0.581852        0.018716      distance   \n",
       "3       0.062238      0.001623         0.554917        0.032689       uniform   \n",
       "8       0.003989      0.000631         1.078117        0.070890       uniform   \n",
       "2       0.039693      0.001466         1.625865        0.100450       uniform   \n",
       "\n",
       "  param_n_neighbors param_metric param_leaf_size param_algorithm  \\\n",
       "6                10    euclidean              50         kd_tree   \n",
       "9                10    euclidean              80            auto   \n",
       "3                 6    euclidean              80         kd_tree   \n",
       "8                 6    euclidean              80           brute   \n",
       "2                 4    euclidean             100       ball_tree   \n",
       "\n",
       "                                              params  split0_test_score  \\\n",
       "6  {'weights': 'distance', 'n_neighbors': 10, 'me...           0.897769   \n",
       "9  {'weights': 'distance', 'n_neighbors': 10, 'me...           0.897769   \n",
       "3  {'weights': 'uniform', 'n_neighbors': 6, 'metr...           0.894224   \n",
       "8  {'weights': 'uniform', 'n_neighbors': 6, 'metr...           0.894224   \n",
       "2  {'weights': 'uniform', 'n_neighbors': 4, 'metr...           0.895609   \n",
       "\n",
       "   split1_test_score  split2_test_score  split3_test_score  split4_test_score  \\\n",
       "6           0.897023           0.900171           0.906943           0.898506   \n",
       "9           0.897023           0.900171           0.906943           0.898506   \n",
       "3           0.894222           0.900908           0.904509           0.898368   \n",
       "8           0.894222           0.900908           0.904509           0.898368   \n",
       "2           0.894491           0.897877           0.903714           0.896976   \n",
       "\n",
       "   mean_test_score  std_test_score  rank_test_score  \n",
       "6         0.900082        0.003585                1  \n",
       "9         0.900082        0.003585                1  \n",
       "3         0.898446        0.003962                3  \n",
       "8         0.898446        0.003962                3  \n",
       "2         0.897733        0.003206                5  "
      ]
     },
     "execution_count": 85,
     "metadata": {},
     "output_type": "execute_result"
    }
   ],
   "source": [
    "grid_KNR = pd.DataFrame(grid.cv_results_)\n",
    "grid_KNR.to_csv('data/output_csv/grid_KNR.csv')\n",
    "grid_KNR.sort_values(by='rank_test_score', axis=0).head()"
   ]
  },
  {
   "cell_type": "markdown",
   "metadata": {
    "colab_type": "text",
    "id": "vWRJX_SxxlcE"
   },
   "source": [
    "## Build an ensamble\n",
    "\n",
    "Build an ensamble with the best fine-tuned models and evaluate its performance."
   ]
  },
  {
   "cell_type": "code",
   "execution_count": null,
   "metadata": {
    "ExecuteTime": {
     "end_time": "2020-09-20T11:58:49.102268Z",
     "start_time": "2020-09-20T11:58:40.368Z"
    },
    "colab": {},
    "colab_type": "code",
    "id": "4X7-fOc341jT"
   },
   "outputs": [],
   "source": [
    "# build an ensamble"
   ]
  },
  {
   "cell_type": "markdown",
   "metadata": {
    "colab_type": "text",
    "id": "Eex_PTNSyUd_"
   },
   "source": [
    "## Optional\n",
    "\n",
    "For extra points try to:\n",
    "\n",
    "- Implement custom transformers for feature selection and feature engineering.\n",
    "- Include the data preparation and custom transformers in the fine-tuning pipeline to come up with the best set of features and data preparation strategies.\n",
    "- Perform error analysis to select the models that make the most diverse type of errors for the ensambling.\n",
    "- Do anything that teach us something new !"
   ]
  },
  {
   "cell_type": "code",
   "execution_count": null,
   "metadata": {
    "ExecuteTime": {
     "end_time": "2020-09-20T11:58:49.103267Z",
     "start_time": "2020-09-20T11:58:40.371Z"
    },
    "colab": {},
    "colab_type": "code",
    "id": "w55W2tH65pGf"
   },
   "outputs": [],
   "source": [
    "# show your skills !"
   ]
  }
 ],
 "metadata": {
  "colab": {
   "collapsed_sections": [],
   "name": "test_ml.ipynb",
   "provenance": [],
   "toc_visible": true
  },
  "kernelspec": {
   "display_name": "Python 3",
   "language": "python",
   "name": "python3"
  },
  "language_info": {
   "codemirror_mode": {
    "name": "ipython",
    "version": 3
   },
   "file_extension": ".py",
   "mimetype": "text/x-python",
   "name": "python",
   "nbconvert_exporter": "python",
   "pygments_lexer": "ipython3",
   "version": "3.7.7"
  },
  "toc": {
   "base_numbering": 1,
   "nav_menu": {},
   "number_sections": true,
   "sideBar": true,
   "skip_h1_title": false,
   "title_cell": "Table of Contents",
   "title_sidebar": "Contents",
   "toc_cell": false,
   "toc_position": {},
   "toc_section_display": true,
   "toc_window_display": false
  },
  "varInspector": {
   "cols": {
    "lenName": 16,
    "lenType": 16,
    "lenVar": 40
   },
   "kernels_config": {
    "python": {
     "delete_cmd_postfix": "",
     "delete_cmd_prefix": "del ",
     "library": "var_list.py",
     "varRefreshCmd": "print(var_dic_list())"
    },
    "r": {
     "delete_cmd_postfix": ") ",
     "delete_cmd_prefix": "rm(",
     "library": "var_list.r",
     "varRefreshCmd": "cat(var_dic_list()) "
    }
   },
   "types_to_exclude": [
    "module",
    "function",
    "builtin_function_or_method",
    "instance",
    "_Feature"
   ],
   "window_display": false
  }
 },
 "nbformat": 4,
 "nbformat_minor": 1
}
